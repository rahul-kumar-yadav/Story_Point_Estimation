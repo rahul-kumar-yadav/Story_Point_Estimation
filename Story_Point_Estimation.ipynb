{
  "nbformat": 4,
  "nbformat_minor": 0,
  "metadata": {
    "colab": {
      "name": "Story_Point_Estimation.ipynb",
      "provenance": [],
      "collapsed_sections": [],
      "authorship_tag": "ABX9TyPe/4cXQdbm+dWEqbhIEqhw",
      "include_colab_link": true
    },
    "kernelspec": {
      "name": "python3",
      "display_name": "Python 3"
    }
  },
  "cells": [
    {
      "cell_type": "markdown",
      "metadata": {
        "id": "view-in-github",
        "colab_type": "text"
      },
      "source": [
        "<a href=\"https://colab.research.google.com/github/rahul-kumar-yadav/Story_Point_Estimation/blob/main_/Story_Point_Estimation.ipynb\" target=\"_parent\"><img src=\"https://colab.research.google.com/assets/colab-badge.svg\" alt=\"Open In Colab\"/></a>"
      ]
    },
    {
      "cell_type": "code",
      "metadata": {
        "id": "xTz_FwbcrYq1",
        "colab": {
          "base_uri": "https://localhost:8080/",
          "height": 1000
        },
        "outputId": "3fc0e13c-add6-42cd-cb92-f53244b15309"
      },
      "source": [
        "# multi-class classification with Keras\r\n",
        "\r\n",
        "# !pip install word2vec-keras\r\n",
        "import pandas\r\n",
        "from keras.models import Sequential\r\n",
        "from keras.layers import Dense\r\n",
        "from keras.wrappers.scikit_learn import KerasClassifier\r\n",
        "from keras.utils import np_utils\r\n",
        "from sklearn.model_selection import cross_val_score\r\n",
        "from sklearn.model_selection import KFold\r\n",
        "from sklearn.preprocessing import LabelEncoder\r\n",
        "from sklearn.pipeline import Pipeline\r\n",
        "from tensorflow.keras.preprocessing.text import Tokenizer\r\n",
        "from tensorflow.keras.layers import Embedding, LSTM, Dense\r\n",
        "from tensorflow.keras.preprocessing.sequence import pad_sequences\r\n",
        "from sklearn.model_selection import train_test_split\r\n",
        "from sklearn.compose import make_column_transformer\r\n",
        "from sklearn.preprocessing import StandardScaler, OneHotEncoder\r\n",
        "# load dataset\r\n",
        "import pandas as pd\r\n",
        "import numpy as np\r\n",
        "import re\r\n",
        "import nltk\r\n",
        "nltk.download('stopwords')\r\n",
        "nltk.download('wordnet')\r\n",
        "from nltk.corpus import stopwords\r\n",
        "import string\r\n",
        "# from word2vec_keras import Word2VecKeras\r\n",
        "# Word2vec\r\n",
        "import gensim\r\n",
        "\r\n",
        "# Scikit learn\r\n",
        "from sklearn.preprocessing import LabelEncoder\r\n",
        "from sklearn.metrics import confusion_matrix, classification_report, accuracy_score\r\n",
        "\r\n",
        "# Keras\r\n",
        "from tensorflow import keras\r\n",
        "from keras.models import Sequential, load_model\r\n",
        "from keras.layers import Dense, Dropout, Embedding, LSTM\r\n",
        "from keras import utils\r\n",
        "from keras.preprocessing.text import Tokenizer\r\n",
        "from keras.callbacks import EarlyStopping, ReduceLROnPlateau\r\n",
        "\r\n",
        "# Utility\r\n",
        "import numpy as np\r\n",
        "import tarfile\r\n",
        "import pickle\r\n",
        "import tempfile\r\n",
        "import os\r\n",
        "import time\r\n",
        "import logging\r\n",
        "import multiprocessing\r\n",
        "\r\n",
        "logging.basicConfig(format='%(asctime)s : %(levelname)s : %(message)s', level=logging.INFO)\r\n",
        "\r\n",
        "\r\n",
        "\r\n",
        "\r\n",
        "df = pd.read_csv(\"jirasoftware.csv\", usecols=['issuekey', 'title', 'description', 'storypoint'])\r\n",
        "# df.isnull().sum()\r\n",
        "\t\r\n",
        "df = df.dropna(how='any')\r\n",
        "\r\n",
        "df.head()\r\n",
        "\r\n",
        "df.loc[df.storypoint <= 3, 'storypoint'] = 0 #small\r\n",
        "df.loc[(df.storypoint > 3) & (df.storypoint <= 8), 'storypoint'] = 1 #medium\r\n",
        "df.loc[df.storypoint > 8, 'storypoint'] = 2 #big\r\n",
        "htmltokens = ['{html}','<div>','<pre>','<p>', '</div>','</pre>','</p>']\r\n",
        "\r\n",
        "def removeHtml(text):\r\n",
        "  for w in htmltokens:\r\n",
        "        text = text.replace(w, '')\r\n",
        "  return text\r\n",
        "df['description'] = df[\"description\"].apply(lambda x: re.sub(r'http\\S+','',x))\r\n",
        "def cleanData(text):\r\n",
        "  result = ''\r\n",
        "  str1=\"\"\r\n",
        "  list1=[]\r\n",
        "  for c in text:\r\n",
        "    if c not in string.punctuation:\r\n",
        "      list1.append(c)\r\n",
        "      str1 = \"\".join(list1)\r\n",
        "    else:\r\n",
        "      list1.append(\" \")\r\n",
        "      str1 = \"\".join(list1)\r\n",
        "  \r\n",
        "  char_string = ' '.join([w for w in str1.split() if len(w) > 2])\r\n",
        "\r\n",
        "\r\n",
        "  text_words = char_string.split()\r\n",
        "  resultwords=[word for word in text_words if word not in stopwords.words('english')]\r\n",
        "\r\n",
        "  if len(resultwords) > 0:\r\n",
        "    result=' '.join(resultwords)\r\n",
        "  else:\r\n",
        "    print(\"empty text\")\r\n",
        "  return result\r\n",
        "\r\n",
        "\r\n",
        "df['label_title_desc'] = df['title'].str.lower() + ' - ' + df['description'].str.lower()\r\n",
        "df['label_title_desc'] = df['label_title_desc'].apply(lambda x:removeHtml(str(x)))\r\n",
        "df['title_desc'] = df['label_title_desc'].apply(lambda x: cleanData(str(x)))\r\n",
        "# from nltk.stem import WordNetLemmatizer\r\n",
        "\r\n",
        "# lemmatizer = WordNetLemmatizer()\r\n",
        "\r\n",
        "# def word_lemmatizer(text):\r\n",
        "# \tlemm_text=\"\".join([lemmatizer.lemmatize(i) for i in text])\r\n",
        "# \treturn lemm_text\r\n",
        "\r\n",
        "# df['title_desc'] = df['title_desc'].apply(lambda x: word_lemmatizer(str(x)))\r\n",
        "df = df.reset_index(drop=True)\r\n",
        "# print(df.columns)\r\n",
        "# df_updated = pd.DataFrame(columns = ['title'])\r\n",
        "# df_updated['title'] = df['title_desc']\r\n",
        "X_train, X_test, y_train, y_test = train_test_split(df['title_desc'], df['storypoint'], train_size=0.8, random_state=42)\r\n",
        "\r\n",
        "from collections import Counter\r\n",
        "\r\n",
        "def SimpleOverSample(_xtrain, _ytrain):\r\n",
        "    xtrain = list(_xtrain)\r\n",
        "    ytrain = list(_ytrain)\r\n",
        "\r\n",
        "    samples_counter = Counter(ytrain)\r\n",
        "    max_samples = sorted(samples_counter.values(), reverse=True)[0]\r\n",
        "    for sc in samples_counter:\r\n",
        "        init_samples = samples_counter[sc]\r\n",
        "        samples_to_add = max_samples - init_samples\r\n",
        "        if samples_to_add > 0:\r\n",
        "            #collect indices to oversample for the current class\r\n",
        "            index = list()\r\n",
        "            for i in range(len(ytrain)):\r\n",
        "                if(ytrain[i] == sc):\r\n",
        "                    index.append(i)\r\n",
        "            #select samples to copy for the current class    \r\n",
        "            copy_from = [xtrain[i] for i in index]\r\n",
        "            index_copy = 0\r\n",
        "            for i in range(samples_to_add):\r\n",
        "                xtrain.append(copy_from[index_copy % len(copy_from)])\r\n",
        "                ytrain.append(sc)\r\n",
        "                index_copy += 1\r\n",
        "    return xtrain, ytrain\r\n",
        "\r\n",
        "xtrain,ytrain = SimpleOverSample(X_train, y_train)\r\n",
        "print(xtrain)\r\n",
        "print(ytrain)\r\n",
        "xtest = list(X_test)\r\n",
        "ytest = list(y_test)\r\n",
        "print(xtest)\r\n",
        "print(ytest)\r\n",
        "\r\n",
        "\r\n",
        "class Word2VecKeras(object):\r\n",
        "    \"\"\"\r\n",
        "    Combine word2vec with keras model in order to build strong text classifier\r\n",
        "    \"\"\"\r\n",
        "\r\n",
        "    def __init__(self):\r\n",
        "        \"\"\"\r\n",
        "        Initialize empty classifier\r\n",
        "        \"\"\"\r\n",
        "        print(\"test\")\r\n",
        "        self.w2v_size = None\r\n",
        "        self.w2v_window = None\r\n",
        "        self.w2v_min_count = None\r\n",
        "        self.w2v_epochs = None\r\n",
        "        self.label_encoder = None\r\n",
        "        self.num_classes = None\r\n",
        "        self.tokenizer = None\r\n",
        "        self.k_max_sequence_len = None\r\n",
        "        self.k_batch_size = None\r\n",
        "        self.k_epochs = None\r\n",
        "        self.k_lstm_neurons = None\r\n",
        "        self.k_hidden_layer_neurons = None\r\n",
        "        self.w2v_model = None\r\n",
        "        self.k_model = None\r\n",
        "\r\n",
        "    def train(self, x_train, y_train, x_test, y_test, w2v_size=300, w2v_window=5, w2v_min_count=1,\r\n",
        "              w2v_epochs=100, k_max_sequence_len=500, k_batch_size=128, k_epochs=32, k_lstm_neurons=128,\r\n",
        "              k_hidden_layer_neurons=(128, 64, 32), verbose=1):\r\n",
        "        \"\"\"\r\n",
        "        Train new Word2Vec & Keras model\r\n",
        "        :param x_train: list of sentence\r\n",
        "        :param y_train: list of labels\r\n",
        "        :param w2v_size: Word2Vec vector size\r\n",
        "        :param w2v_window: Word2Vec windows size\r\n",
        "        :param w2v_min_count: Word2Vec min word count\r\n",
        "        :param w2v_epochs: Word2Vec epochs number\r\n",
        "        :param k_max_sequence_len: Max sequence length\r\n",
        "        :param k_batch_size: Keras training batch size\r\n",
        "        :param k_epochs: Keras epochs number\r\n",
        "        :param k_lstm_neurons: neurons number for Keras LSTM layer\r\n",
        "        :param k_hidden_layer_neurons: array of keras hidden layers\r\n",
        "        :param verbose: Verbosity\r\n",
        "        \"\"\"\r\n",
        "        # Set variables\r\n",
        "        self.w2v_size = w2v_size\r\n",
        "        self.w2v_window = w2v_window\r\n",
        "        self.w2v_min_count = w2v_min_count\r\n",
        "        self.w2v_epochs = w2v_epochs\r\n",
        "        self.k_max_sequence_len = k_max_sequence_len\r\n",
        "        self.k_batch_size = k_batch_size\r\n",
        "        self.k_epochs = k_epochs\r\n",
        "        self.k_lstm_neurons = k_lstm_neurons\r\n",
        "        self.k_hidden_layer_neurons = k_hidden_layer_neurons\r\n",
        "        print(\"working\")\r\n",
        "        logging.info(\"workkkk\")\r\n",
        "        # split text in tokens\r\n",
        "        x_train = [gensim.utils.simple_preprocess(text) for text in x_train]\r\n",
        "        x_test = [gensim.utils.simple_preprocess(text) for text in x_test]\r\n",
        "\r\n",
        "        logging.info(\"Build & train Word2Vec model\")\r\n",
        "        self.w2v_model = gensim.models.Word2Vec(min_count=self.w2v_min_count, window=self.w2v_window,\r\n",
        "                                                size=self.w2v_size,\r\n",
        "                                                workers=multiprocessing.cpu_count())\r\n",
        "        self.w2v_model.build_vocab(x_train)\r\n",
        "        self.w2v_model.train(x_train, total_examples=self.w2v_model.corpus_count, epochs=self.w2v_epochs)\r\n",
        "        w2v_words = list(self.w2v_model.wv.vocab)\r\n",
        "        logging.info(\"Vocabulary size: %i\" % len(w2v_words))\r\n",
        "        logging.info(\"Word2Vec trained\")\r\n",
        "\r\n",
        "        logging.info(\"Fit LabelEncoder\")\r\n",
        "        self.label_encoder = LabelEncoder()\r\n",
        "        y_train = self.label_encoder.fit_transform(y_train)\r\n",
        "        self.num_classes = len(self.label_encoder.classes_)\r\n",
        "        y_train = utils.to_categorical(y_train, self.num_classes)\r\n",
        "\r\n",
        "        y_test = self.label_encoder.fit_transform(y_test)\r\n",
        "        self.num_classes = len(self.label_encoder.classes_)\r\n",
        "        y_test = utils.to_categorical(y_test, self.num_classes)\r\n",
        "\r\n",
        "\r\n",
        "        logging.info(\"Fit Tokenizer\")\r\n",
        "        self.tokenizer = Tokenizer()\r\n",
        "        self.tokenizer.fit_on_texts(x_train)\r\n",
        "        self.tokenizer.fit_on_texts(x_test)\r\n",
        "        x_train = keras.preprocessing.sequence.pad_sequences(self.tokenizer.texts_to_sequences(x_train),\r\n",
        "                                                             maxlen=self.k_max_sequence_len)\r\n",
        "        x_test = keras.preprocessing.sequence.pad_sequences(self.tokenizer.texts_to_sequences(x_test),\r\n",
        "                                                             maxlen=self.k_max_sequence_len)\r\n",
        "        num_words = len(self.tokenizer.word_index) + 1\r\n",
        "        logging.info(\"Number of unique words: %i\" % num_words)\r\n",
        "\r\n",
        "        logging.info(\"Create Embedding matrix\")\r\n",
        "        word_index = self.tokenizer.word_index\r\n",
        "        vocab_size = len(word_index) + 1\r\n",
        "        embedding_matrix = np.zeros((vocab_size, self.w2v_size))\r\n",
        "        for word, idx in word_index.items():\r\n",
        "            if word in w2v_words:\r\n",
        "                embedding_vector = self.w2v_model.wv.get_vector(word)\r\n",
        "                if embedding_vector is not None:\r\n",
        "                    embedding_matrix[idx] = self.w2v_model.wv[word]\r\n",
        "        logging.info(\"Embedding matrix: %s\" % str(embedding_matrix.shape))\r\n",
        "\r\n",
        "        logging.info(\"Build Keras model\")\r\n",
        "        logging.info('x_train shape: %s' % str(x_train.shape))\r\n",
        "        logging.info('y_train shape: %s' % str(y_train.shape))\r\n",
        "        logging.info('x_train shape: %s' % str(x_test.shape))\r\n",
        "        logging.info('y_train shape: %s' % str(y_test.shape))\r\n",
        "\r\n",
        "        self.k_model = Sequential()\r\n",
        "        self.k_model.add(Embedding(vocab_size,\r\n",
        "                                   self.w2v_size,\r\n",
        "                                   weights=[embedding_matrix],\r\n",
        "                                   input_length=self.k_max_sequence_len,\r\n",
        "                                   trainable=False))\r\n",
        "        self.k_model.add(LSTM(self.k_lstm_neurons, dropout=0.5, recurrent_dropout=0.2))\r\n",
        "        for hidden_layer in self.k_hidden_layer_neurons:\r\n",
        "            self.k_model.add(Dense(hidden_layer, activation='relu'))\r\n",
        "            self.k_model.add(Dropout(0.2))\r\n",
        "        if self.num_classes > 1:\r\n",
        "            self.k_model.add(Dense(self.num_classes, activation='softmax'))\r\n",
        "        else:\r\n",
        "            self.k_model.add(Dense(self.num_classes, activation='sigmoid'))\r\n",
        "\r\n",
        "        self.k_model.compile(loss='categorical_crossentropy' if self.num_classes > 1 else 'binary_crossentropy',\r\n",
        "                             optimizer='adam',\r\n",
        "                             metrics=['accuracy'])\r\n",
        "        logging.info(self.k_model.summary())\r\n",
        "\r\n",
        "        # Callbacks\r\n",
        "        early_stopping = EarlyStopping(patience=50, min_delta=0.001, restore_best_weights=True)\r\n",
        "        rop = ReduceLROnPlateau(monitor='acc', factor=0.1, patience=3, verbose=1, epsilon=1e-4, mode='max')\r\n",
        "        callbacks = [early_stopping, rop]\r\n",
        "\r\n",
        "        logging.info(\"Fit Keras model\")\r\n",
        "        history = self.k_model.fit(x_train, y_train, \r\n",
        "                         validation_data=(x_test,y_test),\r\n",
        "                         batch_size=self.k_batch_size,\r\n",
        "                         epochs=self.k_epochs,\r\n",
        "                         callbacks=callbacks,\r\n",
        "                         verbose=verbose)\r\n",
        "\r\n",
        "        logging.info(\"Done\")\r\n",
        "        history_df = pd.DataFrame(history.history)\r\n",
        "        print(history_df.columns)\r\n",
        "        print(history_df)\r\n",
        "        history_df.loc[:, ['loss', 'val_loss']].plot(title=\"Categprical_Cross-entropy\")\r\n",
        "        history_df.loc[:, ['accuracy', 'val_accuracy']].plot(title=\"Accuracy\")\r\n",
        "        return history\r\n",
        "\r\n",
        "    def predict(self, text, threshold=.0):\r\n",
        "        \"\"\"\r\n",
        "        Predict raw text label\r\n",
        "        :param text: raw text\r\n",
        "        :param threshold: cut-off threshold, if confidence il less than given value return __OTHER__ as label\r\n",
        "        :return: {label: LABEL, confidence: CONFIDENCE, elapsed_time: TIME}\r\n",
        "        \"\"\"\r\n",
        "        if not self.k_model or not self.w2v_model:\r\n",
        "            raise RuntimeError(\"Model not in memory, please load it train new model\")\r\n",
        "        start_at = time.time()\r\n",
        "        x_test = keras.preprocessing.sequence.pad_sequences(\r\n",
        "            self.tokenizer.texts_to_sequences(gensim.utils.simple_preprocess(text)),\r\n",
        "            maxlen=self.k_max_sequence_len)\r\n",
        "        # Predict\r\n",
        "        confidences = self.k_model.predict(x_test)[0]\r\n",
        "        # Get mex prediction\r\n",
        "        idx = np.argmax(confidences)\r\n",
        "        elapsed_time = time.time() - start_at\r\n",
        "        if float(confidences[idx]) > threshold:\r\n",
        "            return {\"label\": self.label_encoder.classes_[idx], \"confidence\": float(confidences[idx]),\r\n",
        "                    \"elapsed_time\": elapsed_time}\r\n",
        "        return {\"label\": \"__OTHER__\", \"confidence\": float(confidences[idx]), \"elapsed_time\": elapsed_time}\r\n",
        "\r\n",
        "    def evaluate(self, x_test, y_test):\r\n",
        "        \"\"\"\r\n",
        "        Evaluate Model with several KPI\r\n",
        "        :param x_test: Text to test\r\n",
        "        :param y_test: labels for text\r\n",
        "        :return: dictionary with KPIs\r\n",
        "        \"\"\"\r\n",
        "        result = {}\r\n",
        "        results = []\r\n",
        "        # Prepare test\r\n",
        "        x_test = [gensim.utils.simple_preprocess(text) for text in x_test]\r\n",
        "        x_test = keras.preprocessing.sequence.pad_sequences(\r\n",
        "            self.tokenizer.texts_to_sequences(x_test),\r\n",
        "            maxlen=self.k_max_sequence_len)\r\n",
        "\r\n",
        "        # Predict\r\n",
        "        # confidences = self.k_model.predict(x_test, verbose=1)\r\n",
        "        confidences = self.k_model.predict(x_test, verbose=1)\r\n",
        "        y_pred_1d = []\r\n",
        "\r\n",
        "        for confidence in confidences:\r\n",
        "            idx = np.argmax(confidence)\r\n",
        "            y_pred_1d.append(self.label_encoder.classes_[idx])\r\n",
        "\r\n",
        "        y_pred_bin = []\r\n",
        "        for i in range(0, len(results)):\r\n",
        "            y_pred_bin.append(1 if y_pred_1d[i] == y_test[i] else 0)\r\n",
        "\r\n",
        "        # Classification report\r\n",
        "        result[\"CLASSIFICATION_REPORT\"] = classification_report(y_test, y_pred_1d, output_dict=True)\r\n",
        "\r\n",
        "        # Confusion matrix\r\n",
        "        result[\"CONFUSION_MATRIX\"] = confusion_matrix(y_test, y_pred_1d)\r\n",
        "\r\n",
        "        # Accuracy\r\n",
        "        result[\"ACCURACY\"] = accuracy_score(y_test, y_pred_1d)\r\n",
        "\r\n",
        "        return result\r\n",
        "\r\n",
        "    def save(self, path=\"word2vec_keras.tar.gz\"):\r\n",
        "        \"\"\"\r\n",
        "        Save all models in pickles file\r\n",
        "        :param path: path to save\r\n",
        "        \"\"\"\r\n",
        "        tokenizer_path = os.path.join(tempfile.gettempdir(), \"tokenizer.pkl\")\r\n",
        "        label_encoder_path = os.path.join(tempfile.gettempdir(), \"label_encoder.pkl\")\r\n",
        "        params_path = os.path.join(tempfile.gettempdir(), \"params.pkl\")\r\n",
        "        keras_path = os.path.join(tempfile.gettempdir(), \"model.h5\")\r\n",
        "        w2v_path = os.path.join(tempfile.gettempdir(), \"model.w2v\")\r\n",
        "\r\n",
        "        # Dump pickle\r\n",
        "        pickle.dump(self.tokenizer, open(tokenizer_path, \"wb\"))\r\n",
        "        pickle.dump(self.label_encoder, open(label_encoder_path, \"wb\"))\r\n",
        "        pickle.dump(self.__attributes__(), open(params_path, \"wb\"))\r\n",
        "        pickle.dump(self.w2v_model, open(w2v_path, \"wb\"))\r\n",
        "        self.k_model.save(keras_path)\r\n",
        "        # self.w2v_model.save(w2v_path)\r\n",
        "\r\n",
        "        # Create Tar file\r\n",
        "        tar = tarfile.open(path, \"w:gz\")\r\n",
        "        for name in [tokenizer_path, label_encoder_path, params_path, keras_path, w2v_path]:\r\n",
        "            tar.add(name, arcname=os.path.basename(name))\r\n",
        "        tar.close()\r\n",
        "\r\n",
        "        # Remove temp file\r\n",
        "        for name in [tokenizer_path, label_encoder_path, params_path, keras_path, w2v_path]:\r\n",
        "            os.remove(name)\r\n",
        "\r\n",
        "    def load(self, path):\r\n",
        "        \"\"\"\r\n",
        "        Load all attributes from path\r\n",
        "        :param path: tar.gz dump\r\n",
        "        \"\"\"\r\n",
        "        # Open tarfile\r\n",
        "        tar = tarfile.open(mode=\"r:gz\", fileobj=open(path, \"rb\"))\r\n",
        "\r\n",
        "        # Iterate over every member\r\n",
        "        for filename in tar.getnames():\r\n",
        "            if filename == \"model.h5\":\r\n",
        "                self.k_model = load_model(tar.extractfile(filename))\r\n",
        "            if filename == \"model.w2v\":\r\n",
        "                self.w2v_model = pickle.loads(tar.extractfile(filename).read())\r\n",
        "            if filename == \"tokenizer.pkl\":\r\n",
        "                self.tokenizer = pickle.loads(tar.extractfile(filename).read())\r\n",
        "            if filename == \"label_encoder.pkl\":\r\n",
        "                self.label_encoder = pickle.loads(tar.extractfile(filename).read())\r\n",
        "            if filename == \"params.pkl\":\r\n",
        "                params = pickle.loads(tar.extractfile(filename).read())\r\n",
        "                for k, v in params.items():\r\n",
        "                    self.__setattr__(k, v)\r\n",
        "\r\n",
        "    def __attributes__(self):\r\n",
        "        \"\"\"\r\n",
        "        Attributes to dump\r\n",
        "        :return: dictionary\r\n",
        "        \"\"\"\r\n",
        "        return {\r\n",
        "            \"w2v_size\": self.w2v_size,\r\n",
        "            \"w2v_window\": self.w2v_window,\r\n",
        "            \"w2v_min_count\": self.w2v_min_count,\r\n",
        "            \"w2v_epochs\": self.w2v_epochs,\r\n",
        "            \"num_classes\": self.num_classes,\r\n",
        "            \"k_max_sequence_len\": self.k_max_sequence_len,\r\n",
        "            \"k_batch_size\": self.k_batch_size,\r\n",
        "            \"k_epochs\": self.k_epochs,\r\n",
        "            \"k_lstm_neurons\": self.k_lstm_neurons,\r\n",
        "            \"k_hidden_layer_neurons\": self.k_hidden_layer_neurons\r\n",
        "        }\r\n",
        "\r\n",
        "\r\n",
        "\r\n",
        "model = Word2VecKeras()\r\n",
        "# train_y = np_utils.to_categorical(ytrain)\r\n",
        "# test_y = np_utils.to_categorical(y_test)\r\n",
        "\r\n",
        "history = model.train(xtrain, ytrain, xtest, ytest, k_epochs=150)\r\n",
        "print(model.evaluate(X_test, y_test))\r\n",
        "# vocab_size = 10000\r\n",
        "# max_len = 25\r\n",
        "# tokenizer = Tokenizer(num_words=vocab_size)\r\n",
        "# # tokenizer.fit_on_texts(df['title_desc'])\r\n",
        "# sequences = tokenizer.texts_to_sequences(df['title_desc'])\r\n",
        "# x_train_new = pad_sequences(sequences, maxlen=max_len)\r\n",
        "# encode class values as integers\r\n",
        "# encoder = LabelEncoder()\r\n",
        "# encoder.fit(Y)\r\n",
        "# encoded_Y = encoder.transform(Y)\r\n",
        "# print(X_train.shape)\r\n",
        "# preprocessor = make_column_transformer(\r\n",
        "#     (StandardScaler(),[]),\r\n",
        "#     (OneHotEncoder(),[])\r\n",
        "# )\r\n",
        "# train_X = preprocessor.fit_transform(X_train)\r\n",
        "# test_X = preprocessor.transform(X_test)\r\n",
        "# train_y = np_utils.to_categorical(y_train)\r\n",
        "# test_y = np_utils.to_categorical(y_test)\r\n",
        "# print(train_X)\r\n",
        "# print(\"fine till here\", dummy_y)\r\n",
        "\r\n",
        "# dataframe = pandas.read_csv(\"jirasoftware.csv\", header=None)\r\n",
        "# dataset = dataframe.values\r\n",
        "# X = dataframe[]\r\n",
        "# Y = dataset[:,4]\r\n",
        "# encode class values as integers\r\n",
        "# encoder = LabelEncoder()\r\n",
        "# encoder.fit(Y)\r\n",
        "# encoded_Y = encoder.transform(Y)\r\n",
        "# convert integers to dummy variables (i.e. one hot encoded)\r\n",
        "# dummy_y = np_utils.to_categorical(encoded_Y)\r\n",
        "\r\n",
        "# define baseline model\r\n",
        "# def baseline_model():\r\n",
        "# \t# create model\r\n",
        "# \tmodel = Sequential()\r\n",
        "# \tmodel.add(Dense(8, input_dim=1, activation='relu'))\r\n",
        "# \tmodel.add(Dense(3, activation='softmax'))\r\n",
        "# \t# Compile model\r\n",
        "# \tmodel.compile(loss='categorical_crossentropy', optimizer='adam', metrics=['accuracy'])\r\n",
        "# \treturn model\r\n",
        "\r\n",
        "# estimator = KerasClassifier(build_fn=baseline_model, epochs=200, batch_size=512, verbose=0)\r\n",
        "\r\n",
        "# history = estimator.fit(train_X, train_y,validation_data=(test_X, test_y))\r\n",
        "# history_df = pd.DataFrame(history.history)\r\n",
        "# history_df.loc[:, ['loss', 'val_loss']].plot()\r\n",
        "# print(\"Minimum Validation Loss: {:0.4f}\".format(history_df['val_loss'].min()))\r\n",
        "# kfold = KFold(n_splits=10, shuffle=True)\r\n",
        "# results = cross_val_score(estimator, x_train_new, dummy_y, cv=kfold)\r\n",
        "# # print(\"Baseline: %.2f%% (%.2f%%)\" % (results.mean()*100, results.std()*100))"
      ],
      "execution_count": null,
      "outputs": [
        {
          "output_type": "stream",
          "text": [
            "[nltk_data] Downloading package stopwords to /root/nltk_data...\n",
            "[nltk_data]   Package stopwords is already up-to-date!\n",
            "[nltk_data] Downloading package wordnet to /root/nltk_data...\n",
            "[nltk_data]   Package wordnet is already up-to-date!\n"
          ],
          "name": "stdout"
        },
        {
          "output_type": "stream",
          "text": [
            "2021-03-04 06:02:59,763 : INFO : workkkk\n",
            "2021-03-04 06:02:59,797 : INFO : Build & train Word2Vec model\n",
            "2021-03-04 06:02:59,799 : INFO : collecting all words and their counts\n",
            "2021-03-04 06:02:59,803 : INFO : PROGRESS: at sentence #0, processed 0 words, keeping 0 word types\n",
            "2021-03-04 06:02:59,810 : INFO : collected 1962 word types from a corpus of 18816 raw words and 351 sentences\n",
            "2021-03-04 06:02:59,812 : INFO : Loading a fresh vocabulary\n",
            "2021-03-04 06:02:59,824 : INFO : effective_min_count=1 retains 1962 unique words (100% of original 1962, drops 0)\n",
            "2021-03-04 06:02:59,828 : INFO : effective_min_count=1 leaves 18816 word corpus (100% of original 18816, drops 0)\n",
            "2021-03-04 06:02:59,842 : INFO : deleting the raw counts dictionary of 1962 items\n",
            "2021-03-04 06:02:59,843 : INFO : sample=0.001 downsamples 79 most-common words\n",
            "2021-03-04 06:02:59,844 : INFO : downsampling leaves estimated 15667 word corpus (83.3% of prior 18816)\n",
            "2021-03-04 06:02:59,855 : INFO : estimated required memory for 1962 words and 300 dimensions: 5689800 bytes\n",
            "2021-03-04 06:02:59,856 : INFO : resetting layer weights\n"
          ],
          "name": "stderr"
        },
        {
          "output_type": "stream",
          "text": [
            "['user would like able use work mode update performed kill spinner cos allow rank allow quick filter', 'user would like rapid board available via labs cos labs option general configuration enable disable rapid board rapid board displayed agile drop enabled feedback button using andreas jira plugin header manage option rapid board current', 'mvr implement issue swimlane strategy java remodelling', 'user like able inline edit components fix version affects version fields detail view cos use frother control entering input experience view issue', 'ondemand user like able provide atlassian team feedback labs features need implement got feedback mechanism ondemand like btf', 'patrick like able hide versions panel state persisted url default view versions panel collapsed versions epics panels collapsed show affordances allow user differentiate two development notes detail view visible either answered', 'user would like ability edit remaining estimate without using jira log work dialog acceptance criteria clicking remaining estimate field allow inline edit similar behaviour new inline text edit behaviour', 'mvr agile issue web panel display scrum information issue complex one let break providing web panel view issue page display scrum information information displayed list sprints issue part sprints broken two sections active completed sprints provide link sprint means going rapid board sprint boards available calculated user initiates action valid boards calculated based boards user permission see well issue matches filter board scrum boards considered valid boards user shown message multiple valid boards user prompted choose one one valid board user chosen board user redirected instantly user redirected precise location sprint chosen board sprint active location work mode board sprint completed location retrospective report sprint board', 'patrick want able see projection possible end date version calculated using average time spent per completed story point estimation statistic average story points per day given release far plus optimistic pessimistic variants adding subtracting one standard deviation note changed already return data story points completed date time per story standard deviation big difference cases seem make sense projections must displayed somewhere outside chart well released versions need show projections show intended release date chart midnight end date specified show calculations velocity page take nwd account calculation mean tooltips potential targets show type optimistic pessimistic date least total estimated work version must completed projections shown development notes users using negative story points predicted release date past display prediction rates approach infinity probably need discuss jrogers mjopson tkotecki good point cut moment predicted date infinity display prediction pessimistic date infinity display flat line cut chart predicted date long infinity display distinguishes rate approaches vertical scope change events vertical answered really understand question happens users change estimation board remove completely board reflect current estimation estimation uses time tracking calculate deviation minutes hours days reflected axis calculate units estimation completed per day use project axis change displayed time estimation units user tracking work logged work rate also displayed answered mean time tracking display projected line goes significantly future touches scope line potentially could years future realistic display chart expands display pessimistic date unless infinity case expands show middle prediction could years happens lines version released version marked released total scope total completed scope display prediction happens lines predicted release date moved past never happen happens release date moved future marking version released separate displaying release date regardless whether release date assigned try predict date total scope completed scope version marked released jira release date removed see happens projected lines issues removed version resulting scope change deleted entirely resulting chart change without history scope line stays horizontal scope removed moves theory release date move forward story completed removed used calculation average points completed per day', 'changing fixversion card fixversion outside parent results page refresh change fixversion filter unexpected inconsistent behaviour quote bug appeared 2010 update 2010 task board select version developer change version task version filter changes version developer selected filter assignees working fine least 2010 behaviour flter stayed place little message said something view message working filter current behavior really annoying get back version working using planning board option cannot filter developer quote', 'greenhopper appends project ids url adding list enabled projects causes http 413 error per ticket adding select projects allowed projects listing administration greenhopper enabled projects adding project allowed list creates request url like response 302 temporarily moved post content size zero listvalue entry keeps getting longer eventually list gets long page load due http 413 request entity large error screenshots dev console chrome attached', 'new features dashboard drop list new features dashboard drop list drop list added dashboard easy access', 'scrum planner would like ability reorder sprints would extremely useful able reorder sprints plan board changing sprint order would swap relative order issues contained sprints addition improving scrum planning would resolve critical missing feature available classic boards version cards could ordered giving equivalent functionality rapid board', 'user would like ability add maximum minimum constraints column rapid view based upon total issue count cos configure manage rapid view using inline edit default total issue count include sub tasks exclude swimlane duplicates yellow min constraint busted header red max constraint busted header show min current max top column', 'workloghistorycacheimpl remove cache registration disposal jst 4291 possible disable enable plugin upm atm problem com atlassian greenhopper service timetracking workloghistorycacheimpl clean registered cache disposal implement org springframework beans factory disposablebean call cachemanager removecache cache name watch ise check net ehcache cachemanager cacheexists string afterpropertiesset', 'user would like able configure resolution environment security level fields shown detail view cos resolution environment security level testing notes plays type story include deleting field assigned field system field delete tried hide honour settings see restricting permission particular users user see error message saying possible access issue security level configuration change board reload issue visible list checking behavior naming fields system wide objects unassigned duplicates create custom field name system field like resolution environment security level selectable field list issue detail view tab configuration page', 'edit startdate fixversion jira patrick want able edit startdate fixversion jira experience jira consistent confusing approach jira jira code base modify jira version table include start date column make schema change jira branch downgrades continue work augment restful table jira project admin page versions show start date allow editing augment rest representation versions include start date add start date field jira api version object code base make aware capability storing start date either jira depending jira version migrate data stored start date jira storage available development notes adding startdate previously released version affect issues apply previously released version release date new start date validated release date adding startdate affect issues archived changes version data affect issues timezone setting startdate follow user system start date release date stored jvm system time zone remove startdate adding yes one way get startdate come releasedate possible happens add startdate version released releasedate start date added without release date special place database column row depending database used way location already taken recycle location field need protect overwrites field startdate exist table projectversion data synchronised tables jira version meta data asked check see exists jira well migrated', 'problem rapid board cards display rapid board includes many columns columns screen resolution resolution 1280 720 ticket key summary become unreadable like attached screenshot rapid board png thumbnail becomes problem user cannot use less amount columns increase browser window size cases using laptop example thanks advance sac ticket', 'mvr rename issue operations remove used ones new agile menu structure enabled remove planning task rename rapid board agile board', 'mvr change keyboard shortcuts planning board etc based new agile menu structure make agile make agile invisible make agile invisible', 'integrate install via jira project template work branch jira plugin jira project templates plugin development notes files modifying dependencies rely share code changing answered safeguards exist install fails incomplete handled upm already installed installer show providing project templates dependency upm version work check place dependency jira upm uses licensing work unlicensed license cannot obtained mac evaluator license obtained installer show error unlicensed old version already installed instance answered', 'make cfd sprint sensitive add option refine cfd using sprint', 'view board link epic take scrum boards despite epic appearing epic panel plan mode need modify calculation done operation offer take users plan mode would epic selected could strange would apply filtering epic selected testing notes make sure searching issue epic name prevent searching duplicate names sure searched issue performant across many boards like jac hard say basically added one clause query perform differently already deployed jac needs verification tough epics panel collapsed panel opened epic selected means issues epic filtered user permission see board project epic involved pobara sure produce case let speak together', 'user like existing fields included default detail view configurable like custom fields cos upgrade task existing fields detail tab detail view order atm newly created boards default set note lock rapid view upgrade progress development notes one fields exist possible delete hide field visible detail view listed detail view configuration one fields renamed rename option available system fields custom field named name special handling case works expected difference line editable fields non editable fields detail section happens remove default field upgrade task possible delete system fields jira needs tested databases older versions data need wary pre detail view data handled automatically staff fields expected order order case matter add fields already present', 'user would like ability edit remaining estimate without using jira log work dialog acceptance criteria clicking remaining estimate field allow inline edit similar behaviour new inline text edit behaviour', 'story moved done column scroll stay selected', 'user like see change history epic history tab epic cos show change history every time new issue attached detached epic multiple issues attached epic log one change history entry multiple issues detached epic log one change use epic link field always child parent testing notes events tracked history special events issues either tracked different epics adding removing issues special events backdate changes happens change history completing epic reopening history added removed issues affected happens change history estimating stories epic nothing', 'mvr prompt end sprint unfinished parent stories complete subtasks exist offer continue cancel note user back backlog list issues', 'add ability specify multiple board administrators users change configuration delegated admin currently owner jira admin think would good allow team members adjust settings currently company multiple producers team use board would like continue one board whole team', 'add detail view cog menu item remove issue sprint cause scope change work mode confirmation dialog notification successfully removed link issue plan mode', 'user would like add issues active sprint epic cos allow dragging story make sure droppable area backlog indicate anything might make user think dropping story sprint testing notes multi select issues drag epic active sprint yes multi select issues active sprint backlog drag epic epics panel collapsed drag works way would open happens drag edges screen non visible space scrolls nothing else issues active sprint already another epic drag new one issue affected new epic quick instant filter dragging issues filtered selectable difference epic expanded collapsed', 'greenhopper display assignee auto complete user searching full name jira configuration option turned see jst 4804 information please resolve resolving', 'rapid board user buggy browser extensions want exceptions thrown extensions break greenhopper greenhopper appears use global exception handler reacts uncaught exception showing error rapid board seen couple support requests users browser extensions throw exceptions cases errors may benign greenhopper could continue function normally errors alarm people result raise support requests could potentially caused javascript runs within context page browser extensions greasemonkey scripts even jira plugins speakeasy extensions', 'plan mode rank newly created items immediately currently selected item issues selected ranked last selected issue issues selected ranked top visible issue visible means section backlog visible viewport including upcoming sprints current sprint current sprint taking entire viewport top backlog future sprints used multiple issues created ranked order creation normal issues appear appropriate position based rules filtering kind quick instant epic impact issues placed rules visibility still apply testing notes view stale place issue according currently visible issues date issue might appear wrong place viewport huge small result viewport normally sized detail view closed open affect logic multiple issues selected place issue last selected issue epic selected currently epic selection quick instant filter applied see first answer place first visible issue case selected issue instant filtered still place selected issue last selected issue last issue moved deleted moved ranked according new location deleted bad luck ranked last fool setting url without loading creating new selection look url looks internal state might come url hit return address bar even end world schedule permission silently ignore rank errors issue end end backlog selection within active sprint issue would added top backlog answers provided michael nikolay', 'user would like able edit rapid view created using someone elses saved filter cos regardless owns saved filter created rapid view based edit rapid view users edit rapid view manage rapid view message saying cant configure link owner', 'allow story unassigned epic minimum criteria cross booger warning removal goal work design actually design implementation testing notes remove epic admin epic deleted stories automatically unassigned yes issue currently visible due filter column mapping issue visible mechanism unassigne', 'allow backlog item estimation statistic rapid board set original estimate allow backlog item estimation statistic rapid board selected set original estimate', 'url select issue planning board instance greenhopper select correct page issue correct page', 'planner want able show sum issues remaining estimate upcoming sprint rapidboarduser want able show sum issues remainingestimate see workload cos show equal tracking enabled board', 'assign story future sprint patrick want able assign story future sprint query able via sprint able create future sprints assign issues able remove future sprints issues removed able move issues future sprints future sprints updated accordingly backlog shows future sprints regardless whether empty notes part necessary work enable future sprints needs happen dev notes functionality changes send top jira sprint dragging include filtered issues happens sprint becomes orphaned aka assigned boards deleted answered sprint owning board deleted visible second board answered non visible orphaned sprint included filter new board reassigned answered multiple rank fields answered sprints need rank field locked deleted modified jira answered conditions migration task answered happens sprints issues deleted answered issue assigned future sprint via different boards answered', 'allow possible create project time creating board cos scrum kanban choice allow selection existing projects selection filter creation new project link getting started links new dialog appropriate selection create sample kanban project goes second step dialog sample data selected kill advanced', 'rapid board user like able add remove text custom fields bottom detail section detail view cos configuration per board new tab config page text custom field system double check fields estimation filtered based issues board text custom field read detail view add remove fields possible reordering fields fields displayed bottom top section details tab underneath fix version read display testing notes answers mtokar many text fields allow unlimited many system added text fields allowed prohibited custom fields text type standard custom field types means text area small text url happens name attached field modified nothing happen field assigned permission add fields board owner admins fields added per board per project global per board happens remove add text field different position otherwise nothing user permission see attached field user permissions fields field applicable scope selected issue configured issue type project displayed detail view regardless scope text custom fields available added already added field added user detail view open require full page reload detail view refresh see reload detail view users add greenhopper fields details tab could lead odd behavior case story points special greenhopper fields currently allowed added allow text fields number fields well moment text fields fields inline editable detail view moment read fields xss safe yes', 'user would like ability manage rapid views similar jira managed filters list rapid views link edit delete view option non owners', 'promote release planning labs cos remove advertisement getting started page remove labs flags code', 'mvr issue operation jump rapid board issue complex one let break providing issue operation issue able rapid board issue boards available calculated user initiates action valid boards calculated based boards user permission see well issue matches filter board case kanban boards issue must also match work mode sub filter match issue appears report mode case scrum boards issue may appear mode plan work report valid boards user shown message optionally user prompted create new board based project issue multiple valid boards user prompted choose one one valid board user chosen board user redirected instantly user redirected precise location issue chosen board issue selected location plan work mode case scrum board location report mode issue belongs one sprint recent sprint retrospective report chosen', 'expose defaults api currently plugins access defaults epic issue type default custom field ids result stuff information needed add new api exposes information consumable java', 'multi team one backlog user like able start multiple sprints testing notes many sprints open limit impact reporting multiple sprints active answered know report jump juggling sprints work mode answered happens active sprint closed user working answered want view different swimlane strategies active sprints raise feature request happens issues removed active sprint existing problem iirc open bug better handle issues one sprint moved another active sprint still jump reports active sprint still open answered', 'display invalid drop target icon version list trying assign story different project version use browser default cursor allowed', 'order better aware sprint markers migration administrator want see banner installed cos simple text banner communicating release contains migration administrators need aware happening link upgrade notes migration docs appears every jira page appears every administrator user needs stack well potential banners jira provides user installs first time boards boards already migrated want see message dev notes banner show every user admins system regular admins show persist still display greenhopper unlicensed display even redirect getting started yes display anonymous users', 'add epic label create issue screen jira config show epic quick create dialog testing notes happens field deleted removed screen appear screen renamed theory display new name atm blows disables see subtask ghs 6162 field permissions modified show testing notes field added screen create issue operation epic issue type added screens within issue type screen scheme associated projects specific screen scheme epics added screens otherwise screens within default scheme', 'perform work modes initial xhr calls parallel moment perform three xhr calls order render rapid board series first get rapid board selector data get rapid board config data finally get issues data alldata case able perform three calls parallel kick time perform rendering series kill rapid board selection drop means perform additional two rest calls unlikely case someone attempts load rapid board deleted gets punted default board', 'remove epics labs cos remove admin option welcome mat changes remove banner create epic fields startup testing notes make sure upgrade works epics previously enabled enabled tested empty upgrade different jira versions well upgrading different jira versions make sure epics backlog plan mode move properly sidebar colored lozenges populate properly epics move expected colours epic name empty yet set', 'sprint report visually call added removed stories styling added items third table removed items styling added items need possible removed table', 'patrick want able delete version allow version deleted warn issues assigned already permissions need action todo team input', 'new features dashboard drop list new features dashboard drop list drop list added dashboard easy access', 'user would like able configure due date date field detail view cos due date resolution date custom fields date type second restful table dates dates section testing notes sure test greek korean dates answered selected day non working day answered happens change jira date format field place answered many dates fields add detail view answered', 'add text agile gadget invalid project message error invalid project add details project configured use greenhopper invalid project configured use greenhopper', 'allow user configure tracking use remaining estimate configuration describe option show remaining estimate detail view edit make card detail view operate expected estimate statistic set original time estimate enter estimate first time also update remaining time estimate issue iff value set already', 'admin seen analytics question would like asked every page say yes remove getting started rapid board configure rapid board manage rapid board greenhopper general configuration page license page', 'remove scrum rapid board labs always remove labs checkbox update getting started screen still include classic information scrum section update text getting started intro latest news', 'allow editing colour swatch epic cos fixed palette start requires edit issue permission use colour custom field created testing notes open colour picker interact following clicking inline edits closing epics detail panel switching modes drag drop create delete sprints reordering epics multi select opening tools menu applying quick instant filters creating new issue create new epic anything missing exact colour chosen another epic answered default colours still rotated answered', 'use create compliant projects welcome mat respect app access requirement ondemand code copied see details', 'drop epic view jira link cos implement drop menu include view jira link middle cmd click open new tab works testing notes make sure open drop handles epics panel closing dragging issues within backlog epics quick instant filter switching modes open closing detail view inline edits dropdowns opening', 'implement velocity chart velocity chart show amount backlog item estimation statistic sprint sprint graph bucketed sprint sprint velocity equal sum backlog item estimate issues last column end sprint would also show sum estimation statistic committed sprint ones get done pbi estimate used time issue added sprint start sprint item sprint start time added middle sprint graph followed table describes values shown table sprint row shown along sum completed non completed pbis hyperlink sprint report link provided detailed sprint burndown sprint hardcode last', 'user like board poll staleness provide notification changes sane interval cos detect page loses focus stop regularly testing notes often poll user define polling interval sec user define interval change another change undo change aka effective delta client side receive updated data decide already date thus ignore user logged thanks jason separate logic automatically redirects login page ajax request fails due logged works requests filter change detail view update poller question probably whether update poller really trigger redirect user permission see board still get notifications would board open permission conflict error page well handled way user disable notifications conflict multiple boards open multiple tabs board separately poll updates though', 'user like basic flagging issues first step flagging cos flag set cleared cog menu detail view context menu flag icon takes place issue priority background color change issue flagged also specific color selected appear work mode plan mode use flag field introduced classic mode empty flagged empty flagged case mixed selection propose flag action else propose opposite action selection case multiple issues flagging error flag one modified display list info message issue key error', 'epic label requireness must apply relevant field configurations default currently epic label field made required default field configuration logic needs change include field configuration used epic issue type project testing notes logic also extend recreation epic label field deleted yes field created made required another field scheme duplicate name referencing field configurations referenced', 'patrick want able filter backlog specific version easily see stories included includes adding issues option versions epics includes adding issues without version option single version selection selected version filter remembered url epic numbers metadata updated filtering active epic filter active version filter activated excludes epic epic filter revert back issues option development notes shift control click work multiple select answered quick filter applies version filter answered instant filter active answered want link order versions order issues backlog answered epic selected version empty selected still drop issues filter way issues epic version answered instant filter filter subfiltered issues entire backlog answered hierarchy filters applied answered', 'make cfd sprint sensitive add option refine cfd using sprint', 'adg updates done plus children done postpone jira children postpone jira', 'user plan mode would like board draggable give warning attempt drag like action explain problem cos show warning box ranking possible filter board order rank include link filter section configuration discuss testing', 'nullpointerexception occurs editing issue related greenhopper released version history field attempting edit issue jira edit fails user clicks update button throws java lang nullpointerexception top edit issue window check logs following error appears noformat 400000004f45c7530fe9a96c 2012 265 processor10 error sysadmin 117x11680x1 evyd4p 167 133 207 223 247 secure quickeditissue jspa jira issue defaultissueservice exception occurred editing issue java lang nullpointerexception 400000004f45c7530fe9b13c java lang nullpointerexception 400000004f45c7530fe9b524 java util abstractcollection addall abstractcollection java 303 400000004f45c7530fe9b524 com pyxis greenhopper jira customfields releasedversionhistorycftype updatevalue releasedversionhistorycftype java 400000004f45c7530fed04cc com pyxis greenhopper jira customfields releasedversionhistorycftype updatevalue releasedversionhistorycftype java 400000004f45c7530fed08b4 com atlassian jira issue fields customfieldimpl updatevalue customfieldimpl java 405 400000004f45c7530fed08b4 com atlassian jira issue fields customfieldimpl updatevalue customfieldimpl java 366 400000004f45c7530fed146c com atlassian jira issue managers defaultissuemanager updatefieldvalues defaultissuemanager java 589 400000004f45c7530fed146c com atlassian jira issue managers defaultissuemanager updateissue defaultissuemanager java 554 400000004f45c7530fed1854 com atlassian jira issue defaultissueservice update defaultissueservice java 272 400000004f45c7530fed27f4 com atlassian jira issue defaultissueservice update defaultissueservice java 246 400000004f45c7530fed2bdc sun reflect generatedmethodaccessor1929 invoke unknown source 400000004f45c7530fed2bdc sun reflect delegatingmethodaccessorimpl invoke delegatingmethodaccessorimpl java 400000004f45c7530fed2fc4 java lang reflect method invoke method java 597 400000004f45c7530fed33ac com atlassian multitenant impl multitenantcomponentfactoryimpl abstractmultitenantawareinvocationhandler invokeinternal multitenantcomponentfactoryimpl java 181 400000004f45c7530fed3794 com atlassian multitenant impl multitenantcomponentfactoryimpl multitenantawareinvocationhandler invoke multitenantcomponentfactoryimpl java 211 400000004f45c7530fed3b7c proxy298 update unknown source 400000004f45c7530fed3b7c sun reflect generatedmethodaccessor1929 invoke unknown source 400000004f45c7530fed434c sun reflect delegatingmethodaccessorimpl invoke delegatingmethodaccessorimpl java 400000004f45c7530fed434c java lang reflect method invoke method java 597 400000004f45c7530fed4734 com atlassian plugin osgi hostcomponents impl defaultcomponentregistrar contextclassloadersettinginvocationhandler invoke defaultcomponentregistrar java 129 400000004f45c7530fed4f04 proxy298 update unknown source 400000004f45c7530fed52ec sun reflect generatedmethodaccessor1929 invoke unknown source 400000004f45c7530fed52ec sun reflect delegatingmethodaccessorimpl invoke delegatingmethodaccessorimpl java 400000004f45c7530fed56d4 java lang reflect method invoke method java 597 400000004f45c7530fed5abc com atlassian plugin osgi bridge external hostcomponentfactorybean dynamicserviceinvocationhandler invoke hostcomponentfactorybean java 154 400000004f45c7530fed5ea4 proxy298 update unknown source 400000004f45c7530fed5ea4 com atlassian jira quickedit action quickeditissue doexecute quickeditissue java 128 400000004f45c7530fed628c webwork action actionsupport execute actionsupport java 165 400000004f45c7530fed79fc com atlassian jira action jiraactionsupport execute jiraactionsupport java 400000004f45c7530fed79fc webwork interceptor defaultinterceptorchain proceed defaultinterceptorchain java 400000004f45c7530fed7de4 webwork interceptor nestedinterceptorchain proceed nestedinterceptorchain java 400000004f45c7530fed7de4 webwork interceptor chainedinterceptor intercept chainedinterceptor java 400000004f45c7530fed85b4 webwork interceptor defaultinterceptorchain proceed defaultinterceptorchain java 400000004f45c7530fed916c webwork dispatcher genericdispatcher executeaction genericdispatcher java 205 400000004f45c7530fed916c webwork dispatcher genericdispatcher executeaction genericdispatcher java 143 400000004f45c7530fed9554 com atlassian jira web dispatcher jirawebworkactiondispatcher service jirawebworkactiondispatcher java 152 400000004f45c7530fed993c javax servlet 400000004f45c7530fed9d24 org apache catalina core applicationfilterchain internaldofilter applicationfilterchain java 290 400000004f45c7530feda10c org apache catalina core applicationfilterchain dofilter applicationfilterchain java 206 400000004f45c7530feda10c com atlassian jira web filters steps chainedfiltersteprunner dofilter chainedfiltersteprunner java 400000004f45c7530feda4f4 org apache catalina core applicationfilterchain internaldofilter applicationfilterchain java 235 400000004f45c7530feda8dc org apache catalina core applicationfilterchain dofilter applicationfilterchain java 206 400000004f45c7530fedacc4 com atlassian core filters headersanitisingfilter dofilter headersanitisingfilter java 400000004f45c7530fedacc4 org apache catalina core applicationfilterchain internaldofilter applicationfilterchain java 235 400000004f45c7530fedb87c org apache catalina core applicationfilterchain dofilter applicationfilterchain java 206 400000004f45c7530fedb87c com atlassian plugin servlet filter iteratingfilterchain dofilter iteratingfilterchain java 400000004f45c7530fedbc64 com atlassian plugin servlet filter delegatingpluginfilter dofilter delegatingpluginfilter java 400000004f45c7530fedbc64 com atlassian applinks core rest context contextfilter dofilter contextfilter java 400000004f45c7530fedc81c com atlassian plugin servlet filter delegatingpluginfilter dofilter delegatingpluginfilter java 400000004f45c7530fedc81c com atlassian plugin servlet filter iteratingfilterchain dofilter iteratingfilterchain java 400000004f45c7530fedcc04 com atlassian plugin servlet filter delegatingpluginfilter dofilter delegatingpluginfilter java 400000004f45c7530fedcc04 com atlassian agmp integration jira reprovisionconfigfilter dofilter reprovisionconfigfilter java 400000004f45c7530fedd3d4 com atlassian plugin servlet filter delegatingpluginfilter dofilter delegatingpluginfilter java noformat confirmed error occuring issues value custom field type greenhopper released version history workaround appears occur release version history field added screen used editing remove field screens issue resolved', 'rapid board user would like return last viewed rapid view click agile tab cos rapid board user remembered rapid view last visit would like taken click agile instead taken planning board', 'patrick want understand progress towards version single report chart needs show complete history version incl scope changes burnup chart showing total estimate complete estimate total unestimated stories also display count unestimated stories start date defined day first story version added version use startdate also display list stories split complete incomplete incomplete unestimated may want consider adding full history later story list display epic belongs development notes chart look archived unarchived issue part multiple versions implications version displayed permission issues issue another project user permissions see displayed user permissions see epics version counted displayed added issue count show table happens chart first issue added version deleted moved converted show issue removed', 'able query epic assignment history issues ever assigned epic cos given epic return history issues added removed time epic need inform admins need index involve addition jql assist querying development notes assuming seen view issue page seen anywhere seen accessing url directly epic deleted get error message issue exist epic converted issue subtask check changed jira still epic child links still see data linked issue moved converted deleted still show appropriate group incomplete complete punted version forward tracking history aka epic link already existed introduce change previous epic links tracked questions surprise previously considered first one story else think answered', 'figure issues come sprint statistic value change half way put items data table bottom added removed sprint even estimate therefore affect burndown add issue sprint estimate change estimate shows statistic value change table problem particularly bad later remove issue sprint issue addition removal completely hidden table shown scope change', 'developer would like custom fields creates appear managed jira administration interface final behavior fields options epic status everything like original configuration lock field otherwise lock field unless projects appropriate issues field scheme zero options case add options unless schemes case introduce fields without option fix contexts lock field fix field names descriptions fields fix searcher rank field change managed level admin field creation plus message field normally created creates field default rank field fixed context locked jira new api around managed configuration items allows plugin specify instances custom fields custom field types managed plugin modified created administrators fields restricted edit create issue types global context epic link show sprint show rank show epics global context epic status show epic name show require renderer default text epic color show must also ensure existing fields correct configuration locking development notes fixversions one since rely release planning system field provided jira therefore locked definition rank field also fix lock default rank field', 'supporter like exceptions collapsed default allow users continue use app without large error box screen cos link read expand container full height box collapsed', 'classic user would like epic issue relationships migrated use new boards cos manually triggered whole project show number issues updated hit make clear migrates data exists right synchronise relationships time also make clear run later time necessary put global config new tab classic epic migration explain happen proceed find issues issue key epic theme field convert epic link story already linked epic link field ignore server side logging notify admin confirmation page remove epic theme field longer used modify description epic theme custom field references classic boards development notes need try data epics still labs answered happens editing old epic links old epic links updated synced new style epic link another migration needed port updated classic epic link work target issue yet linked new style epic link update classic epic links new ones created well synchronization old new epic links old epic label data epics still labs aka field named something else upgrade tasks migrated migration uses configuration classic mode find classic epic link custom field differences jira versions need wary nope', 'create labs feature enable epic support cos add flag wrap existing prototype code check flag convert creation epic related fields switch flag opposed current update task approach testing notes happens epics fields labs disabled enabling fields remain system delete fields fields deleted labs disabled field recreated used anymore user enables labs missing fields created recreated upon first usage epic labs disabled still interact previously created epics yes show normal issues inside backlog', 'user would like easily see update epic status epic plan mode cos single menu item mark done confirmation dialog testing notes reopen epic via menu must reopen epic via jira view issue test epic status stale date try updating dragging epic around marking epic done state stale ill effect issue still exists ranking similarly okay adding issue epic since removed work afterwards epic disappear happens last issue completed epic deleted removed behaves normal updating status affect quick instant filters epic epic selected filtering active marked done filter removed affect filters change statuses epic way deleting renaming status messing epic yes options configurable jira custom field admin configure continue work one option left pick last option one set marking done', 'user would like able quickly filter issues plan mode quick filters best effort fine probably quick filters work tab seems consistent marker still count items line even filtered', 'make expanded status epic sticky cos included url store expanded state multiple epics', 'mvr prompt user resolve parent subtasks done parent swimlane strategy', 'quick filters collapse show reveal pattern wrap one line use pattern similar reveal text pattern adg quick filters horizontal screen space screen wide enough wrap hide remaining ones display show link last quick filter clicking show reveal rest quick filters show change say show less instead default state users collapsed state whether filters collapsed shown persistent user level reordering quick filters stays today header collapsed keyboard behaviour stays', 'investigate log work operation task task board redirect page assignee steps reproduce click agile tab navigate chart board task board choose assignee display cards user assignee log work expected result work succesfully logged card make assignee unchanged maintaining assignee actual result work logged successfully card set assignee', 'user would like ability create release fix version containing issues done column cos based correct permissions project administrator release button rhs column normally done release dialog new versions name fix version set description set release date auto populate today date plus date picker notifications explain occured', 'rapid board user would like return last viewed rapid view click agile tab cos rapid board user remembered rapid view last visit would like taken click agile instead taken planning board', 'user like see count visible unfiltered issues column header testing notes limit number digits issue count unlimited constraints currently limited 999 takes account multiple filters yes properly hides issues hidden particular user browse permissions looks good browsers yes looks good wallboard mode yes', 'align project creation dialog jira style differences project creation dialog jira one remove project name key field labels standardise field descriptions name key maximum length enforce maximum lengths fields', 'update open close epic versions panel cos went variations design martin suggested story point fix story slight deviation current design pulls hover close version epic panel panel open left side sideways text', 'user would like everything else swimlane exclude issues configured swimlane cos remove card stubs everything else everything else swimlane appends swimlane jql remove unnecessary code css change default swimlane everything else', 'allow backlog item estimation statistic selected numeric field issue allow backlog item estimation statistic scrum rapid board selected default story point field also possible set numeric field show backlog item estimation statistic plan mode lozenge replaces existing use lozenge detail view card view label unit estimate hover show unit', 'user would like see feedback creating epic plan mode show success message link issue view must applied create epic button used well regular quick create keyboard shortcut testing notes epic added another project board message displayed board multi project epic added one projects message shown regardless whether epic screen', 'diagram greenhopper data works suggested matt doar see diagram page', 'user would like control chart showing time issue progress cos progress defined columns yellow', 'user would like create issue inside epic viewing epic jira sub task panel create button create sub tasks quickly issue would good similar mechanism viewing epic create issues epic development notes overwrite current project issuetype selection create issue dialog overriding done create issue dialog behaves identical normal dialog happens open create issue epic create issue dialogs one multiple issue creation supported issues created dialog closed created issues associated epic epic closed issues still able associated epic epic exist anymore error message shown saying issue exist epic changed another issuetype user epic view issue page epic type changed another page creating issues epic work association fail error message saying issue type epic inline edits open jira clicking button closed dialog opens', 'user would like display number votes agile board use voting facility jira greenhopper get guideline ordering ranking backlog planning mode agile board would love see number votes agile board planning mode prupose could two directions display number votes cards backlog configurable display number votes detail view agile board latter acceptable probably easier get recommend put people section info area link tally directly voters page jira view issue', 'store sprint created date show burndown chart data table first line cos historical sprints show entry burndown', 'user would like past three comments space permitting issue displayed detailed card view rapid board cos link show next comments left link show remaining comments left details total number comments tools edit index twixy expanded default', 'flagging stories swimlanes work mode needs cover wallboards cos right click context menu available parent issue swimlane menu contains one option add remove flag depending state menu opened right clicking control inside swimlane issue key transition twixie option available via cog menu already present flagged state needs visible wallboard gadget dev notes jql swimlane defined single issue flag work swimlane collapsed expanded still appears flagged still flag work supported browsers yes', 'user want able see remaining estimate rapid board cards instead original time estimate would normally look sprint board sprint started sprint started valu ethat relevant given sprint task remaining estimate therefore visible directly rapid board cards stead original time estimate give far better overview sprint viewing entire rapid board bonus would nice value editable directly rapid board cards cos work mode lozenge show remaining estimate parent stores include sub tasks time tracking enabled', 'multiple select epic filtering may additional story shown designs around giving users additional way knowing backlog filtered epic originally put epic label headers backlog containers sprints backlog might problematic martin suggested using active quickfilters area merit add design task explore', 'generic webwork aliases may clash plugins web work actions commands generic aliases update move synch etc aliases good chance clash action name aliases used plugins aliases given name specific plugin updategreenhopperdropboard alternatively bang syntax used place command aliases dropboardaction update case need define aliases commands however still need define alias empty string otherwise npe thrown parsing xml', 'adg resizable detail view story plan mode idea draggable left side people need space similar products confluence drag would remembered per client local storage terms percentage window size consider happens dragged far columns collapse resize consider whether two line issue representation backlog column testing notes', 'allow numeric field specified sprint tracking statistic rapid board show statistic detail editable plan mode sprint started warn estimate item sprint tracking statistic', 'patrick want able delete version allow version deleted warn issues assigned already permissions need action todo team input', 'align project creation dialog jira style differences project creation dialog jira one remove project name key field labels standardise field descriptions name key maximum length enforce maximum lengths fields', 'warn start sprint primary items backlog item estimate set warn offers cancel following issues estimate unit estimate specified estimates applied following start sprint considered scope change happens sprint name dates dialog', 'user would like ability add maximum minimum constraints column rapid view based upon total issue count cos configure manage rapid view using inline edit default total issue count include sub tasks exclude swimlane duplicates yellow min constraint busted header red max constraint busted header show min current max top column', 'user accidentally browse rapid start logout want straight rapidboard login currently greenhopper remember rapidstart logout log back clicking agile tab brings back want change behavior user returns rapidboard instead reduce annoyance customer', 'xml view issue contains empty value field sprint sprint field contains value correctly displayed issue screen click views xml xml contains information sprint customfield value empty bug causes following issue ide connectors user opens issue ide connector based issue xml view contains information sprint value empty user makes changes submit issue sprint value empty sprint value erased jira side ups', 'product owner like burndown gadget new boards similar existing classic burndown gadget mimic behaviour burndown chart board sprint value chosen user default value auto one ends first configuration change estimation statistic needs wallboard compatible call sprint burndown gadget development notes wallboard mode compatible supported browsers specifically works adjustments ie8 quirks mode user permission see project configured gadget either single project one multi project board get error message saying board find sprint run end date burndown chart axis adjust scope addition tickmarks readjust yes thanks flot active sprint displays message like could find active sprint active sprint issues project user permission get error message saying board find user hover data points chart user', 'show epic label detail view story cos show plan work mode show sub tasks testing notes make sure detail view updated label update removal answered tasks improvements get labels answered make sure color updated correctly need worry colour text representation', 'clean epic issue link changing issue type issue epic issue remove epic link issues linked epic issue epic remove epic link previously part epic issue subtask remove epic link epic linked subtask issue old issue parent epic link issue epic discussed really want unless new issue type epic clean epic label epic color fields applicable epics therefore automatically cleared testing notes make sure plays well change epic name field two completely unrelated subtasks disabled either trying convert disable sub tasks sub tasks system forget add epic link subtask parent one epics always linked parent issues subtasks', 'greenhopper appends project ids url adding list enabled projects causes http 413 error per ticket adding select projects allowed projects listing administration greenhopper enabled projects adding project allowed list creates request url like response 302 temporarily moved post content size zero listvalue entry keeps getting longer eventually list gets long page load due http 413 request entity large error screenshots dev console chrome attached', 'change visual treatment issue count swimlane header use aui badge see attached screenshot 12px small text adg edit currently filtering treatment', 'swimlane epic patrick want use epics swimlanes see progress epic within sprint easily stories subtasks epics display option scrum boards swimlane presentation similar story task swimlane epic name possibly issue key detail view shown epic clicking swimlane selects first issue swimlane assignee issues without epics shows bottom', 'user would like past three comments space permitting issue displayed detailed card view rapid board cos link show next comments left link show remaining comments left details total number comments tools edit index twixy expanded default', 'epic progress report show status epic board along number stories complete incomplete estimated unestimated include done epics link epic single epic report epic', 'greenhopper ranking field displayed correctly using confluence jira issues macro using greenhopper ranking field conjunction jiraissues macro actual database field value reported xml rather sanitized version', 'user like rapid board remember board regardless computer cos keep last boards used server side logged', 'configuration custom scrum templates lost upgrade custom templates created scrum template modified version prior upgrade one affected ones cause configuration associated templates lost bug caused side effect fixing see additional information', 'checkboxes board configuration burndown specify days working days shade area graph guideline level point default new boards show sat sunday timezone server affects burndown chart mini burndown sprint report default timezone server allow changed display timezone used new reports tab configuration allow additional days specified jira weekend setting use default rather sat sun development notes must test switch standard time daylight savings tested non working days valid answered days marked non working days tested sprint starts ends non working day tested support defining days weekend aka saudi case answered chart displayed client timezone user timezone profile server chart line sprint dates answered datapoints non working day time period shaded area treated excluded tested non working periods overlap answered questions surprise previously considered answered', 'allow detail view closed plan mode cos look like without epics column whole plan mode goes across screen scenarios requirements behaviour plan work mode consistent plan work mode details independent opening issue plan issue work flicking two preserve open issues opening closing details plan work mode independent closing detail plan mode close work mode vice versa initial load backlog fill screen plan mode content block gone good deselecting issue plan mode effect closing clicking issue plan mode selects longer opens issue detail however already opened refresh currently selected issue behaviour work mode filter applied selected issue filtered issue detail closed multi select issue detail open display last selected issue closed open testing notes inline edit open changes saved detail closed xbox™ close akin work mode oui error plan mode try close close error fixed example edit estimate put letters field allowed currently error appears inline close appears top cards resize nicely without detail view stretch across page keyboard shortcut collision shortcut rank issue without showing issue detail open selects next issue one moved would appear detail view performant thousands issues answered idea yet', 'restore create issue dialog preferences epic created cos also remember custom preference fields none applies create epic dialog testing notes happens switch modes config create issue aka long queue memory reset dialog hidden refresh page dialog open get reset happens edit issue first changing fields shown try quick create quick edit quick create customisation independent happens open create dialog close reopen actually create good', 'patrick want able see details version looking versions panel refers version panel behaviour mimic epic panel including twixies information needed description start date release date well count total completed unestimated stories total estimate units small progress bar startdate part progress calculation empty data release date start date reuse approach use detail view', 'user would like able use work mode update performed kill spinner cos allow rank allow quick filter', 'make sub projects really need feature single projects projects', 'store sprint created date show burndown chart data table first line cos historical sprints show entry burndown', 'plan work report links support opening another tab middle click cmd click middle click ctrl click nothing fallthrough native browser handling code stash since use live events handle checking left click probably edit checking well code exports openinsametab function return null metakey ctrlkey shiftkey altkey browser msie code called like code document click function openinsametab return stuff preventdefault code want handle left click believe check test first', 'expose defaults api currently plugins access defaults epic issue type default custom field ids result stuff information needed add new api exposes information consumable java', 'write soke tests measure performance plan mode scenarios cover rerank within backlog add active sprint add epic add version render context menu issue already selected well one deselected', 'user would like view attachments elaborating stories sprint planning meeting also present work mode image gallery view jira possible', 'store startdate fixversion patrick want able specify startdate fixversion creating charts displayed reasonable way allow specify startdate creating version within store date utc timezone', 'user would like get visual feedback progress plan mode loading lot issues slow load looks like nothing happening', 'user would like see cumulative flow diagram rapid board show progression issues across board cos flot reporting tab rapid board based upon current rapid view similar colour scheme gadget consistency configurable based columns control chart loading reporting drop chart types cumulative flow diagram found', 'product owner like days remaining sprint gadget new boards similar days remaining gadget defaults choosing sprint ghs 6467 needs take non working days account make explicit description gadget mimic behaviour classic version gadget otherwise wallboard compatible call days remaining sprint gadget development notes happens user permission access project gadget permission error message days remaining calculated server timezone adjusted user timezone think would follow server timezone accurate remote teams user timezone days remaining honor time day sprint ends yes displayed active sprint active sprint error message displayed sprint closed days remaining', 'user would like configure user group custom fields shown detail view cos user custom field type group custom field type another restful table people section development notes many users groups add detail view limit actual users groups added defined custom field containing users groups limit amount custom fields displayed people section located rapid board config page issue detail view tab third table users groups notified added board actually added board issue detail view display custom fields type related people user picker group picker person group added board permission see aka permission see filter person group know displayed issue detail view rapid board new tab vertical jump nav people custom field displayed details tab issue detail view people section assignee reporter user group deleted displayed board link person group displayed person group deleted following link show appropriate error page user group renamed link still work changes reflected next refresh data questions surprise previously considered answered', 'user would like control chart showing time issue progress cos progress defined columns yellow', 'user like rapid board remember board regardless computer cos keep last boards used server side logged', 'patrick want assign issues version permissions one version associated issue using feature fixversion replaced assign multiple issues single version easily happens multiple issues multiple projects dragged allow drop version panel possibly explore additional message change cursor happens issue proja dropped onto projb allow drop version panel show message able drag issues active sprints future sprints backlog refer comments dialog destructively updating note ie8 experience may good due bad drag drop performance consider messaging invalid drop targets development notes version list stale version exist anymore archived show issue exist message reload issues list issue converted subtask epic attach anyway issue already part sprint allow need make sure issue reranked drop version fails always cancel ranking drop versions even fails group issues dropped one fail added happens rest notify user update anything show message saying user permission update issue dropzones properly hidden version tab hidden yes drag drop work well quick instant filters yes direct influence', 'user would like able configure business value numeric field shown detail view cos business value custom fields type numeric estimate statistic offer add already added show warning configuration page show detail view board testing kanban scrum boards story points handled differently testing notes add business value already selected estimate field currently selected estimate field appear dropdown list time change estimate field click issue detail tab without refreshing page case nothing try add added business value setting estimate statistic appear issue detail view configuration message field allow update properly either updated answered understand one many fields add limitations issues user cannot edit field add duplicate fields happens number field changed another field type think even possible happens field deleted added show valid message config page show issue detail limit length input', 'user would like days remaining gadget cascade select release date exist even within child version instance present selects parent version release date set cause yet know release instead select child version release date', 'administrator would like able turn release planning feature labs feature surfaced labs configuration tab controls visibility release planning feature story', 'patrick want see version assigned issue list view quickly identify issues belong versions estimate column spacing still honoured epic associated version lozenge right justified next estimate version lozenges use colour colour available epics truncation assessed width similar epic lozenges happens issue associated multiple fix versions jira show somehow one version lozenge primary version first unreleased version sequence released versions displayed archived versions development notes version name long truncated via css martin review primary version multi version soonest version rather alphabetical one currently ordered alphabetically please talk tokes tom think different play epics open closed affected remove issue single version multiple remove fix version one versions released still shows version archived jira answered', 'mvr search filter rapid board plan mode search issue key summary text client side first attempt straight direct match substring minimum need multiple keywords', 'user would like able edit rapid view created using someone elses saved filter cos regardless owns saved filter created rapid view based edit rapid view users edit rapid view manage rapid view message saying cant configure link owner', 'like see epic story jira view issue cos show like label remove agile box development notes edit value see information anonymous user yes', 'patrick want able create new version dialog shown fields need populate project name description release date single select autocomplete aka frother control project selection description field text field apply sensible length limits input fields check limits jira place enforce limit 255 chars front end create version affordance displayed user project admin permissions least one project manage sprint logic analytics track usage dialog also capture length version names development notes xss safe yes version name already exists show error message', 'single epic progress report epic report three sections epic progress chart starts epic creation time finishes current date line issue count line unestimated issue count line total amount estimated work using selected estimation statistic line completed work using selected estimation statistic tooltips like sprint burndown show non working days markings means two vertical scales count estimate summary current epic status looks like current statistics plan mode table showing issues currently assigned current status done ghs 6616 testing notes happens stories moved deleted converted subtasks vice versa displayed table answered maximums table length terms issuekey number issues etc break limits answered epic closed done reopened report still available indication history answered editing another issuetype epic vice versa answered reports generated dynamically answered happens visit report url another non epic answered', 'changing fixversion card fixversion outside parent results page refresh change fixversion filter unexpected inconsistent behaviour quote bug appeared 2010 update 2010 task board select version developer change version task version filter changes version developer selected filter assignees working fine least 2010 behaviour flter stayed place little message said something view message working filter current behavior really annoying get back version working using planning board option cannot filter developer quote', 'user would like able return unlimited number results cos query limited number issues global configuration query results limit limit set return issues', 'add subtasks tab detail view plan mode add new subtasks tab add button sub task show summary key avatar status remaining estimate edit button jira edit dialog delete button', 'user would like release planning labs feature promoted getting started page administrators includes button enable feature non admins enabled show message saying available ask administrator enable enabled show users feedback button admins also see link disable feature jay provide new icon', 'use startdate version report calculations include startdate calculations version report description top well timeline timeline starts startdate versions without startdate use previous calculations stories completed startdate completed line adjusted start included trendline calculations display time startdate notes might happy result may end code staying branch extra stories created improve', 'user would like quick link epic epic report view issue page epic report implemented link agile web panel open report current epic like sprint links open dialog board options multiple boards', 'simplified workflow button fails workflow migration complete successfully improved testing notes permission simplify workflow board owner admin admin sys admin board owner allowed permissions edit workflow project simplified workflow already exists project dialog prompt given resolve screen modal dialogs last workflow screens previous workflow removed happen user logged migration interrupted migration make one call server via rest create new simplified workflow scheme kick migration workflow issue transitioned migration whatever happens jira happen user security token expired xsrf token longer used operation board filter changed include multiple projects workflow migration dialog assuming fail error deploying fresh jira instance equipped greenhopper tried enable simplify workflow button failed following error migrate failed jpg authenticate user administrator access admin access jpg workflow migration works fine migrate success jpg would useful sort indication shows user administrator access perhaps next simplify workflow button workaround issue simplified workflow button fails workflow migration complete successfully', 'user would like ability configure expedite swimlane rapid view cos change name swimlane default expedite one swimlane jql configure jql free text field configure manage rapid view page validation autocomplete jql swimlane displayed', 'user like able inline edit components fix version affects version fields detail view cos use frother control entering input experience view issue', 'user want improved performance epic issue statistics updates want date data currently gdog dragging issues epic takes seconds issue count epic update need update statistics shown given epic see comments testing notes write soke test try difference changes varying sizes data answered calculations made client side answered calculations impact client side operations otherwise affect responsiveness answered need checked browsers answered', 'user would like able find information issue epic epic done ability mark epics done possible users see epic name lozenge backlog able see epic panel name refers lozenge issue detail view contain link epic epic report', 'add text agile gadget invalid project message error invalid project add details project configured use greenhopper invalid project configured use greenhopper', 'incoporate changes jira home next jira team tweaked changed jira home martin meinhold link element web item contains target url like link linkid set jira home issuenav secure issuenavigator jspa link actual update url provided jira secure myjirahome set jspa target need put web items since condition one turns appropriate', 'user would like global statuses sorted name manage rapid view assist creating new column unmapped column', 'multi team one backlog user like able pick sprint looking work mode possibly quickfilters', 'generic webwork aliases may clash plugins web work actions commands generic aliases update move synch etc aliases good chance clash action name aliases used plugins aliases given name specific plugin updategreenhopperdropboard alternatively bang syntax used place command aliases dropboardaction update case need define aliases commands however still need define alias empty string otherwise npe thrown parsing xml', 'user want able create board straight jira create project dialog easier plugging plugin point exposed jira specify title hijack project post creation redirect separate buttons scrum kanban simplified workflow default without option select development notes differing implementation btf need consider application permissions believe would relate installation present dealt subsequent stories board configuration allow dialog story covers minimum user able specify project name key project lead provided jira already need create board project assuming simplified workflow happens old create project board dialog nothing', 'best sprint retro report sprint retro report opened opened latest finished sprint latest finished sprint back retro report always show latest finished sprint', 'user would like see mean standard deviation control chart cos perhaps similar style show line control chart mean highlight show std dev interaction expected use chart data one standard deviation highlight', 'user like inline edit sprint name start end date top plan mode styles make sense cos dates split two edits dates behave like existing inline edit work mode dialog edit name editing name inline testing notes happens clicking open inline edits clicking name date picker submit name changed activate edit date picker clicking date pickers change currently edited date picker choosing new date automatically stop editing new date saved error field clicking away field keep field edit mode foreign date formats properly supported tested swedish locale still time code jira issue inline edit works browsers answered', 'mvr make burndown chart understand issue added removed sprint understand scope change handle change story points value graph begins start time sprint logically ends specified end date sprint marked graph continues time sprint actually closed allow sprint specified default currently active sprint start value graph compensate changes start sprint value items burn reach done column items added sprint beginning shown scope change items removed sprint beginning shown scope change items estimate changed beginning sprint shown scope change scope changes anything burndown shown sort visual signal information hovering inflection point', 'update selected epic treatment spoke tokes morning see treatment', 'user would like ability create release fix version containing issues done column cos based correct permissions project administrator release button rhs column normally done release dialog new versions name fix version set description set release date auto populate today date plus date picker notifications explain occured', 'adjust shading epic version report use shades jay indicated sexy charts doc display lines edge projection', 'version set create issue screen jira greenhopper costumer project users schedule permission means cannot manage project backlog however need ability raise new defects inside specific version testing sprint version via jira create new issue screen cannot via greenhopper user interface using button new card version fixed unscheduled case user ability set version jira create issue greenhopper new card screens', 'make sure epics get included sprint moment backlog get put sprint cos epic backlog list starting sprint epics included testing notes check epics draggable backlog area epics feature enabled epic available backlog list drag drop feature disabled drag drop epics like issue type bug story etc', 'epic progress report show status epic board along number stories complete incomplete estimated unestimated include done epics link epic single epic report epic', 'user want able see epic name column issue navigator searches currently using epic link column shows epic issue key', 'rearrange agile menu labs configuration option used enable new agile menu recently used boards top takes manage classic bottom takes planning version board initially choose another one using dropdown menu click agile work currently recent classic rapid board', 'enhance sprint report include scheduled start end actual end triggered hit complete button divide issues completed sprint include status item end sprint include estimate statistic item ideally time item added sprint current easy include sum statistic velocity call issues added removed', 'mvr implement visualisation swimlanes parents needs drop config refer design parents always present except children filtered swimlane configuration retains user defined filters even switch parent strategy', 'user work mode would like board rankable give warning attempt rank like action explain problem cos discuss testing', 'user would like global statuses sorted name manage rapid view assist creating new column unmapped column', 'user would like default jira home page story involves implementing trevs myhome page feature currently per user dark feature could add button affordance make available board page', 'user would like ability see horizontal swimlane rapid board cos based issue priority blocker show swimlane necessary warning swimlane exceeds max amount jql longer term order implement kanban concepts like service class etc need able create horizontal swimlanes limited wip example might want standard limit expedite limit fixed delivery date limit leankit kanban feature actually far advanced describing', 'patrick want adjust release report projections simulate better understand achieved within version allow percentage calculation adjusted default', 'investigate log work operation task task board redirect page assignee steps reproduce click agile tab navigate chart board task board choose assignee display cards user assignee log work expected result work succesfully logged card make assignee unchanged maintaining assignee actual result work logged successfully card set assignee', 'user would like able add another swimlane rapid view cos add additional swimlanes ability delete swimlanes sortable another story jira restful table manage versions', 'implement skinny detail view moves traverse fixed rhs columns visible shifts right currently selected column', 'support need itemized list remaining time items end sprint burndown issues manually painful particularly trying reconcile history', 'workloghistorycacheimpl remove cache registration disposal jst 4291 possible disable enable plugin upm atm problem com atlassian greenhopper service timetracking workloghistorycacheimpl clean registered cache disposal implement org springframework beans factory disposablebean call cachemanager removecache cache name watch ise check net ehcache cachemanager cacheexists string afterpropertiesset', 'restrict editing sprint users schedule permission issue something found randomly guess makes sense check tried clean installation reproduced many times different ways nutshell think shortest path demonstrate following let say project named abc rapid board abc board containing issues project also two users charlie permissions project abc alpha jira users essentially able create issues abc user added specifically example would work anyway alphagroups png createissues png project roles abc like following people png charlie creates abc create png charlie adds abc sprint created also plan png sprint sprint address bar sprint report sprintid png sprint field also visible screens sprintfield png user alpha tries create issue jira remember cannot even browse project abc edit sprint field add sprint case alphacreatesissue png tries view abc cannot permissionviolation png however abc added sprint issueadded png possible missing something perhaps', 'user would like sub tasks sprint parent cases force subtasks complete complete story allowing sprint finished', 'wizard like create board dialog patrick want guided creating board get lost process cos dialog consists three parts board type scrum kanban project filter create new project choose existing specify saved filter leftovers sample data workflow jira simplified dialog replaces existing ones present create new scrum board create new kanban board create new diy board dialog available cog menu incl manage boards diy option removed getting started screen effectively obsolete scrum kanban mode chosen getting started screen wizard start step already know scrum kanban text inviting create new project choose existing getting started needs rewording simply opens dialog remove two things replace link create sample project rewired use new wizard take directly creating project sample data workflow options already selected dev notes existing projects select skip step choose straight create new project filters select option choose create filter user permissions create project menu link button disabled getting started text changes show option create ondemand user application permissions create project menu link button disabled getting started text changes show option create large number existing projects drop really long large number filters drop really long user permission see filters appear list selections persisted board creations scrolling panes persist selections back next pages persist selections proper xss escaping filters projects yes window resized dialog stays size create button disable spinner pressed spinner happens operation cancelled create button pressed within process dialog goes away board created final button pressed page reload board cancel button checked plan work report manage boards board configuration getting started link menu manage boards plan work report dialog render properly browsers always beautiful jira dialog differences expected', 'multi team one backlog user like able pick sprint finish close one cos display inline dialog name start end date button finish', 'display trendline version chart patrick want see trendline version chart understand projection works display trendline connecting projection start version stories removed version completed line match projection fine otherwise trendline straight line', 'patrick want see list versions looking backlog considered versions versions part projects included board unreleased archived ordering version sequence versions within project oldest first overall projects ordered project name display version name along project key name mouse hover version name wraps around project key one long board one project omit project name release versions get empty column filters story add releases button look empty development notes duplicate version names look version names long wrap version renamed deleted system show archived versions dont show reordering versions bound container order changed page edit versions nothing nada rien nope detail view display version selected issues selected selection version yet part filter story fixversions field exist answered way select another version field displayed answered version archived jira included list', 'autocomplete epic link jql patrick want able see autocomplete querying epic link jql easy write queries without making spelling mistakes', 'add atlassian analytics events values need grouped instance many instances actually activated measurement every instance enabled make sure store first visit instance likely secure dashboard jspa jira instances many find rapid boards measurement first visit secure rapidstart jspa instance many ones without first necessary numbers right following points event welcome show many attempt create project measurement opening dialogue create project event welcome create project start type label field many create project many create project type scrum kanban diy many create sample non sample projects measurement store project created event type associated well sample project event welcome create project sampledata type label field preceding next event case simple data used event welcome create project complete type label field many non sample projects create single issue measurement store issue created event event issue created keys array stringified keys field scrum non sample users many create sprint measurement sprint created event event rapidboard sprint backlog addmarker scrum non sample users many start sprint measurement sprint started event event start sprint dialog change start attempt start sprint event start sprint dialog change complete actually start many users use rapid boards exclusively many use mix many use classic exclusively first last cannot determine moment measurement store requests rapidboard jspa two classic boards count per week grouping instance note actual usage grouped instance opposed usage overall larger instances influence binary ever used classic rapid board event rapidboard show view rapid board event classic show view classic board jay many epics appear board event rapidboard epics value field count many versions appear board tbd development notes action triggers event could probably post processing effectively filter order group events', 'greenhopper display assignee auto complete user searching full name jira configuration option turned see jst 4804 information please resolve resolving', 'user would like everything else swimlane exclude issues configured swimlane cos remove card stubs everything else everything else swimlane appends swimlane jql remove unnecessary code css change default swimlane everything else', 'implement estimated unestimated stories progress bar cos coloured section bar number issues estimate applied uncoloured line section bar count issues estimate applied tooltip shows issue counts put expanded epic information panel unestimated estimated testing notes handle filtered issues ignores filtering stories epic bar show zero small small estimate statistic selected board one always selected stories removed sprint answered happens last one gets removed answered another one added answered', 'implement jump nav vertical icons tabs jump part continuous page cos implement icon bar left continuous page headings sections headings heading tab selection status visible section clicking icon scrolls section remembered state detail view navigating issues modes current functionality break development notes make sure plays well existing functionality keyboard shortcuts moving tabs need remember currently selected tab moving next issue returning mode third party icons affect layout icons occupy space maximum 16px 16px resizing large inline edit fields like description field play new continuous page jump navs move content relative change size users able switch back like like option legacy versions continuous improvement jump navs work zoomed supported window sizes window size make difference though resizing taken account size detail view content tabbing tabs still work tabs accessible using tab key fields hidden default screen like description hidden please test icons always hidden detail view closed displayed hidden since within container removed happens item counts exceed available space unlikely expected usage expected behaviour overflow content area clipping ellipsis would help much fit digit numbers occurs happens nav items exceed available space unlikely expected usage possible plugin point point would clipped unavailable click content accessed scrolling detail view render issue selected yes note single column state plan mode work mode closes', 'improve epic linking code perform multiple indexes jra 30144 completed code changes required order opt indexing createissuelink removeissuelink collect issues require indexing perform bulk index issues end operation', 'plan mode layout panels bring closable detail view allow closable epic panel testing notes need test states matrix epics open populated issues backlog exist exist detail view open closed help text answered check minimum resolution answered look overlapping panels try long reasonable length data relevantly displayed fields answered', 'user would like able add another swimlane rapid view cos add additional swimlanes ability delete swimlanes sortable another story jira restful table manage versions', 'user would like see mean standard deviation control chart cos perhaps similar style show line control chart mean highlight show std dev interaction expected use chart data one standard deviation highlight', 'patrick want choose colour version identify easier backlog general idea mimic epic functionality', 'bring context menu work mode allow multiple select current limitations actions bulk change open issue nav remove sprint show warning elsewhere development notes check interoperability actions board menu open try ranking transition cog menu etc check permissions remove spint bulkchange non admin user without delete permission etc check right click trigger issue done open detail view scrolling disappear context changes stale state issue already removed sprint need users check various board configurations swimlanes kanban releasing', 'ability print standard index cards process migrating another system jira currently using bubblejet printer print stories directly onto 3x5 index cards current greenhopper printing functionality print one card per page therefore print directly onto cards would like ability print one card per page card layout sized fit well 3x5 index card', 'allow jql searching issues epic via epic label either jql function change fundamental clause handling allow labels use epic label field look epic use lucene query consider autocomplete testing notes epics duplicate names either globally within search scope match issues list union issues matching epics epic closed resolved agnostic epic label empty even possible epics empty label match', 'allow use sprint name jql find issues sprint cos must autocomplete autocomplete options rendered sprint name start date choosing option autocomplete boils sprint must accept sprint name even unique sprint', 'enable instances create project dialog cos user steps click create project select scrum kanban greenhopper installed display installation message tailored type instance btf ondemand click link mac get license license purchased welcome page create project dialog open scrum kanban selected user cancels return previous page create project dialog open add analytics events every step much possible use existing api provided internal systems team meaning need open new page mac need log copy provided note self make sure include warning need account owner enable also trial works installed otherwise charged copy development notes mac inaccessible answered guess user get 404 click link jar present enabled answered licensed message display', 'user want link scipe stories cos new link type need service link unlink valid epic issue type story issue type', 'expand collapse swimlanes rapid board rather individual swimlane expand collapse function convenient expand collapse swimlanes one cos menu items appear bottom tools menu include keyboard shortcut toggling expand collapse decide keyboard shortcut current choice minus sign', 'ability use upcoming sprint value name jql searches like ability use notion upcoming sprint jql searches instance planned sprints ahead current open sprint like able filter separately issues planned upcoming sprints using advanced search would use search query create swimlanes kanban boards create structures within structure plugin note future sprints date autocomplete needs revisited workaround via database', 'allow numeric field specified sprint tracking statistic rapid board show statistic detail editable plan mode sprint started warn estimate item sprint tracking statistic', 'subtasks story complete parent show affordance clicked user advance parent try resolve issue clarification summary states affordance needs appear parent status sync affordance show status parent minimum required', 'user would like able associate issue epic jira possible implementations issue operation dialog field edit inline edit quick edit', 'rapid board shown add projects shown issues recently used list jira cos pool backlog data return part payload list projects contained issues data expanded upon future story incorporate ghs 5217 case issues found backlog pool determine recent projects query board query project based modify project history smart projects get inserted history viewing rapid board via gadget effect recent projects user smart history consider following example viewing board issues projects issues seen board ordered rank order user current history contains projects following order recent first want upset order projects already history seen desired new ordering projects follows', 'change activity stream documentation regarding repository commits clear documentation activity stream commits repositories dvcs accounts shown seems ones smart commits linking jira issues appear activity stream', 'ability print standard index cards process migrating another system jira currently using bubblejet printer print stories directly onto 3x5 index cards current greenhopper printing functionality print one card per page therefore print directly onto cards would like ability print one card per page card layout sized fit well 3x5 index card', 'restore feedback link rotp header cos put bottom like give feedback jira continue saying give greenhopper feedback apply treatment btf', 'user would like see issue priority plan mode need basic design', 'figure issues come sprint statistic value change half way put items data table bottom added removed sprint even estimate therefore affect burndown add issue sprint estimate change estimate shows statistic value change table problem particularly bad later remove issue sprint issue addition removal completely hidden table shown scope change', 'gather information potential sprint conflicts want get amount rapid boards amount kanban boards amount scrum boards amount sprints amount issues scrum boards amount issues belong multiple sprints amount sprints contain said issues instance problem', 'implement data table burndown chart graph followed table describes exact timeline shown graph point time issue changed values changed shown time table lists issues present beginning graph time end table lists issues remaining', 'user would like able use work mode update performed kill spinner cos allow rank allow quick filter', 'user would like rapid board available via labs cos labs option general configuration enable disable rapid board rapid board displayed agile drop enabled feedback button using andreas jira plugin header manage option rapid board current', 'user like able inline edit components fix version affects version fields detail view cos use frother control entering input experience view issue', 'user would like ability edit remaining estimate without using jira log work dialog acceptance criteria clicking remaining estimate field allow inline edit similar behaviour new inline text edit behaviour', 'mvr agile issue web panel display scrum information issue complex one let break providing web panel view issue page display scrum information information displayed list sprints issue part sprints broken two sections active completed sprints provide link sprint means going rapid board sprint boards available calculated user initiates action valid boards calculated based boards user permission see well issue matches filter board scrum boards considered valid boards user shown message multiple valid boards user prompted choose one one valid board user chosen board user redirected instantly user redirected precise location sprint chosen board sprint active location work mode board sprint completed location retrospective report sprint board', 'patrick want able see projection possible end date version calculated using average time spent per completed story point estimation statistic average story points per day given release far plus optimistic pessimistic variants adding subtracting one standard deviation note changed already return data story points completed date time per story standard deviation big difference cases seem make sense projections must displayed somewhere outside chart well released versions need show projections show intended release date chart midnight end date specified show calculations velocity page take nwd account calculation mean tooltips potential targets show type optimistic pessimistic date least total estimated work version must completed projections shown development notes users using negative story points predicted release date past display prediction rates approach infinity probably need discuss jrogers mjopson tkotecki good point cut moment predicted date infinity display prediction pessimistic date infinity display flat line cut chart predicted date long infinity display distinguishes rate approaches vertical scope change events vertical answered really understand question happens users change estimation board remove completely board reflect current estimation estimation uses time tracking calculate deviation minutes hours days reflected axis calculate units estimation completed per day use project axis change displayed time estimation units user tracking work logged work rate also displayed answered mean time tracking display projected line goes significantly future touches scope line potentially could years future realistic display chart expands display pessimistic date unless infinity case expands show middle prediction could years happens lines version released version marked released total scope total completed scope display prediction happens lines predicted release date moved past never happen happens release date moved future marking version released separate displaying release date regardless whether release date assigned try predict date total scope completed scope version marked released jira release date removed see happens projected lines issues removed version resulting scope change deleted entirely resulting chart change without history scope line stays horizontal scope removed moves theory release date move forward story completed removed used calculation average points completed per day', 'changing fixversion card fixversion outside parent results page refresh change fixversion filter unexpected inconsistent behaviour quote bug appeared 2010 update 2010 task board select version developer change version task version filter changes version developer selected filter assignees working fine least 2010 behaviour flter stayed place little message said something view message working filter current behavior really annoying get back version working using planning board option cannot filter developer quote', 'scrum planner would like ability reorder sprints would extremely useful able reorder sprints plan board changing sprint order would swap relative order issues contained sprints addition improving scrum planning would resolve critical missing feature available classic boards version cards could ordered giving equivalent functionality rapid board', 'user would like ability add maximum minimum constraints column rapid view based upon total issue count cos configure manage rapid view using inline edit default total issue count include sub tasks exclude swimlane duplicates yellow min constraint busted header red max constraint busted header show min current max top column', 'edit startdate fixversion jira patrick want able edit startdate fixversion jira experience jira consistent confusing approach jira jira code base modify jira version table include start date column make schema change jira branch downgrades continue work augment restful table jira project admin page versions show start date allow editing augment rest representation versions include start date add start date field jira api version object code base make aware capability storing start date either jira depending jira version migrate data stored start date jira storage available development notes adding startdate previously released version affect issues apply previously released version release date new start date validated release date adding startdate affect issues archived changes version data affect issues timezone setting startdate follow user system start date release date stored jvm system time zone remove startdate adding yes one way get startdate come releasedate possible happens add startdate version released releasedate start date added without release date special place database column row depending database used way location already taken recycle location field need protect overwrites field startdate exist table projectversion data synchronised tables jira version meta data asked check see exists jira well migrated', 'mvr change keyboard shortcuts planning board etc based new agile menu structure make agile make agile invisible make agile invisible', 'user like existing fields included default detail view configurable like custom fields cos upgrade task existing fields detail tab detail view order atm newly created boards default set note lock rapid view upgrade progress development notes one fields exist possible delete hide field visible detail view listed detail view configuration one fields renamed rename option available system fields custom field named name special handling case works expected difference line editable fields non editable fields detail section happens remove default field upgrade task possible delete system fields jira needs tested databases older versions data need wary pre detail view data handled automatically staff fields expected order order case matter add fields already present', 'user would like ability edit remaining estimate without using jira log work dialog acceptance criteria clicking remaining estimate field allow inline edit similar behaviour new inline text edit behaviour', 'mvr prompt end sprint unfinished parent stories complete subtasks exist offer continue cancel note user back backlog list issues', 'add ability specify multiple board administrators users change configuration delegated admin currently owner jira admin think would good allow team members adjust settings currently company multiple producers team use board would like continue one board whole team', 'add detail view cog menu item remove issue sprint cause scope change work mode confirmation dialog notification successfully removed link issue plan mode', 'rapid board user buggy browser extensions want exceptions thrown extensions break greenhopper greenhopper appears use global exception handler reacts uncaught exception showing error rapid board seen couple support requests users browser extensions throw exceptions cases errors may benign greenhopper could continue function normally errors alarm people result raise support requests could potentially caused javascript runs within context page browser extensions greasemonkey scripts even jira plugins speakeasy extensions', 'user would like able edit rapid view created using someone elses saved filter cos regardless owns saved filter created rapid view based edit rapid view users edit rapid view manage rapid view message saying cant configure link owner', 'planner want able show sum issues remaining estimate upcoming sprint rapidboarduser want able show sum issues remainingestimate see workload cos show equal tracking enabled board', 'allow possible create project time creating board cos scrum kanban choice allow selection existing projects selection filter creation new project link getting started links new dialog appropriate selection create sample kanban project goes second step dialog sample data selected kill advanced', 'user would like ability manage rapid views similar jira managed filters list rapid views link edit delete view option non owners', 'mvr implement issue swimlane strategy java remodelling', 'make cfd sprint sensitive add option refine cfd using sprint', 'allow backlog item estimation statistic rapid board set original estimate allow backlog item estimation statistic rapid board selected set original estimate', 'assign story future sprint patrick want able assign story future sprint query able via sprint able create future sprints assign issues able remove future sprints issues removed able move issues future sprints future sprints updated accordingly backlog shows future sprints regardless whether empty notes part necessary work enable future sprints needs happen dev notes functionality changes send top jira sprint dragging include filtered issues happens sprint becomes orphaned aka assigned boards deleted answered sprint owning board deleted visible second board answered non visible orphaned sprint included filter new board reassigned answered multiple rank fields answered sprints need rank field locked deleted modified jira answered conditions migration task answered happens sprints issues deleted answered issue assigned future sprint via different boards answered', 'rapid board user like able add remove text custom fields bottom detail section detail view cos configuration per board new tab config page text custom field system double check fields estimation filtered based issues board text custom field read detail view add remove fields possible reordering fields fields displayed bottom top section details tab underneath fix version read display testing notes answers mtokar many text fields allow unlimited many system added text fields allowed prohibited custom fields text type standard custom field types means text area small text url happens name attached field modified nothing happen field assigned permission add fields board owner admins fields added per board per project global per board happens remove add text field different position otherwise nothing user permission see attached field user permissions fields field applicable scope selected issue configured issue type project displayed detail view regardless scope text custom fields available added already added field added user detail view open require full page reload detail view refresh see reload detail view users add greenhopper fields details tab could lead odd behavior case story points special greenhopper fields currently allowed added allow text fields number fields well moment text fields fields inline editable detail view moment read fields xss safe yes', 'allow user configure tracking use remaining estimate configuration describe option show remaining estimate detail view edit make card detail view operate expected estimate statistic set original time estimate enter estimate first time also update remaining time estimate issue iff value set already', 'make cfd sprint sensitive add option refine cfd using sprint', 'allow backlog item estimation statistic selected numeric field issue allow backlog item estimation statistic scrum rapid board selected default story point field also possible set numeric field show backlog item estimation statistic plan mode lozenge replaces existing use lozenge detail view card view label unit estimate hover show unit', 'greenhopper ranking field displayed correctly using confluence jira issues macro using greenhopper ranking field conjunction jiraissues macro actual database field value reported xml rather sanitized version', 'mvr search filter rapid board plan mode search issue key summary text client side first attempt straight direct match substring minimum need multiple keywords', 'mvr make burndown chart understand issue added removed sprint understand scope change handle change story points value graph begins start time sprint logically ends specified end date sprint marked graph continues time sprint actually closed allow sprint specified default currently active sprint start value graph compensate changes start sprint value items burn reach done column items added sprint beginning shown scope change items removed sprint beginning shown scope change items estimate changed beginning sprint shown scope change scope changes anything burndown shown sort visual signal information hovering inflection point', 'mvr implement visualisation swimlanes parents needs drop config refer design parents always present except children filtered swimlane configuration retains user defined filters even switch parent strategy', 'user would like ability see horizontal swimlane rapid board cos based issue priority blocker show swimlane necessary warning swimlane exceeds max amount jql longer term order implement kanban concepts like service class etc need able create horizontal swimlanes limited wip example might want standard limit expedite limit fixed delivery date limit leankit kanban feature actually far advanced describing', 'patrick want adjust release report projections simulate better understand achieved within version allow percentage calculation adjusted default', 'implement skinny detail view moves traverse fixed rhs columns visible shifts right currently selected column', 'mvr implement issue swimlane strategy java remodelling', 'make cfd sprint sensitive add option refine cfd using sprint', 'allow backlog item estimation statistic rapid board set original estimate allow backlog item estimation statistic rapid board selected set original estimate', 'assign story future sprint patrick want able assign story future sprint query able via sprint able create future sprints assign issues able remove future sprints issues removed able move issues future sprints future sprints updated accordingly backlog shows future sprints regardless whether empty notes part necessary work enable future sprints needs happen dev notes functionality changes send top jira sprint dragging include filtered issues happens sprint becomes orphaned aka assigned boards deleted answered sprint owning board deleted visible second board answered non visible orphaned sprint included filter new board reassigned answered multiple rank fields answered sprints need rank field locked deleted modified jira answered conditions migration task answered happens sprints issues deleted answered issue assigned future sprint via different boards answered', 'rapid board user like able add remove text custom fields bottom detail section detail view cos configuration per board new tab config page text custom field system double check fields estimation filtered based issues board text custom field read detail view add remove fields possible reordering fields fields displayed bottom top section details tab underneath fix version read display testing notes answers mtokar many text fields allow unlimited many system added text fields allowed prohibited custom fields text type standard custom field types means text area small text url happens name attached field modified nothing happen field assigned permission add fields board owner admins fields added per board per project global per board happens remove add text field different position otherwise nothing user permission see attached field user permissions fields field applicable scope selected issue configured issue type project displayed detail view regardless scope text custom fields available added already added field added user detail view open require full page reload detail view refresh see reload detail view users add greenhopper fields details tab could lead odd behavior case story points special greenhopper fields currently allowed added allow text fields number fields well moment text fields fields inline editable detail view moment read fields xss safe yes', 'allow user configure tracking use remaining estimate configuration describe option show remaining estimate detail view edit make card detail view operate expected estimate statistic set original time estimate enter estimate first time also update remaining time estimate issue iff value set already', 'make cfd sprint sensitive add option refine cfd using sprint', 'allow backlog item estimation statistic selected numeric field issue allow backlog item estimation statistic scrum rapid board selected default story point field also possible set numeric field show backlog item estimation statistic plan mode lozenge replaces existing use lozenge detail view card view label unit estimate hover show unit', 'greenhopper ranking field displayed correctly using confluence jira issues macro using greenhopper ranking field conjunction jiraissues macro actual database field value reported xml rather sanitized version', 'mvr search filter rapid board plan mode search issue key summary text client side first attempt straight direct match substring minimum need multiple keywords', 'mvr make burndown chart understand issue added removed sprint understand scope change handle change story points value graph begins start time sprint logically ends specified end date sprint marked graph continues time sprint actually closed allow sprint specified default currently active sprint start value graph compensate changes start sprint value items burn reach done column items added sprint beginning shown scope change items removed sprint beginning shown scope change items estimate changed beginning sprint shown scope change scope changes anything burndown shown sort visual signal information hovering inflection point', 'mvr implement visualisation swimlanes parents needs drop config refer design parents always present except children filtered swimlane configuration retains user defined filters even switch parent strategy', 'user would like ability see horizontal swimlane rapid board cos based issue priority blocker show swimlane necessary warning swimlane exceeds max amount jql longer term order implement kanban concepts like service class etc need able create horizontal swimlanes limited wip example might want standard limit expedite limit fixed delivery date limit leankit kanban feature actually far advanced describing', 'patrick want adjust release report projections simulate better understand achieved within version allow percentage calculation adjusted default', 'implement skinny detail view moves traverse fixed rhs columns visible shifts right currently selected column', 'mvr implement issue swimlane strategy java remodelling', 'make cfd sprint sensitive add option refine cfd using sprint', 'allow backlog item estimation statistic rapid board set original estimate allow backlog item estimation statistic rapid board selected set original estimate', 'assign story future sprint patrick want able assign story future sprint query able via sprint able create future sprints assign issues able remove future sprints issues removed able move issues future sprints future sprints updated accordingly backlog shows future sprints regardless whether empty notes part necessary work enable future sprints needs happen dev notes functionality changes send top jira sprint dragging include filtered issues happens sprint becomes orphaned aka assigned boards deleted answered sprint owning board deleted visible second board answered non visible orphaned sprint included filter new board reassigned answered multiple rank fields answered sprints need rank field locked deleted modified jira answered conditions migration task answered happens sprints issues deleted answered issue assigned future sprint via different boards answered', 'rapid board user like able add remove text custom fields bottom detail section detail view cos configuration per board new tab config page text custom field system double check fields estimation filtered based issues board text custom field read detail view add remove fields possible reordering fields fields displayed bottom top section details tab underneath fix version read display testing notes answers mtokar many text fields allow unlimited many system added text fields allowed prohibited custom fields text type standard custom field types means text area small text url happens name attached field modified nothing happen field assigned permission add fields board owner admins fields added per board per project global per board happens remove add text field different position otherwise nothing user permission see attached field user permissions fields field applicable scope selected issue configured issue type project displayed detail view regardless scope text custom fields available added already added field added user detail view open require full page reload detail view refresh see reload detail view users add greenhopper fields details tab could lead odd behavior case story points special greenhopper fields currently allowed added allow text fields number fields well moment text fields fields inline editable detail view moment read fields xss safe yes', 'allow user configure tracking use remaining estimate configuration describe option show remaining estimate detail view edit make card detail view operate expected estimate statistic set original time estimate enter estimate first time also update remaining time estimate issue iff value set already', 'make cfd sprint sensitive add option refine cfd using sprint', 'allow backlog item estimation statistic selected numeric field issue allow backlog item estimation statistic scrum rapid board selected default story point field also possible set numeric field show backlog item estimation statistic plan mode lozenge replaces existing use lozenge detail view card view label unit estimate hover show unit', 'greenhopper ranking field displayed correctly using confluence jira issues macro using greenhopper ranking field conjunction jiraissues macro actual database field value reported xml rather sanitized version', 'mvr search filter rapid board plan mode search issue key summary text client side first attempt straight direct match substring minimum need multiple keywords', 'mvr make burndown chart understand issue added removed sprint understand scope change handle change story points value graph begins start time sprint logically ends specified end date sprint marked graph continues time sprint actually closed allow sprint specified default currently active sprint start value graph compensate changes start sprint value items burn reach done column items added sprint beginning shown scope change items removed sprint beginning shown scope change items estimate changed beginning sprint shown scope change scope changes anything burndown shown sort visual signal information hovering inflection point', 'mvr implement visualisation swimlanes parents needs drop config refer design parents always present except children filtered swimlane configuration retains user defined filters even switch parent strategy', 'user would like ability see horizontal swimlane rapid board cos based issue priority blocker show swimlane necessary warning swimlane exceeds max amount jql longer term order implement kanban concepts like service class etc need able create horizontal swimlanes limited wip example might want standard limit expedite limit fixed delivery date limit leankit kanban feature actually far advanced describing', 'patrick want adjust release report projections simulate better understand achieved within version allow percentage calculation adjusted default', 'implement skinny detail view moves traverse fixed rhs columns visible shifts right currently selected column', 'mvr implement issue swimlane strategy java remodelling', 'make cfd sprint sensitive add option refine cfd using sprint', 'allow backlog item estimation statistic rapid board set original estimate allow backlog item estimation statistic rapid board selected set original estimate', 'assign story future sprint patrick want able assign story future sprint query able via sprint able create future sprints assign issues able remove future sprints issues removed able move issues future sprints future sprints updated accordingly backlog shows future sprints regardless whether empty notes part necessary work enable future sprints needs happen dev notes functionality changes send top jira sprint dragging include filtered issues happens sprint becomes orphaned aka assigned boards deleted answered sprint owning board deleted visible second board answered non visible orphaned sprint included filter new board reassigned answered multiple rank fields answered sprints need rank field locked deleted modified jira answered conditions migration task answered happens sprints issues deleted answered issue assigned future sprint via different boards answered', 'rapid board user like able add remove text custom fields bottom detail section detail view cos configuration per board new tab config page text custom field system double check fields estimation filtered based issues board text custom field read detail view add remove fields possible reordering fields fields displayed bottom top section details tab underneath fix version read display testing notes answers mtokar many text fields allow unlimited many system added text fields allowed prohibited custom fields text type standard custom field types means text area small text url happens name attached field modified nothing happen field assigned permission add fields board owner admins fields added per board per project global per board happens remove add text field different position otherwise nothing user permission see attached field user permissions fields field applicable scope selected issue configured issue type project displayed detail view regardless scope text custom fields available added already added field added user detail view open require full page reload detail view refresh see reload detail view users add greenhopper fields details tab could lead odd behavior case story points special greenhopper fields currently allowed added allow text fields number fields well moment text fields fields inline editable detail view moment read fields xss safe yes', 'allow user configure tracking use remaining estimate configuration describe option show remaining estimate detail view edit make card detail view operate expected estimate statistic set original time estimate enter estimate first time also update remaining time estimate issue iff value set already', 'make cfd sprint sensitive add option refine cfd using sprint', 'allow backlog item estimation statistic selected numeric field issue allow backlog item estimation statistic scrum rapid board selected default story point field also possible set numeric field show backlog item estimation statistic plan mode lozenge replaces existing use lozenge detail view card view label unit estimate hover show unit', 'greenhopper ranking field displayed correctly using confluence jira issues macro using greenhopper ranking field conjunction jiraissues macro actual database field value reported xml rather sanitized version', 'mvr search filter rapid board plan mode search issue key summary text client side first attempt straight direct match substring minimum need multiple keywords', 'mvr make burndown chart understand issue added removed sprint understand scope change handle change story points value graph begins start time sprint logically ends specified end date sprint marked graph continues time sprint actually closed allow sprint specified default currently active sprint start value graph compensate changes start sprint value items burn reach done column items added sprint beginning shown scope change items removed sprint beginning shown scope change items estimate changed beginning sprint shown scope change scope changes anything burndown shown sort visual signal information hovering inflection point', 'mvr implement visualisation swimlanes parents needs drop config refer design parents always present except children filtered swimlane configuration retains user defined filters even switch parent strategy', 'user would like ability see horizontal swimlane rapid board cos based issue priority blocker show swimlane necessary warning swimlane exceeds max amount jql longer term order implement kanban concepts like service class etc need able create horizontal swimlanes limited wip example might want standard limit expedite limit fixed delivery date limit leankit kanban feature actually far advanced describing', 'patrick want adjust release report projections simulate better understand achieved within version allow percentage calculation adjusted default', 'implement skinny detail view moves traverse fixed rhs columns visible shifts right currently selected column', 'mvr implement issue swimlane strategy java remodelling', 'make cfd sprint sensitive add option refine cfd using sprint', 'allow backlog item estimation statistic rapid board set original estimate allow backlog item estimation statistic rapid board selected set original estimate', 'assign story future sprint patrick want able assign story future sprint query able via sprint able create future sprints assign issues able remove future sprints issues removed able move issues future sprints future sprints updated accordingly backlog shows future sprints regardless whether empty notes part necessary work enable future sprints needs happen dev notes functionality changes send top jira sprint dragging include filtered issues happens sprint becomes orphaned aka assigned boards deleted answered sprint owning board deleted visible second board answered non visible orphaned sprint included filter new board reassigned answered multiple rank fields answered sprints need rank field locked deleted modified jira answered conditions migration task answered happens sprints issues deleted answered issue assigned future sprint via different boards answered', 'rapid board user like able add remove text custom fields bottom detail section detail view cos configuration per board new tab config page text custom field system double check fields estimation filtered based issues board text custom field read detail view add remove fields possible reordering fields fields displayed bottom top section details tab underneath fix version read display testing notes answers mtokar many text fields allow unlimited many system added text fields allowed prohibited custom fields text type standard custom field types means text area small text url happens name attached field modified nothing happen field assigned permission add fields board owner admins fields added per board per project global per board happens remove add text field different position otherwise nothing user permission see attached field user permissions fields field applicable scope selected issue configured issue type project displayed detail view regardless scope text custom fields available added already added field added user detail view open require full page reload detail view refresh see reload detail view users add greenhopper fields details tab could lead odd behavior case story points special greenhopper fields currently allowed added allow text fields number fields well moment text fields fields inline editable detail view moment read fields xss safe yes', 'allow user configure tracking use remaining estimate configuration describe option show remaining estimate detail view edit make card detail view operate expected estimate statistic set original time estimate enter estimate first time also update remaining time estimate issue iff value set already', 'make cfd sprint sensitive add option refine cfd using sprint', 'allow backlog item estimation statistic selected numeric field issue allow backlog item estimation statistic scrum rapid board selected default story point field also possible set numeric field show backlog item estimation statistic plan mode lozenge replaces existing use lozenge detail view card view label unit estimate hover show unit', 'greenhopper ranking field displayed correctly using confluence jira issues macro using greenhopper ranking field conjunction jiraissues macro actual database field value reported xml rather sanitized version', 'mvr search filter rapid board plan mode search issue key summary text client side first attempt straight direct match substring minimum need multiple keywords', 'mvr make burndown chart understand issue added removed sprint understand scope change handle change story points value graph begins start time sprint logically ends specified end date sprint marked graph continues time sprint actually closed allow sprint specified default currently active sprint start value graph compensate changes start sprint value items burn reach done column items added sprint beginning shown scope change items removed sprint beginning shown scope change items estimate changed beginning sprint shown scope change scope changes anything burndown shown sort visual signal information hovering inflection point', 'mvr implement visualisation swimlanes parents needs drop config refer design parents always present except children filtered swimlane configuration retains user defined filters even switch parent strategy', 'user would like ability see horizontal swimlane rapid board cos based issue priority blocker show swimlane necessary warning swimlane exceeds max amount jql longer term order implement kanban concepts like service class etc need able create horizontal swimlanes limited wip example might want standard limit expedite limit fixed delivery date limit leankit kanban feature actually far advanced describing', 'patrick want adjust release report projections simulate better understand achieved within version allow percentage calculation adjusted default', 'implement skinny detail view moves traverse fixed rhs columns visible shifts right currently selected column', 'mvr implement issue swimlane strategy java remodelling', 'make cfd sprint sensitive add option refine cfd using sprint', 'allow backlog item estimation statistic rapid board set original estimate allow backlog item estimation statistic rapid board selected set original estimate', 'assign story future sprint patrick want able assign story future sprint query able via sprint able create future sprints assign issues able remove future sprints issues removed able move issues future sprints future sprints updated accordingly backlog shows future sprints regardless whether empty notes part necessary work enable future sprints needs happen dev notes functionality changes send top jira sprint dragging include filtered issues happens sprint becomes orphaned aka assigned boards deleted answered sprint owning board deleted visible second board answered non visible orphaned sprint included filter new board reassigned answered multiple rank fields answered sprints need rank field locked deleted modified jira answered conditions migration task answered happens sprints issues deleted answered issue assigned future sprint via different boards answered', 'rapid board user like able add remove text custom fields bottom detail section detail view cos configuration per board new tab config page text custom field system double check fields estimation filtered based issues board text custom field read detail view add remove fields possible reordering fields fields displayed bottom top section details tab underneath fix version read display testing notes answers mtokar many text fields allow unlimited many system added text fields allowed prohibited custom fields text type standard custom field types means text area small text url happens name attached field modified nothing happen field assigned permission add fields board owner admins fields added per board per project global per board happens remove add text field different position otherwise nothing user permission see attached field user permissions fields field applicable scope selected issue configured issue type project displayed detail view regardless scope text custom fields available added already added field added user detail view open require full page reload detail view refresh see reload detail view users add greenhopper fields details tab could lead odd behavior case story points special greenhopper fields currently allowed added allow text fields number fields well moment text fields fields inline editable detail view moment read fields xss safe yes', 'allow user configure tracking use remaining estimate configuration describe option show remaining estimate detail view edit make card detail view operate expected estimate statistic set original time estimate enter estimate first time also update remaining time estimate issue iff value set already', 'make cfd sprint sensitive add option refine cfd using sprint', 'allow backlog item estimation statistic selected numeric field issue allow backlog item estimation statistic scrum rapid board selected default story point field also possible set numeric field show backlog item estimation statistic plan mode lozenge replaces existing use lozenge detail view card view label unit estimate hover show unit', 'greenhopper ranking field displayed correctly using confluence jira issues macro using greenhopper ranking field conjunction jiraissues macro actual database field value reported xml rather sanitized version', 'mvr search filter rapid board plan mode search issue key summary text client side first attempt straight direct match substring minimum need multiple keywords', 'mvr make burndown chart understand issue added removed sprint understand scope change handle change story points value graph begins start time sprint logically ends specified end date sprint marked graph continues time sprint actually closed allow sprint specified default currently active sprint start value graph compensate changes start sprint value items burn reach done column items added sprint beginning shown scope change items removed sprint beginning shown scope change items estimate changed beginning sprint shown scope change scope changes anything burndown shown sort visual signal information hovering inflection point', 'mvr implement visualisation swimlanes parents needs drop config refer design parents always present except children filtered swimlane configuration retains user defined filters even switch parent strategy', 'user would like ability see horizontal swimlane rapid board cos based issue priority blocker show swimlane necessary warning swimlane exceeds max amount jql longer term order implement kanban concepts like service class etc need able create horizontal swimlanes limited wip example might want standard limit expedite limit fixed delivery date limit leankit kanban feature actually far advanced describing', 'patrick want adjust release report projections simulate better understand achieved within version allow percentage calculation adjusted default', 'implement skinny detail view moves traverse fixed rhs columns visible shifts right currently selected column', 'mvr implement issue swimlane strategy java remodelling', 'make cfd sprint sensitive add option refine cfd using sprint', 'allow backlog item estimation statistic rapid board set original estimate allow backlog item estimation statistic rapid board selected set original estimate', 'assign story future sprint patrick want able assign story future sprint query able via sprint able create future sprints assign issues able remove future sprints issues removed able move issues future sprints future sprints updated accordingly backlog shows future sprints regardless whether empty notes part necessary work enable future sprints needs happen dev notes functionality changes send top jira sprint dragging include filtered issues happens sprint becomes orphaned aka assigned boards deleted answered sprint owning board deleted visible second board answered non visible orphaned sprint included filter new board reassigned answered multiple rank fields answered sprints need rank field locked deleted modified jira answered conditions migration task answered happens sprints issues deleted answered issue assigned future sprint via different boards answered', 'rapid board user like able add remove text custom fields bottom detail section detail view cos configuration per board new tab config page text custom field system double check fields estimation filtered based issues board text custom field read detail view add remove fields possible reordering fields fields displayed bottom top section details tab underneath fix version read display testing notes answers mtokar many text fields allow unlimited many system added text fields allowed prohibited custom fields text type standard custom field types means text area small text url happens name attached field modified nothing happen field assigned permission add fields board owner admins fields added per board per project global per board happens remove add text field different position otherwise nothing user permission see attached field user permissions fields field applicable scope selected issue configured issue type project displayed detail view regardless scope text custom fields available added already added field added user detail view open require full page reload detail view refresh see reload detail view users add greenhopper fields details tab could lead odd behavior case story points special greenhopper fields currently allowed added allow text fields number fields well moment text fields fields inline editable detail view moment read fields xss safe yes', 'allow user configure tracking use remaining estimate configuration describe option show remaining estimate detail view edit make card detail view operate expected estimate statistic set original time estimate enter estimate first time also update remaining time estimate issue iff value set already', 'make cfd sprint sensitive add option refine cfd using sprint', 'allow backlog item estimation statistic selected numeric field issue allow backlog item estimation statistic scrum rapid board selected default story point field also possible set numeric field show backlog item estimation statistic plan mode lozenge replaces existing use lozenge detail view card view label unit estimate hover show unit', 'greenhopper ranking field displayed correctly using confluence jira issues macro using greenhopper ranking field conjunction jiraissues macro actual database field value reported xml rather sanitized version', 'mvr search filter rapid board plan mode search issue key summary text client side first attempt straight direct match substring minimum need multiple keywords', 'mvr make burndown chart understand issue added removed sprint understand scope change handle change story points value graph begins start time sprint logically ends specified end date sprint marked graph continues time sprint actually closed allow sprint specified default currently active sprint start value graph compensate changes start sprint value items burn reach done column items added sprint beginning shown scope change items removed sprint beginning shown scope change items estimate changed beginning sprint shown scope change scope changes anything burndown shown sort visual signal information hovering inflection point', 'mvr implement visualisation swimlanes parents needs drop config refer design parents always present except children filtered swimlane configuration retains user defined filters even switch parent strategy']\n",
            "[1, 1, 2, 1, 0, 0, 1, 1, 1, 1, 0, 0, 1, 1, 0, 0, 1, 0, 0, 1, 0, 2, 0, 1, 1, 0, 0, 1, 1, 1, 0, 0, 1, 0, 1, 0, 2, 0, 1, 2, 1, 2, 1, 0, 1, 0, 0, 0, 0, 0, 1, 0, 0, 0, 0, 1, 0, 2, 1, 1, 1, 0, 0, 1, 1, 0, 0, 1, 2, 0, 0, 0, 1, 1, 1, 1, 0, 0, 1, 0, 0, 1, 0, 1, 0, 0, 1, 1, 0, 0, 1, 0, 2, 0, 0, 1, 0, 0, 0, 1, 0, 0, 0, 1, 1, 1, 0, 0, 1, 1, 0, 0, 1, 0, 1, 0, 0, 0, 1, 1, 2, 1, 1, 1, 0, 0, 1, 1, 0, 0, 0, 0, 0, 1, 0, 0, 1, 0, 1, 1, 1, 0, 0, 0, 0, 0, 2, 1, 0, 0, 1, 1, 0, 1, 0, 0, 0, 1, 1, 1, 1, 0, 0, 0, 0, 1, 1, 1, 0, 0, 0, 2, 0, 1, 0, 1, 0, 1, 0, 1, 1, 2, 1, 0, 0, 2, 2, 0, 1, 2, 0, 0, 0, 1, 1, 1, 0, 1, 0, 1, 0, 0, 0, 1, 1, 0, 1, 0, 1, 0, 0, 0, 1, 0, 1, 0, 0, 1, 1, 1, 1, 1, 0, 0, 0, 1, 0, 0, 1, 1, 1, 1, 1, 1, 1, 1, 1, 1, 1, 1, 1, 1, 1, 1, 1, 1, 1, 1, 1, 2, 2, 2, 2, 2, 2, 2, 2, 2, 2, 2, 2, 2, 2, 2, 2, 2, 2, 2, 2, 2, 2, 2, 2, 2, 2, 2, 2, 2, 2, 2, 2, 2, 2, 2, 2, 2, 2, 2, 2, 2, 2, 2, 2, 2, 2, 2, 2, 2, 2, 2, 2, 2, 2, 2, 2, 2, 2, 2, 2, 2, 2, 2, 2, 2, 2, 2, 2, 2, 2, 2, 2, 2, 2, 2, 2, 2, 2, 2, 2, 2, 2, 2, 2, 2, 2, 2, 2, 2, 2, 2, 2, 2, 2, 2, 2, 2, 2, 2, 2, 2, 2]\n",
            "['user would like ability see horizontal swimlane rapid board cos based issue priority blocker show swimlane necessary warning swimlane exceeds max amount jql longer term order implement kanban concepts like service class etc need able create horizontal swimlanes limited wip example might want standard limit expedite limit fixed delivery date limit leankit kanban feature actually far advanced describing', 'order able select report options easily want better control use opening dropdown menu large amount options menu force page scroll cos four reports affected version report sprint report sprint burndown epic report control uses auto complete single select style grouping select options dev notes frother case insensitive yes search spaces single char spaces character yes happens invalid string typed actions matches message try submit invalid value revert previous selection happens search closed archived sprints versions options show previously search anonymous user options show previously input xss safe yes long input limit match revert selection tests update epic version report qunit tests updated reflect changes', 'user want see median time scrum kanban charts would allow people find median time issues take fixed qaed pass arbitrary stages issue lifecycle median arguably useful time mean less influenced outliers', 'like see stories epic jira view issue cos issues epic panel immediately beneath sub tasks panel looks like sub tasks panel plus button create new issues dropdown filter issues numbered list prepend summary issue key fields done ness icon issue key summary issue type icon status assignee include issue operations cog per issue order default rank field show linked issues development notes perform large number issues fine dont permission see issues logged issues user permission see displayed list support infrastructure possible bulk edit functionality view issue nav link non stories epic link story converted something else issue currently linked epic via epic link field displayed epics epic link also converted story see', 'code fixes required latest breakit version breakit snapshot since jan 3rd last unaffected version m04 actionutil actionnames possibly actiondispatcher related code removed greenhopper uses code classic board fields update field values set assignee component version etc fix replace update code use proper jira api see deprecated messages actionnames replace code', 'user would like configure label select check radio version fields shown detail view cos label custom fields select multi select custom fields check multi check radio version custom field testing notes many fields add many like selectable detail view current state field read display field multiple selections comma separated problem adding fields duplicate names field configuration stored would hard know one though', 'quick filters collapse show reveal pattern wrap one line use pattern similar reveal text pattern adg quick filters horizontal screen space screen wide enough wrap hide remaining ones display show link last quick filter clicking show reveal rest quick filters show change say show less instead default state users collapsed state whether filters collapsed shown persistent user level reordering quick filters stays today header collapsed keyboard behaviour stays', 'nullpointerexception occurs editing issue related greenhopper released version history field attempting edit issue jira edit fails user clicks update button throws java lang nullpointerexception top edit issue window check logs following error appears noformat 400000004f45c7530fe9a96c 2012 265 processor10 error sysadmin 117x11680x1 evyd4p 167 133 207 223 247 secure quickeditissue jspa jira issue defaultissueservice exception occurred editing issue java lang nullpointerexception 400000004f45c7530fe9b13c java lang nullpointerexception 400000004f45c7530fe9b524 java util abstractcollection addall abstractcollection java 303 400000004f45c7530fe9b524 com pyxis greenhopper jira customfields releasedversionhistorycftype updatevalue releasedversionhistorycftype java 400000004f45c7530fed04cc com pyxis greenhopper jira customfields releasedversionhistorycftype updatevalue releasedversionhistorycftype java 400000004f45c7530fed08b4 com atlassian jira issue fields customfieldimpl updatevalue customfieldimpl java 405 400000004f45c7530fed08b4 com atlassian jira issue fields customfieldimpl updatevalue customfieldimpl java 366 400000004f45c7530fed146c com atlassian jira issue managers defaultissuemanager updatefieldvalues defaultissuemanager java 589 400000004f45c7530fed146c com atlassian jira issue managers defaultissuemanager updateissue defaultissuemanager java 554 400000004f45c7530fed1854 com atlassian jira issue defaultissueservice update defaultissueservice java 272 400000004f45c7530fed27f4 com atlassian jira issue defaultissueservice update defaultissueservice java 246 400000004f45c7530fed2bdc sun reflect generatedmethodaccessor1929 invoke unknown source 400000004f45c7530fed2bdc sun reflect delegatingmethodaccessorimpl invoke delegatingmethodaccessorimpl java 400000004f45c7530fed2fc4 java lang reflect method invoke method java 597 400000004f45c7530fed33ac com atlassian multitenant impl multitenantcomponentfactoryimpl abstractmultitenantawareinvocationhandler invokeinternal multitenantcomponentfactoryimpl java 181 400000004f45c7530fed3794 com atlassian multitenant impl multitenantcomponentfactoryimpl multitenantawareinvocationhandler invoke multitenantcomponentfactoryimpl java 211 400000004f45c7530fed3b7c proxy298 update unknown source 400000004f45c7530fed3b7c sun reflect generatedmethodaccessor1929 invoke unknown source 400000004f45c7530fed434c sun reflect delegatingmethodaccessorimpl invoke delegatingmethodaccessorimpl java 400000004f45c7530fed434c java lang reflect method invoke method java 597 400000004f45c7530fed4734 com atlassian plugin osgi hostcomponents impl defaultcomponentregistrar contextclassloadersettinginvocationhandler invoke defaultcomponentregistrar java 129 400000004f45c7530fed4f04 proxy298 update unknown source 400000004f45c7530fed52ec sun reflect generatedmethodaccessor1929 invoke unknown source 400000004f45c7530fed52ec sun reflect delegatingmethodaccessorimpl invoke delegatingmethodaccessorimpl java 400000004f45c7530fed56d4 java lang reflect method invoke method java 597 400000004f45c7530fed5abc com atlassian plugin osgi bridge external hostcomponentfactorybean dynamicserviceinvocationhandler invoke hostcomponentfactorybean java 154 400000004f45c7530fed5ea4 proxy298 update unknown source 400000004f45c7530fed5ea4 com atlassian jira quickedit action quickeditissue doexecute quickeditissue java 128 400000004f45c7530fed628c webwork action actionsupport execute actionsupport java 165 400000004f45c7530fed79fc com atlassian jira action jiraactionsupport execute jiraactionsupport java 400000004f45c7530fed79fc webwork interceptor defaultinterceptorchain proceed defaultinterceptorchain java 400000004f45c7530fed7de4 webwork interceptor nestedinterceptorchain proceed nestedinterceptorchain java 400000004f45c7530fed7de4 webwork interceptor chainedinterceptor intercept chainedinterceptor java 400000004f45c7530fed85b4 webwork interceptor defaultinterceptorchain proceed defaultinterceptorchain java 400000004f45c7530fed916c webwork dispatcher genericdispatcher executeaction genericdispatcher java 205 400000004f45c7530fed916c webwork dispatcher genericdispatcher executeaction genericdispatcher java 143 400000004f45c7530fed9554 com atlassian jira web dispatcher jirawebworkactiondispatcher service jirawebworkactiondispatcher java 152 400000004f45c7530fed993c javax servlet 400000004f45c7530fed9d24 org apache catalina core applicationfilterchain internaldofilter applicationfilterchain java 290 400000004f45c7530feda10c org apache catalina core applicationfilterchain dofilter applicationfilterchain java 206 400000004f45c7530feda10c com atlassian jira web filters steps chainedfiltersteprunner dofilter chainedfiltersteprunner java 400000004f45c7530feda4f4 org apache catalina core applicationfilterchain internaldofilter applicationfilterchain java 235 400000004f45c7530feda8dc org apache catalina core applicationfilterchain dofilter applicationfilterchain java 206 400000004f45c7530fedacc4 com atlassian core filters headersanitisingfilter dofilter headersanitisingfilter java 400000004f45c7530fedacc4 org apache catalina core applicationfilterchain internaldofilter applicationfilterchain java 235 400000004f45c7530fedb87c org apache catalina core applicationfilterchain dofilter applicationfilterchain java 206 400000004f45c7530fedb87c com atlassian plugin servlet filter iteratingfilterchain dofilter iteratingfilterchain java 400000004f45c7530fedbc64 com atlassian plugin servlet filter delegatingpluginfilter dofilter delegatingpluginfilter java 400000004f45c7530fedbc64 com atlassian applinks core rest context contextfilter dofilter contextfilter java 400000004f45c7530fedc81c com atlassian plugin servlet filter delegatingpluginfilter dofilter delegatingpluginfilter java 400000004f45c7530fedc81c com atlassian plugin servlet filter iteratingfilterchain dofilter iteratingfilterchain java 400000004f45c7530fedcc04 com atlassian plugin servlet filter delegatingpluginfilter dofilter delegatingpluginfilter java 400000004f45c7530fedcc04 com atlassian agmp integration jira reprovisionconfigfilter dofilter reprovisionconfigfilter java 400000004f45c7530fedd3d4 com atlassian plugin servlet filter delegatingpluginfilter dofilter delegatingpluginfilter java noformat confirmed error occuring issues value custom field type greenhopper released version history workaround appears occur release version history field added screen used editing remove field screens issue resolved', 'user would like see issues linked epic plan mode would awesome entry epic area let call ungrouped clicked shows items mapped epic found painful scroll entire backlog find right issue click drag way top drop right epic issue item dragged dropped unassociated epic currently connected development notes happens item epics assigned way tell empty without selecting count clicking epic link automatically add issue unlinked epic correct good note unlinked epic update new addition case currently selected yes include issues within backlog also issues work mode epic filtering issues plan mode includes active sprints listed top board require refresh order display newly linked issues uses update epic filtering full page reload', 'configuration custom scrum templates lost upgrade custom templates created scrum template modified version prior upgrade one affected ones cause configuration associated templates lost bug caused side effect fixing see additional information', 'allow inline edit epic label testing notes make sure test opening inline edit making change following actions clicking inline edits closing epics detail panel switching modes drag drop create delete sprints reordering epics multi select opening tools menu applying quick instant filters creating new issue create new epic anything missing test foreign character work utf characters work xss try long reasonable input input limited reasonable length tab submit well yes initiate inline edit next epic think okay', 'add ability specify multiple board administrators users change configuration delegated admin currently owner jira admin think would good allow team members adjust settings currently company multiple producers team use board would like continue one board whole team', 'user like know filter configuration tab issues match filter appearing screen column cos something filter tab click column tab testing notes alert dialog dismissable warning shown filter tab dismissable count issues displayed nope get message soon exists issue unmapped whenever view filters tab issue unmapped current user users page refresh load configuration statuses currently issues unmapped status unmapped statuses issues message immediately disappear last applicable status becomes mapped yes fix last unmapped status issues view filters tab longer appears current user users page refresh load configuration', 'excel export plan mode patrick want able export selected stories excel straight greenhopper easily manipulate way want notes use jira export excel feature respect configuration available context menu', 'greenhopper ranking field displayed correctly using confluence jira issues macro using greenhopper ranking field conjunction jiraissues macro actual database field value reported xml rather sanitized version', 'put filtered icon top backlog sprint header clicking clears filters active sprints upcoming sprints backlog currently show message inside container contents affected filter issues remain filter one instant filter quick filter epic filter sprints counts showing visible issues visible issues backlog help users realise filters affecting contents container assist removal filtering add icon filtered container title attribute tooltip contain message format issues filtered click clear filters clicking icon reset filters board including quick filters epic filters instant filter instant filter active contents would removed reset stretch additionally making issue count available backlog container show current issue count backlog header see linked eac page sketch testing notes happens apply instant filters field cleared well needs clear value happens issues selected change selection happens open dropdowns button clicked answered buttons clear filters sprint would display filters active sprints needs epic filters panel closed needs clear epic filter', 'patrick want able edit details version', 'patrick want list epics reflect current version filter version filter active epics part version way issues shown faded faded epics still interactive drag drop filter toggling epic numbers metadata may updated filtering active epic filter active version filter activated excludes epic epic filter revert back issues option version filter active epic filtered epic issues currently selected version selected filters active results shown development notes still drop zones faded epics yes epic unfade immediately issue added yes epic fade immediately issue removed yes happens quickfilter filters issues part epic impact fading epics instant filter used impact fading epics happens create issue epic faded epic created issue fix version version filtered epic unfaded contains issue correct version happens create new epic version selected born faded fade born yes faded epics unfade click funnel yes still modify faded epics dropdowns yes files touched dependencies might affected changes impact files components', 'user would like see cumulative flow diagram rapid board show progression issues across board cos flot reporting tab rapid board based upon current rapid view similar colour scheme gadget consistency configurable based columns control chart loading reporting drop chart types cumulative flow diagram found', 'updates jira adg changes mainly admin nav plus gadgets see main functionality changes admin nav docs updated children inherit minor page changes jira gadgets screenshots', 'temporary tools menu option hide show epics plan mode testing notes temporary mean user know get used disappears labs™ interact epics sidebar twixie toggle menu state reflects current state epic panel see ghs 6179 play nicely together yes hide show mean entire panel twixie away actually mean expand collapse expand collapse must test states pan mode epics expanded collapsed populated populated backlog empty filled detail view open closed answered happens jumping work report mode back persists persisted across logins users think user state permission non admin anonymous users anyone', 'url select issue planning board instance greenhopper select correct page issue correct page', 'user would like quick link epic epic report view issue page epic report implemented link agile web panel open report current epic like sprint links open dialog board options multiple boards', 'mvr sprint report include burndown sprint smaller one general one hovers possible', 'mvr click classic new menu structure give way back classic need notification saying probably want link back getting started page message always appears say show shaun write copy new menu structure classic boards longer actively improved recommended use new projects learn getting started new boards', 'allow set resolution simplified workflow patrick want able specify statuses transitions trigger resolution field set done issues resolution solution allow tickbox per status makes global transition status set resolution done unmapped statuses also display information necessarily option change conversion simplified workflow user presented default choice statuses done column selected resolution able override finishing conversion note help people migrating well ones already migrated simplified workflow dev notes changed greenhopper configuration board specific board configuration display valid options part simplify dialog multi select combo box many statuses tick limit happens user moves status another column column moved tick changed user deletes column ticked box move statuses unmapped column status dragged unmapped disabled visible', 'add issue epic jira issues added yet patrick want able add issue empty epic jira fill easily notes achieved either via issue operation always showing existing issues epic panel', 'show table bottom single epic report shows estimate current done undone estimated undone estimated stories cos similar existing sprint report include key summary current estimate testing notes issues removed readded epic report represents current state happens table negative estimates thing sprint report epic visible board contain issues board contains issues another project displayed table issues report dependent board query estimation config removed modified issues board report represents current estimation config per sprint report', 'admin would like know greenhopper upgrade tasks currently things protect upgrade tasks enough need track upgrade tasks runs upgrade task version time', 'user would like ability configure expedite swimlane rapid view cos change name swimlane default expedite one swimlane jql configure jql free text field configure manage rapid view page validation autocomplete jql swimlane displayed', 'planner long backlog would like epics panel stalk backlog scroll cos need separate scrolling long epic lists testing notes happens error messages page well error messages absolute position influenced epics pane well work browsers tested ie8 ie9 last firefox last safari last chrome happens epics tab long scroll main pane epics pane scrollbar content longer available visible height scrollbar appears try combination clicks scrolls epics issues selected bad behaviour view port smaller minimum jira supported size normal happens detail view closed epic pane influenced detail view', 'user would like see status issue detail view work plan including status icon may gone jira soon anyway', 'change hide nav bar shortcut currently cycle normal projector nav mode let separate toggles projector mode used ctrl shift toggles hide nav bar mode rationale consistent confluence also google docs', 'make sprint burndown chart use remaining estimate board configured way changes remaining estimate burned happen time spent burns items added sprint beginning shown scope change items removed sprint beginning shown scope change', 'user would like able return unlimited number results cos query limited number issues global configuration query results limit limit set return issues', 'planner would like way create new issues epic issues automatically assigned epic cos issuetype last issue type unless epic case default story use quick create choose epic let create epic association testing notes happens epic issuetype answered happens creating subtasks answered happens quick edit epic story answered alert indicate user issuetype field changed answered issuetype field displayed screen answered restricted particular group answered', 'make sub projects really need feature single projects projects', 'admin seen analytics question would like asked every page say yes remove getting started rapid board configure rapid board manage rapid board greenhopper general configuration page license page', 'patrick want adjust release report projections simulate better understand achieved within version allow percentage calculation adjusted default', 'scrum planner would like ability reorder sprints would extremely useful able reorder sprints plan board changing sprint order would swap relative order issues contained sprints addition improving scrum planning would resolve critical missing feature available classic boards version cards could ordered giving equivalent functionality rapid board', 'add enable epic labs box getting started screen like scrum support testing notes sure check visibility admin non admin anonymous permissions non admin anon sure check multiple', 'user would like ability manage rapid views similar jira managed filters list rapid views link edit delete view option non owners', 'user would like days remaining gadget cascade select release date exist even within child version instance present selects parent version release date set cause yet know release instead select child version release date', 'user would like rapid board available via labs cos labs option general configuration enable disable rapid board rapid board displayed agile drop enabled feedback button using andreas jira plugin header manage option rapid board current', 'implement estimate done estimate undone progress bar cos green sum estimate value completed stories line unfilled section sum estimate value incompleted stories tooltip shows estimate sums put expanded epic information panel testing notes handle filtered issues change happens bar estimation statistic board always non story points estimate chosen bar represent completed whatever estimate statistic used stories estimate stories shows completed nothing left outstanding right stories estimated shows completed unless estimation statistic issue count one story estimate incompleted shows empty estimates subtasks summed well used remaining estimate bar update invalid estimate entered bar update estimate change story sprint change estimate story sprint started started yes bar update drag story sprint stories completed added epic', 'user like issue created board selected issue default get popup indicating created issue visible clear create issue visible select issue create issue visible show popup happen report mode plan work', 'automatically choosing name next sprint increment number end even word characters punctuation examples sprint sprint stash stash jira jira', 'change epic label field epic name cos rename existing instances field epic name rename type field epic name ignore change items previously created field search references epic label replace epic name including documentation rosie atlassian com testing notes duplicate named field could cause unexpected results miruflin states much deemed unlikely extreme edge case field type already system could cause unexpected results miruflin states much deemed unlikely extreme edge case existing quick filters swimlanes jql reference field name jql become invalid jql made field name changed swimlanes would using epic link though since parent value available', 'btf user want able install via upm creating project allow launch upm install current dashboard process customisation process dealt story banner text please install greenhopper', 'implement sprint burndown chart numeric fields specified estimation statistic field assuming time tracking option specified tracking', 'allow possible create project time creating board cos scrum kanban choice allow selection existing projects selection filter creation new project link getting started links new dialog appropriate selection create sample kanban project goes second step dialog sample data selected kill advanced', 'patrick want choose colour version identify easier backlog general idea mimic epic functionality', 'make selected status epic remembered cos include url addition selected status issue discussion selection states across tiered items parent child mimic common approaches like mail clients folder selected child item selected folder secondary selection shows still active active selection bringing details thinking light showing epic details right think want select epic primary action filter backlog list may worthwhile add details affordance though manually display issue details epic epic selection add next iteration design', 'user would like confirmation delete future sprint accidentally lose work team next sprints planned something greenhopper planning somewhat encourages saying plan sprints somebody accidentally deleted second one hitting subtle grey top corner sprint adding impossible rename sprints shuffle work one due single mis click adding sprints middle impossible suggest deleting middle also', 'version set create issue screen jira greenhopper costumer project users schedule permission means cannot manage project backlog however need ability raise new defects inside specific version testing sprint version via jira create new issue screen cannot via greenhopper user interface using button new card version fixed unscheduled case user ability set version jira create issue greenhopper new card screens', 'add option exclude weekends cycle time calculations viewing cycle time charts weekends included calculations option exclude weekends desired testing notes user timezone match server timezone answered setting remembered page views answered clearly specified option answered happens events happen excluded windows simply displayed calculated answered large outliers excluded period chart adjust properly answered', 'user would like done epics show plan mode would based value epic status field workflow status see sub task writing upgrade task cos show confirmation dialog user updates epic done plan mode done part ghs 6372 upgrade task convert existing epics resolution set epic status done existing epics status set todo epic label issue detail view still show even parent shown epic panel', 'rapid board owner would like able column constraint issues excluding sub tasks testing notes happens case issue subtask captured filter nothing count parent issues sub tasks count affected test see works stories swimlane config well queries still works though less clear issue count refers given see parent issue column negative numbers continue allowed input controls constraints customizable individual constraints globally constraints whole board individual columns last parent removed column subtasks remain count drops zero happens subtask issuetype nothing count affected issues exist happens quick filters active filter parent issues happens quick filters active filter sub task issues count still display appropriate number issues column constraint excludes sub tasks filtering parents set visible counts']\n",
            "[2, 0, 0, 1, 1, 0, 0, 0, 0, 1, 1, 1, 0, 0, 2, 0, 1, 1, 1, 0, 0, 0, 0, 1, 1, 1, 0, 0, 0, 1, 0, 0, 0, 2, 0, 0, 0, 1, 2, 1, 0, 1, 0, 1, 0, 0, 0, 0, 0, 1, 1, 1, 0, 0, 1, 0, 0, 0]\n",
            "test\n",
            "working\n"
          ],
          "name": "stdout"
        },
        {
          "output_type": "stream",
          "text": [
            "2021-03-04 06:03:00,322 : INFO : training model with 2 workers on 1962 vocabulary and 300 features, using sg=0 hs=0 sample=0.001 negative=5 window=5\n",
            "2021-03-04 06:03:00,364 : INFO : worker thread finished; awaiting finish of 1 more threads\n",
            "2021-03-04 06:03:00,368 : INFO : worker thread finished; awaiting finish of 0 more threads\n",
            "2021-03-04 06:03:00,370 : INFO : EPOCH - 1 : training on 18816 raw words (15609 effective words) took 0.0s, 352043 effective words/s\n",
            "2021-03-04 06:03:00,415 : INFO : worker thread finished; awaiting finish of 1 more threads\n",
            "2021-03-04 06:03:00,423 : INFO : worker thread finished; awaiting finish of 0 more threads\n",
            "2021-03-04 06:03:00,426 : INFO : EPOCH - 2 : training on 18816 raw words (15684 effective words) took 0.0s, 319463 effective words/s\n",
            "2021-03-04 06:03:00,482 : INFO : worker thread finished; awaiting finish of 1 more threads\n",
            "2021-03-04 06:03:00,484 : INFO : worker thread finished; awaiting finish of 0 more threads\n",
            "2021-03-04 06:03:00,485 : INFO : EPOCH - 3 : training on 18816 raw words (15675 effective words) took 0.0s, 388389 effective words/s\n",
            "2021-03-04 06:03:00,530 : INFO : worker thread finished; awaiting finish of 1 more threads\n",
            "2021-03-04 06:03:00,541 : INFO : worker thread finished; awaiting finish of 0 more threads\n",
            "2021-03-04 06:03:00,542 : INFO : EPOCH - 4 : training on 18816 raw words (15647 effective words) took 0.1s, 301601 effective words/s\n",
            "2021-03-04 06:03:00,589 : INFO : worker thread finished; awaiting finish of 1 more threads\n",
            "2021-03-04 06:03:00,592 : INFO : worker thread finished; awaiting finish of 0 more threads\n",
            "2021-03-04 06:03:00,597 : INFO : EPOCH - 5 : training on 18816 raw words (15604 effective words) took 0.0s, 349354 effective words/s\n",
            "2021-03-04 06:03:00,645 : INFO : worker thread finished; awaiting finish of 1 more threads\n",
            "2021-03-04 06:03:00,647 : INFO : worker thread finished; awaiting finish of 0 more threads\n",
            "2021-03-04 06:03:00,653 : INFO : EPOCH - 6 : training on 18816 raw words (15678 effective words) took 0.0s, 330441 effective words/s\n",
            "2021-03-04 06:03:00,696 : INFO : worker thread finished; awaiting finish of 1 more threads\n",
            "2021-03-04 06:03:00,702 : INFO : worker thread finished; awaiting finish of 0 more threads\n",
            "2021-03-04 06:03:00,704 : INFO : EPOCH - 7 : training on 18816 raw words (15696 effective words) took 0.0s, 337777 effective words/s\n",
            "2021-03-04 06:03:00,749 : INFO : worker thread finished; awaiting finish of 1 more threads\n",
            "2021-03-04 06:03:00,751 : INFO : worker thread finished; awaiting finish of 0 more threads\n",
            "2021-03-04 06:03:00,753 : INFO : EPOCH - 8 : training on 18816 raw words (15705 effective words) took 0.0s, 342198 effective words/s\n",
            "2021-03-04 06:03:00,799 : INFO : worker thread finished; awaiting finish of 1 more threads\n",
            "2021-03-04 06:03:00,806 : INFO : worker thread finished; awaiting finish of 0 more threads\n",
            "2021-03-04 06:03:00,808 : INFO : EPOCH - 9 : training on 18816 raw words (15619 effective words) took 0.0s, 329327 effective words/s\n",
            "2021-03-04 06:03:00,855 : INFO : worker thread finished; awaiting finish of 1 more threads\n",
            "2021-03-04 06:03:00,859 : INFO : worker thread finished; awaiting finish of 0 more threads\n",
            "2021-03-04 06:03:00,861 : INFO : EPOCH - 10 : training on 18816 raw words (15704 effective words) took 0.0s, 356692 effective words/s\n",
            "2021-03-04 06:03:00,906 : INFO : worker thread finished; awaiting finish of 1 more threads\n",
            "2021-03-04 06:03:00,917 : INFO : worker thread finished; awaiting finish of 0 more threads\n",
            "2021-03-04 06:03:00,918 : INFO : EPOCH - 11 : training on 18816 raw words (15684 effective words) took 0.1s, 292666 effective words/s\n",
            "2021-03-04 06:03:00,963 : INFO : worker thread finished; awaiting finish of 1 more threads\n",
            "2021-03-04 06:03:00,967 : INFO : worker thread finished; awaiting finish of 0 more threads\n",
            "2021-03-04 06:03:00,968 : INFO : EPOCH - 12 : training on 18816 raw words (15763 effective words) took 0.0s, 374354 effective words/s\n",
            "2021-03-04 06:03:01,026 : INFO : worker thread finished; awaiting finish of 1 more threads\n",
            "2021-03-04 06:03:01,032 : INFO : worker thread finished; awaiting finish of 0 more threads\n",
            "2021-03-04 06:03:01,038 : INFO : EPOCH - 13 : training on 18816 raw words (15673 effective words) took 0.0s, 339035 effective words/s\n",
            "2021-03-04 06:03:01,085 : INFO : worker thread finished; awaiting finish of 1 more threads\n",
            "2021-03-04 06:03:01,088 : INFO : worker thread finished; awaiting finish of 0 more threads\n",
            "2021-03-04 06:03:01,090 : INFO : EPOCH - 14 : training on 18816 raw words (15678 effective words) took 0.0s, 357611 effective words/s\n",
            "2021-03-04 06:03:01,139 : INFO : worker thread finished; awaiting finish of 1 more threads\n",
            "2021-03-04 06:03:01,143 : INFO : worker thread finished; awaiting finish of 0 more threads\n",
            "2021-03-04 06:03:01,145 : INFO : EPOCH - 15 : training on 18816 raw words (15669 effective words) took 0.0s, 347385 effective words/s\n",
            "2021-03-04 06:03:01,196 : INFO : worker thread finished; awaiting finish of 1 more threads\n",
            "2021-03-04 06:03:01,200 : INFO : worker thread finished; awaiting finish of 0 more threads\n",
            "2021-03-04 06:03:01,204 : INFO : EPOCH - 16 : training on 18816 raw words (15631 effective words) took 0.0s, 314128 effective words/s\n",
            "2021-03-04 06:03:01,253 : INFO : worker thread finished; awaiting finish of 1 more threads\n",
            "2021-03-04 06:03:01,254 : INFO : worker thread finished; awaiting finish of 0 more threads\n",
            "2021-03-04 06:03:01,256 : INFO : EPOCH - 17 : training on 18816 raw words (15624 effective words) took 0.0s, 358284 effective words/s\n",
            "2021-03-04 06:03:01,308 : INFO : worker thread finished; awaiting finish of 1 more threads\n",
            "2021-03-04 06:03:01,315 : INFO : worker thread finished; awaiting finish of 0 more threads\n",
            "2021-03-04 06:03:01,316 : INFO : EPOCH - 18 : training on 18816 raw words (15650 effective words) took 0.1s, 301057 effective words/s\n",
            "2021-03-04 06:03:01,363 : INFO : worker thread finished; awaiting finish of 1 more threads\n",
            "2021-03-04 06:03:01,365 : INFO : worker thread finished; awaiting finish of 0 more threads\n",
            "2021-03-04 06:03:01,366 : INFO : EPOCH - 19 : training on 18816 raw words (15696 effective words) took 0.0s, 406222 effective words/s\n",
            "2021-03-04 06:03:01,417 : INFO : worker thread finished; awaiting finish of 1 more threads\n",
            "2021-03-04 06:03:01,420 : INFO : worker thread finished; awaiting finish of 0 more threads\n",
            "2021-03-04 06:03:01,422 : INFO : EPOCH - 20 : training on 18816 raw words (15670 effective words) took 0.0s, 361788 effective words/s\n",
            "2021-03-04 06:03:01,471 : INFO : worker thread finished; awaiting finish of 1 more threads\n",
            "2021-03-04 06:03:01,485 : INFO : worker thread finished; awaiting finish of 0 more threads\n",
            "2021-03-04 06:03:01,487 : INFO : EPOCH - 21 : training on 18816 raw words (15644 effective words) took 0.1s, 285121 effective words/s\n",
            "2021-03-04 06:03:01,531 : INFO : worker thread finished; awaiting finish of 1 more threads\n",
            "2021-03-04 06:03:01,541 : INFO : worker thread finished; awaiting finish of 0 more threads\n",
            "2021-03-04 06:03:01,542 : INFO : EPOCH - 22 : training on 18816 raw words (15697 effective words) took 0.0s, 341454 effective words/s\n",
            "2021-03-04 06:03:01,588 : INFO : worker thread finished; awaiting finish of 1 more threads\n",
            "2021-03-04 06:03:01,592 : INFO : worker thread finished; awaiting finish of 0 more threads\n",
            "2021-03-04 06:03:01,593 : INFO : EPOCH - 23 : training on 18816 raw words (15653 effective words) took 0.0s, 322829 effective words/s\n",
            "2021-03-04 06:03:01,645 : INFO : worker thread finished; awaiting finish of 1 more threads\n",
            "2021-03-04 06:03:01,650 : INFO : worker thread finished; awaiting finish of 0 more threads\n",
            "2021-03-04 06:03:01,653 : INFO : EPOCH - 24 : training on 18816 raw words (15665 effective words) took 0.0s, 348977 effective words/s\n",
            "2021-03-04 06:03:01,702 : INFO : worker thread finished; awaiting finish of 1 more threads\n",
            "2021-03-04 06:03:01,712 : INFO : worker thread finished; awaiting finish of 0 more threads\n",
            "2021-03-04 06:03:01,713 : INFO : EPOCH - 25 : training on 18816 raw words (15713 effective words) took 0.1s, 311209 effective words/s\n",
            "2021-03-04 06:03:01,765 : INFO : worker thread finished; awaiting finish of 1 more threads\n",
            "2021-03-04 06:03:01,770 : INFO : worker thread finished; awaiting finish of 0 more threads\n",
            "2021-03-04 06:03:01,773 : INFO : EPOCH - 26 : training on 18816 raw words (15653 effective words) took 0.0s, 336585 effective words/s\n",
            "2021-03-04 06:03:01,822 : INFO : worker thread finished; awaiting finish of 1 more threads\n",
            "2021-03-04 06:03:01,827 : INFO : worker thread finished; awaiting finish of 0 more threads\n",
            "2021-03-04 06:03:01,828 : INFO : EPOCH - 27 : training on 18816 raw words (15660 effective words) took 0.0s, 333229 effective words/s\n",
            "2021-03-04 06:03:01,876 : INFO : worker thread finished; awaiting finish of 1 more threads\n",
            "2021-03-04 06:03:01,880 : INFO : worker thread finished; awaiting finish of 0 more threads\n",
            "2021-03-04 06:03:01,881 : INFO : EPOCH - 28 : training on 18816 raw words (15771 effective words) took 0.0s, 464007 effective words/s\n",
            "2021-03-04 06:03:01,926 : INFO : worker thread finished; awaiting finish of 1 more threads\n",
            "2021-03-04 06:03:01,934 : INFO : worker thread finished; awaiting finish of 0 more threads\n",
            "2021-03-04 06:03:01,936 : INFO : EPOCH - 29 : training on 18816 raw words (15632 effective words) took 0.1s, 308966 effective words/s\n",
            "2021-03-04 06:03:01,983 : INFO : worker thread finished; awaiting finish of 1 more threads\n",
            "2021-03-04 06:03:01,985 : INFO : worker thread finished; awaiting finish of 0 more threads\n",
            "2021-03-04 06:03:01,988 : INFO : EPOCH - 30 : training on 18816 raw words (15548 effective words) took 0.0s, 347003 effective words/s\n",
            "2021-03-04 06:03:02,038 : INFO : worker thread finished; awaiting finish of 1 more threads\n",
            "2021-03-04 06:03:02,039 : INFO : worker thread finished; awaiting finish of 0 more threads\n",
            "2021-03-04 06:03:02,046 : INFO : EPOCH - 31 : training on 18816 raw words (15684 effective words) took 0.1s, 287677 effective words/s\n",
            "2021-03-04 06:03:02,093 : INFO : worker thread finished; awaiting finish of 1 more threads\n",
            "2021-03-04 06:03:02,097 : INFO : worker thread finished; awaiting finish of 0 more threads\n",
            "2021-03-04 06:03:02,098 : INFO : EPOCH - 32 : training on 18816 raw words (15683 effective words) took 0.0s, 358239 effective words/s\n",
            "2021-03-04 06:03:02,146 : INFO : worker thread finished; awaiting finish of 1 more threads\n",
            "2021-03-04 06:03:02,150 : INFO : worker thread finished; awaiting finish of 0 more threads\n",
            "2021-03-04 06:03:02,151 : INFO : EPOCH - 33 : training on 18816 raw words (15621 effective words) took 0.0s, 395106 effective words/s\n",
            "2021-03-04 06:03:02,201 : INFO : worker thread finished; awaiting finish of 1 more threads\n",
            "2021-03-04 06:03:02,210 : INFO : worker thread finished; awaiting finish of 0 more threads\n",
            "2021-03-04 06:03:02,212 : INFO : EPOCH - 34 : training on 18816 raw words (15671 effective words) took 0.0s, 333271 effective words/s\n",
            "2021-03-04 06:03:02,260 : INFO : worker thread finished; awaiting finish of 1 more threads\n",
            "2021-03-04 06:03:02,269 : INFO : worker thread finished; awaiting finish of 0 more threads\n",
            "2021-03-04 06:03:02,272 : INFO : EPOCH - 35 : training on 18816 raw words (15694 effective words) took 0.0s, 352154 effective words/s\n",
            "2021-03-04 06:03:02,318 : INFO : worker thread finished; awaiting finish of 1 more threads\n",
            "2021-03-04 06:03:02,320 : INFO : worker thread finished; awaiting finish of 0 more threads\n",
            "2021-03-04 06:03:02,321 : INFO : EPOCH - 36 : training on 18816 raw words (15702 effective words) took 0.0s, 352325 effective words/s\n",
            "2021-03-04 06:03:02,368 : INFO : worker thread finished; awaiting finish of 1 more threads\n",
            "2021-03-04 06:03:02,371 : INFO : worker thread finished; awaiting finish of 0 more threads\n",
            "2021-03-04 06:03:02,373 : INFO : EPOCH - 37 : training on 18816 raw words (15726 effective words) took 0.0s, 380650 effective words/s\n",
            "2021-03-04 06:03:02,418 : INFO : worker thread finished; awaiting finish of 1 more threads\n",
            "2021-03-04 06:03:02,420 : INFO : worker thread finished; awaiting finish of 0 more threads\n",
            "2021-03-04 06:03:02,425 : INFO : EPOCH - 38 : training on 18816 raw words (15724 effective words) took 0.0s, 358778 effective words/s\n",
            "2021-03-04 06:03:02,475 : INFO : worker thread finished; awaiting finish of 1 more threads\n",
            "2021-03-04 06:03:02,485 : INFO : worker thread finished; awaiting finish of 0 more threads\n",
            "2021-03-04 06:03:02,488 : INFO : EPOCH - 39 : training on 18816 raw words (15621 effective words) took 0.1s, 290883 effective words/s\n",
            "2021-03-04 06:03:02,535 : INFO : worker thread finished; awaiting finish of 1 more threads\n",
            "2021-03-04 06:03:02,545 : INFO : worker thread finished; awaiting finish of 0 more threads\n",
            "2021-03-04 06:03:02,546 : INFO : EPOCH - 40 : training on 18816 raw words (15738 effective words) took 0.1s, 285168 effective words/s\n",
            "2021-03-04 06:03:02,594 : INFO : worker thread finished; awaiting finish of 1 more threads\n",
            "2021-03-04 06:03:02,598 : INFO : worker thread finished; awaiting finish of 0 more threads\n",
            "2021-03-04 06:03:02,602 : INFO : EPOCH - 41 : training on 18816 raw words (15643 effective words) took 0.0s, 347332 effective words/s\n",
            "2021-03-04 06:03:02,653 : INFO : worker thread finished; awaiting finish of 1 more threads\n",
            "2021-03-04 06:03:02,658 : INFO : worker thread finished; awaiting finish of 0 more threads\n",
            "2021-03-04 06:03:02,662 : INFO : EPOCH - 42 : training on 18816 raw words (15728 effective words) took 0.0s, 326944 effective words/s\n",
            "2021-03-04 06:03:02,711 : INFO : worker thread finished; awaiting finish of 1 more threads\n",
            "2021-03-04 06:03:02,718 : INFO : worker thread finished; awaiting finish of 0 more threads\n",
            "2021-03-04 06:03:02,720 : INFO : EPOCH - 43 : training on 18816 raw words (15761 effective words) took 0.0s, 342591 effective words/s\n",
            "2021-03-04 06:03:02,768 : INFO : worker thread finished; awaiting finish of 1 more threads\n",
            "2021-03-04 06:03:02,775 : INFO : worker thread finished; awaiting finish of 0 more threads\n",
            "2021-03-04 06:03:02,777 : INFO : EPOCH - 44 : training on 18816 raw words (15634 effective words) took 0.0s, 348634 effective words/s\n",
            "2021-03-04 06:03:02,821 : INFO : worker thread finished; awaiting finish of 1 more threads\n",
            "2021-03-04 06:03:02,826 : INFO : worker thread finished; awaiting finish of 0 more threads\n",
            "2021-03-04 06:03:02,828 : INFO : EPOCH - 45 : training on 18816 raw words (15714 effective words) took 0.0s, 379923 effective words/s\n",
            "2021-03-04 06:03:02,876 : INFO : worker thread finished; awaiting finish of 1 more threads\n",
            "2021-03-04 06:03:02,878 : INFO : worker thread finished; awaiting finish of 0 more threads\n",
            "2021-03-04 06:03:02,884 : INFO : EPOCH - 46 : training on 18816 raw words (15657 effective words) took 0.0s, 351815 effective words/s\n",
            "2021-03-04 06:03:02,930 : INFO : worker thread finished; awaiting finish of 1 more threads\n",
            "2021-03-04 06:03:02,931 : INFO : worker thread finished; awaiting finish of 0 more threads\n",
            "2021-03-04 06:03:02,932 : INFO : EPOCH - 47 : training on 18816 raw words (15650 effective words) took 0.0s, 388677 effective words/s\n",
            "2021-03-04 06:03:02,986 : INFO : worker thread finished; awaiting finish of 1 more threads\n",
            "2021-03-04 06:03:02,991 : INFO : worker thread finished; awaiting finish of 0 more threads\n",
            "2021-03-04 06:03:02,992 : INFO : EPOCH - 48 : training on 18816 raw words (15635 effective words) took 0.0s, 371230 effective words/s\n",
            "2021-03-04 06:03:03,040 : INFO : worker thread finished; awaiting finish of 1 more threads\n",
            "2021-03-04 06:03:03,047 : INFO : worker thread finished; awaiting finish of 0 more threads\n",
            "2021-03-04 06:03:03,048 : INFO : EPOCH - 49 : training on 18816 raw words (15682 effective words) took 0.0s, 400683 effective words/s\n",
            "2021-03-04 06:03:03,095 : INFO : worker thread finished; awaiting finish of 1 more threads\n",
            "2021-03-04 06:03:03,097 : INFO : worker thread finished; awaiting finish of 0 more threads\n",
            "2021-03-04 06:03:03,098 : INFO : EPOCH - 50 : training on 18816 raw words (15639 effective words) took 0.0s, 380853 effective words/s\n",
            "2021-03-04 06:03:03,151 : INFO : worker thread finished; awaiting finish of 1 more threads\n",
            "2021-03-04 06:03:03,155 : INFO : worker thread finished; awaiting finish of 0 more threads\n",
            "2021-03-04 06:03:03,160 : INFO : EPOCH - 51 : training on 18816 raw words (15611 effective words) took 0.0s, 338521 effective words/s\n",
            "2021-03-04 06:03:03,203 : INFO : worker thread finished; awaiting finish of 1 more threads\n",
            "2021-03-04 06:03:03,212 : INFO : worker thread finished; awaiting finish of 0 more threads\n",
            "2021-03-04 06:03:03,214 : INFO : EPOCH - 52 : training on 18816 raw words (15666 effective words) took 0.0s, 351740 effective words/s\n",
            "2021-03-04 06:03:03,257 : INFO : worker thread finished; awaiting finish of 1 more threads\n",
            "2021-03-04 06:03:03,264 : INFO : worker thread finished; awaiting finish of 0 more threads\n",
            "2021-03-04 06:03:03,266 : INFO : EPOCH - 53 : training on 18816 raw words (15600 effective words) took 0.0s, 324928 effective words/s\n",
            "2021-03-04 06:03:03,314 : INFO : worker thread finished; awaiting finish of 1 more threads\n",
            "2021-03-04 06:03:03,315 : INFO : worker thread finished; awaiting finish of 0 more threads\n",
            "2021-03-04 06:03:03,316 : INFO : EPOCH - 54 : training on 18816 raw words (15723 effective words) took 0.0s, 408702 effective words/s\n",
            "2021-03-04 06:03:03,366 : INFO : worker thread finished; awaiting finish of 1 more threads\n",
            "2021-03-04 06:03:03,368 : INFO : worker thread finished; awaiting finish of 0 more threads\n",
            "2021-03-04 06:03:03,371 : INFO : EPOCH - 55 : training on 18816 raw words (15726 effective words) took 0.0s, 381988 effective words/s\n",
            "2021-03-04 06:03:03,419 : INFO : worker thread finished; awaiting finish of 1 more threads\n",
            "2021-03-04 06:03:03,424 : INFO : worker thread finished; awaiting finish of 0 more threads\n",
            "2021-03-04 06:03:03,425 : INFO : EPOCH - 56 : training on 18816 raw words (15656 effective words) took 0.0s, 351379 effective words/s\n",
            "2021-03-04 06:03:03,470 : INFO : worker thread finished; awaiting finish of 1 more threads\n",
            "2021-03-04 06:03:03,475 : INFO : worker thread finished; awaiting finish of 0 more threads\n",
            "2021-03-04 06:03:03,481 : INFO : EPOCH - 57 : training on 18816 raw words (15638 effective words) took 0.1s, 305423 effective words/s\n",
            "2021-03-04 06:03:03,532 : INFO : worker thread finished; awaiting finish of 1 more threads\n",
            "2021-03-04 06:03:03,534 : INFO : worker thread finished; awaiting finish of 0 more threads\n",
            "2021-03-04 06:03:03,535 : INFO : EPOCH - 58 : training on 18816 raw words (15652 effective words) took 0.0s, 451606 effective words/s\n",
            "2021-03-04 06:03:03,586 : INFO : worker thread finished; awaiting finish of 1 more threads\n",
            "2021-03-04 06:03:03,596 : INFO : worker thread finished; awaiting finish of 0 more threads\n",
            "2021-03-04 06:03:03,597 : INFO : EPOCH - 59 : training on 18816 raw words (15761 effective words) took 0.1s, 313970 effective words/s\n",
            "2021-03-04 06:03:03,643 : INFO : worker thread finished; awaiting finish of 1 more threads\n",
            "2021-03-04 06:03:03,653 : INFO : worker thread finished; awaiting finish of 0 more threads\n",
            "2021-03-04 06:03:03,654 : INFO : EPOCH - 60 : training on 18816 raw words (15674 effective words) took 0.0s, 326884 effective words/s\n",
            "2021-03-04 06:03:03,703 : INFO : worker thread finished; awaiting finish of 1 more threads\n",
            "2021-03-04 06:03:03,704 : INFO : worker thread finished; awaiting finish of 0 more threads\n",
            "2021-03-04 06:03:03,705 : INFO : EPOCH - 61 : training on 18816 raw words (15680 effective words) took 0.0s, 385930 effective words/s\n",
            "2021-03-04 06:03:03,758 : INFO : worker thread finished; awaiting finish of 1 more threads\n",
            "2021-03-04 06:03:03,765 : INFO : worker thread finished; awaiting finish of 0 more threads\n",
            "2021-03-04 06:03:03,767 : INFO : EPOCH - 62 : training on 18816 raw words (15650 effective words) took 0.0s, 341954 effective words/s\n",
            "2021-03-04 06:03:03,824 : INFO : worker thread finished; awaiting finish of 1 more threads\n",
            "2021-03-04 06:03:03,826 : INFO : worker thread finished; awaiting finish of 0 more threads\n",
            "2021-03-04 06:03:03,828 : INFO : EPOCH - 63 : training on 18816 raw words (15747 effective words) took 0.0s, 402485 effective words/s\n",
            "2021-03-04 06:03:03,873 : INFO : worker thread finished; awaiting finish of 1 more threads\n",
            "2021-03-04 06:03:03,886 : INFO : worker thread finished; awaiting finish of 0 more threads\n",
            "2021-03-04 06:03:03,888 : INFO : EPOCH - 64 : training on 18816 raw words (15610 effective words) took 0.1s, 295299 effective words/s\n",
            "2021-03-04 06:03:03,932 : INFO : worker thread finished; awaiting finish of 1 more threads\n",
            "2021-03-04 06:03:03,937 : INFO : worker thread finished; awaiting finish of 0 more threads\n",
            "2021-03-04 06:03:03,939 : INFO : EPOCH - 65 : training on 18816 raw words (15704 effective words) took 0.0s, 325928 effective words/s\n",
            "2021-03-04 06:03:03,987 : INFO : worker thread finished; awaiting finish of 1 more threads\n",
            "2021-03-04 06:03:03,989 : INFO : worker thread finished; awaiting finish of 0 more threads\n",
            "2021-03-04 06:03:03,990 : INFO : EPOCH - 66 : training on 18816 raw words (15721 effective words) took 0.0s, 368956 effective words/s\n",
            "2021-03-04 06:03:04,033 : INFO : worker thread finished; awaiting finish of 1 more threads\n",
            "2021-03-04 06:03:04,048 : INFO : worker thread finished; awaiting finish of 0 more threads\n",
            "2021-03-04 06:03:04,049 : INFO : EPOCH - 67 : training on 18816 raw words (15690 effective words) took 0.1s, 285423 effective words/s\n",
            "2021-03-04 06:03:04,099 : INFO : worker thread finished; awaiting finish of 1 more threads\n",
            "2021-03-04 06:03:04,103 : INFO : worker thread finished; awaiting finish of 0 more threads\n",
            "2021-03-04 06:03:04,105 : INFO : EPOCH - 68 : training on 18816 raw words (15731 effective words) took 0.0s, 370194 effective words/s\n",
            "2021-03-04 06:03:04,156 : INFO : worker thread finished; awaiting finish of 1 more threads\n",
            "2021-03-04 06:03:04,168 : INFO : worker thread finished; awaiting finish of 0 more threads\n",
            "2021-03-04 06:03:04,169 : INFO : EPOCH - 69 : training on 18816 raw words (15753 effective words) took 0.0s, 319477 effective words/s\n",
            "2021-03-04 06:03:04,212 : INFO : worker thread finished; awaiting finish of 1 more threads\n",
            "2021-03-04 06:03:04,219 : INFO : worker thread finished; awaiting finish of 0 more threads\n",
            "2021-03-04 06:03:04,221 : INFO : EPOCH - 70 : training on 18816 raw words (15664 effective words) took 0.0s, 324933 effective words/s\n",
            "2021-03-04 06:03:04,271 : INFO : worker thread finished; awaiting finish of 1 more threads\n",
            "2021-03-04 06:03:04,279 : INFO : worker thread finished; awaiting finish of 0 more threads\n",
            "2021-03-04 06:03:04,280 : INFO : EPOCH - 71 : training on 18816 raw words (15602 effective words) took 0.0s, 332363 effective words/s\n",
            "2021-03-04 06:03:04,327 : INFO : worker thread finished; awaiting finish of 1 more threads\n",
            "2021-03-04 06:03:04,331 : INFO : worker thread finished; awaiting finish of 0 more threads\n",
            "2021-03-04 06:03:04,335 : INFO : EPOCH - 72 : training on 18816 raw words (15713 effective words) took 0.0s, 360954 effective words/s\n",
            "2021-03-04 06:03:04,378 : INFO : worker thread finished; awaiting finish of 1 more threads\n",
            "2021-03-04 06:03:04,386 : INFO : worker thread finished; awaiting finish of 0 more threads\n",
            "2021-03-04 06:03:04,388 : INFO : EPOCH - 73 : training on 18816 raw words (15670 effective words) took 0.0s, 330264 effective words/s\n",
            "2021-03-04 06:03:04,432 : INFO : worker thread finished; awaiting finish of 1 more threads\n",
            "2021-03-04 06:03:04,439 : INFO : worker thread finished; awaiting finish of 0 more threads\n",
            "2021-03-04 06:03:04,443 : INFO : EPOCH - 74 : training on 18816 raw words (15651 effective words) took 0.0s, 336003 effective words/s\n",
            "2021-03-04 06:03:04,487 : INFO : worker thread finished; awaiting finish of 1 more threads\n",
            "2021-03-04 06:03:04,491 : INFO : worker thread finished; awaiting finish of 0 more threads\n",
            "2021-03-04 06:03:04,493 : INFO : EPOCH - 75 : training on 18816 raw words (15727 effective words) took 0.0s, 369874 effective words/s\n",
            "2021-03-04 06:03:04,546 : INFO : worker thread finished; awaiting finish of 1 more threads\n",
            "2021-03-04 06:03:04,550 : INFO : worker thread finished; awaiting finish of 0 more threads\n",
            "2021-03-04 06:03:04,551 : INFO : EPOCH - 76 : training on 18816 raw words (15692 effective words) took 0.0s, 346708 effective words/s\n",
            "2021-03-04 06:03:04,595 : INFO : worker thread finished; awaiting finish of 1 more threads\n",
            "2021-03-04 06:03:04,600 : INFO : worker thread finished; awaiting finish of 0 more threads\n",
            "2021-03-04 06:03:04,602 : INFO : EPOCH - 77 : training on 18816 raw words (15676 effective words) took 0.0s, 366065 effective words/s\n",
            "2021-03-04 06:03:04,647 : INFO : worker thread finished; awaiting finish of 1 more threads\n",
            "2021-03-04 06:03:04,656 : INFO : worker thread finished; awaiting finish of 0 more threads\n",
            "2021-03-04 06:03:04,657 : INFO : EPOCH - 78 : training on 18816 raw words (15751 effective words) took 0.1s, 309721 effective words/s\n",
            "2021-03-04 06:03:04,704 : INFO : worker thread finished; awaiting finish of 1 more threads\n",
            "2021-03-04 06:03:04,710 : INFO : worker thread finished; awaiting finish of 0 more threads\n",
            "2021-03-04 06:03:04,712 : INFO : EPOCH - 79 : training on 18816 raw words (15685 effective words) took 0.0s, 320413 effective words/s\n",
            "2021-03-04 06:03:04,756 : INFO : worker thread finished; awaiting finish of 1 more threads\n",
            "2021-03-04 06:03:04,760 : INFO : worker thread finished; awaiting finish of 0 more threads\n",
            "2021-03-04 06:03:04,761 : INFO : EPOCH - 80 : training on 18816 raw words (15690 effective words) took 0.0s, 363492 effective words/s\n",
            "2021-03-04 06:03:04,811 : INFO : worker thread finished; awaiting finish of 1 more threads\n",
            "2021-03-04 06:03:04,817 : INFO : worker thread finished; awaiting finish of 0 more threads\n",
            "2021-03-04 06:03:04,821 : INFO : EPOCH - 81 : training on 18816 raw words (15717 effective words) took 0.0s, 331282 effective words/s\n",
            "2021-03-04 06:03:04,864 : INFO : worker thread finished; awaiting finish of 1 more threads\n",
            "2021-03-04 06:03:04,867 : INFO : worker thread finished; awaiting finish of 0 more threads\n",
            "2021-03-04 06:03:04,868 : INFO : EPOCH - 82 : training on 18816 raw words (15672 effective words) took 0.0s, 423490 effective words/s\n",
            "2021-03-04 06:03:04,914 : INFO : worker thread finished; awaiting finish of 1 more threads\n",
            "2021-03-04 06:03:04,920 : INFO : worker thread finished; awaiting finish of 0 more threads\n",
            "2021-03-04 06:03:04,921 : INFO : EPOCH - 83 : training on 18816 raw words (15651 effective words) took 0.0s, 381502 effective words/s\n",
            "2021-03-04 06:03:04,965 : INFO : worker thread finished; awaiting finish of 1 more threads\n",
            "2021-03-04 06:03:04,972 : INFO : worker thread finished; awaiting finish of 0 more threads\n",
            "2021-03-04 06:03:04,973 : INFO : EPOCH - 84 : training on 18816 raw words (15663 effective words) took 0.0s, 318142 effective words/s\n",
            "2021-03-04 06:03:05,018 : INFO : worker thread finished; awaiting finish of 1 more threads\n",
            "2021-03-04 06:03:05,025 : INFO : worker thread finished; awaiting finish of 0 more threads\n",
            "2021-03-04 06:03:05,026 : INFO : EPOCH - 85 : training on 18816 raw words (15690 effective words) took 0.1s, 309795 effective words/s\n",
            "2021-03-04 06:03:05,071 : INFO : worker thread finished; awaiting finish of 1 more threads\n",
            "2021-03-04 06:03:05,075 : INFO : worker thread finished; awaiting finish of 0 more threads\n",
            "2021-03-04 06:03:05,076 : INFO : EPOCH - 86 : training on 18816 raw words (15781 effective words) took 0.0s, 337216 effective words/s\n",
            "2021-03-04 06:03:05,120 : INFO : worker thread finished; awaiting finish of 1 more threads\n",
            "2021-03-04 06:03:05,123 : INFO : worker thread finished; awaiting finish of 0 more threads\n",
            "2021-03-04 06:03:05,124 : INFO : EPOCH - 87 : training on 18816 raw words (15686 effective words) took 0.0s, 392462 effective words/s\n",
            "2021-03-04 06:03:05,168 : INFO : worker thread finished; awaiting finish of 1 more threads\n",
            "2021-03-04 06:03:05,176 : INFO : worker thread finished; awaiting finish of 0 more threads\n",
            "2021-03-04 06:03:05,178 : INFO : EPOCH - 88 : training on 18816 raw words (15698 effective words) took 0.0s, 323812 effective words/s\n",
            "2021-03-04 06:03:05,220 : INFO : worker thread finished; awaiting finish of 1 more threads\n",
            "2021-03-04 06:03:05,227 : INFO : worker thread finished; awaiting finish of 0 more threads\n",
            "2021-03-04 06:03:05,229 : INFO : EPOCH - 89 : training on 18816 raw words (15669 effective words) took 0.0s, 329083 effective words/s\n",
            "2021-03-04 06:03:05,274 : INFO : worker thread finished; awaiting finish of 1 more threads\n",
            "2021-03-04 06:03:05,283 : INFO : worker thread finished; awaiting finish of 0 more threads\n",
            "2021-03-04 06:03:05,284 : INFO : EPOCH - 90 : training on 18816 raw words (15630 effective words) took 0.1s, 303018 effective words/s\n",
            "2021-03-04 06:03:05,326 : INFO : worker thread finished; awaiting finish of 1 more threads\n",
            "2021-03-04 06:03:05,331 : INFO : worker thread finished; awaiting finish of 0 more threads\n",
            "2021-03-04 06:03:05,333 : INFO : EPOCH - 91 : training on 18816 raw words (15600 effective words) took 0.0s, 344364 effective words/s\n",
            "2021-03-04 06:03:05,380 : INFO : worker thread finished; awaiting finish of 1 more threads\n",
            "2021-03-04 06:03:05,383 : INFO : worker thread finished; awaiting finish of 0 more threads\n",
            "2021-03-04 06:03:05,384 : INFO : EPOCH - 92 : training on 18816 raw words (15627 effective words) took 0.0s, 384712 effective words/s\n",
            "2021-03-04 06:03:05,430 : INFO : worker thread finished; awaiting finish of 1 more threads\n",
            "2021-03-04 06:03:05,439 : INFO : worker thread finished; awaiting finish of 0 more threads\n",
            "2021-03-04 06:03:05,440 : INFO : EPOCH - 93 : training on 18816 raw words (15616 effective words) took 0.0s, 333613 effective words/s\n",
            "2021-03-04 06:03:05,489 : INFO : worker thread finished; awaiting finish of 1 more threads\n",
            "2021-03-04 06:03:05,497 : INFO : worker thread finished; awaiting finish of 0 more threads\n",
            "2021-03-04 06:03:05,498 : INFO : EPOCH - 94 : training on 18816 raw words (15636 effective words) took 0.0s, 350971 effective words/s\n",
            "2021-03-04 06:03:05,552 : INFO : worker thread finished; awaiting finish of 1 more threads\n",
            "2021-03-04 06:03:05,559 : INFO : worker thread finished; awaiting finish of 0 more threads\n",
            "2021-03-04 06:03:05,561 : INFO : EPOCH - 95 : training on 18816 raw words (15623 effective words) took 0.1s, 309432 effective words/s\n",
            "2021-03-04 06:03:05,608 : INFO : worker thread finished; awaiting finish of 1 more threads\n",
            "2021-03-04 06:03:05,628 : INFO : worker thread finished; awaiting finish of 0 more threads\n",
            "2021-03-04 06:03:05,631 : INFO : EPOCH - 96 : training on 18816 raw words (15688 effective words) took 0.1s, 236862 effective words/s\n",
            "2021-03-04 06:03:05,673 : INFO : worker thread finished; awaiting finish of 1 more threads\n",
            "2021-03-04 06:03:05,678 : INFO : worker thread finished; awaiting finish of 0 more threads\n",
            "2021-03-04 06:03:05,679 : INFO : EPOCH - 97 : training on 18816 raw words (15704 effective words) took 0.0s, 369740 effective words/s\n",
            "2021-03-04 06:03:05,722 : INFO : worker thread finished; awaiting finish of 1 more threads\n",
            "2021-03-04 06:03:05,732 : INFO : worker thread finished; awaiting finish of 0 more threads\n",
            "2021-03-04 06:03:05,733 : INFO : EPOCH - 98 : training on 18816 raw words (15602 effective words) took 0.0s, 352774 effective words/s\n",
            "2021-03-04 06:03:05,778 : INFO : worker thread finished; awaiting finish of 1 more threads\n",
            "2021-03-04 06:03:05,780 : INFO : worker thread finished; awaiting finish of 0 more threads\n",
            "2021-03-04 06:03:05,781 : INFO : EPOCH - 99 : training on 18816 raw words (15690 effective words) took 0.0s, 355637 effective words/s\n",
            "2021-03-04 06:03:05,829 : INFO : worker thread finished; awaiting finish of 1 more threads\n",
            "2021-03-04 06:03:05,834 : INFO : worker thread finished; awaiting finish of 0 more threads\n",
            "2021-03-04 06:03:05,835 : INFO : EPOCH - 100 : training on 18816 raw words (15725 effective words) took 0.1s, 302221 effective words/s\n",
            "2021-03-04 06:03:05,836 : INFO : training on a 1881600 raw words (1567484 effective words) took 5.5s, 284324 effective words/s\n",
            "2021-03-04 06:03:05,837 : INFO : Vocabulary size: 1962\n",
            "2021-03-04 06:03:05,838 : INFO : Word2Vec trained\n",
            "2021-03-04 06:03:05,839 : INFO : Fit LabelEncoder\n",
            "2021-03-04 06:03:05,840 : INFO : Fit Tokenizer\n",
            "2021-03-04 06:03:05,901 : INFO : Number of unique words: 2140\n",
            "2021-03-04 06:03:05,902 : INFO : Create Embedding matrix\n",
            "2021-03-04 06:03:05,961 : INFO : Embedding matrix: (2140, 300)\n",
            "2021-03-04 06:03:05,962 : INFO : Build Keras model\n",
            "2021-03-04 06:03:05,963 : INFO : x_train shape: (351, 500)\n",
            "2021-03-04 06:03:05,964 : INFO : y_train shape: (351, 3)\n",
            "2021-03-04 06:03:05,965 : INFO : x_train shape: (58, 500)\n",
            "2021-03-04 06:03:05,966 : INFO : y_train shape: (58, 3)\n",
            "2021-03-04 06:03:06,201 : INFO : None\n"
          ],
          "name": "stderr"
        },
        {
          "output_type": "stream",
          "text": [
            "Model: \"sequential_10\"\n",
            "_________________________________________________________________\n",
            "Layer (type)                 Output Shape              Param #   \n",
            "=================================================================\n",
            "embedding_10 (Embedding)     (None, 500, 300)          642000    \n",
            "_________________________________________________________________\n",
            "lstm_10 (LSTM)               (None, 128)               219648    \n",
            "_________________________________________________________________\n",
            "dense_40 (Dense)             (None, 128)               16512     \n",
            "_________________________________________________________________\n",
            "dropout_30 (Dropout)         (None, 128)               0         \n",
            "_________________________________________________________________\n",
            "dense_41 (Dense)             (None, 64)                8256      \n",
            "_________________________________________________________________\n",
            "dropout_31 (Dropout)         (None, 64)                0         \n",
            "_________________________________________________________________\n",
            "dense_42 (Dense)             (None, 32)                2080      \n",
            "_________________________________________________________________\n",
            "dropout_32 (Dropout)         (None, 32)                0         \n",
            "_________________________________________________________________\n",
            "dense_43 (Dense)             (None, 3)                 99        \n",
            "=================================================================\n",
            "Total params: 888,595\n",
            "Trainable params: 246,595\n",
            "Non-trainable params: 642,000\n",
            "_________________________________________________________________\n",
            "WARNING:tensorflow:`epsilon` argument is deprecated and will be removed, use `min_delta` instead.\n"
          ],
          "name": "stdout"
        },
        {
          "output_type": "stream",
          "text": [
            "2021-03-04 06:03:06,201 : WARNING : `epsilon` argument is deprecated and will be removed, use `min_delta` instead.\n",
            "2021-03-04 06:03:06,216 : INFO : Fit Keras model\n"
          ],
          "name": "stderr"
        },
        {
          "output_type": "stream",
          "text": [
            "Epoch 1/150\n",
            "3/3 [==============================] - 14s 4s/step - loss: 1.0916 - accuracy: 0.3998 - val_loss: 1.0751 - val_accuracy: 0.3448\n",
            "WARNING:tensorflow:Learning rate reduction is conditioned on metric `acc` which is not available. Available metrics are: loss,accuracy,val_loss,val_accuracy,lr\n"
          ],
          "name": "stdout"
        },
        {
          "output_type": "stream",
          "text": [
            "2021-03-04 06:03:20,582 : WARNING : Learning rate reduction is conditioned on metric `acc` which is not available. Available metrics are: loss,accuracy,val_loss,val_accuracy,lr\n"
          ],
          "name": "stderr"
        },
        {
          "output_type": "stream",
          "text": [
            "Epoch 2/150\n",
            "3/3 [==============================] - 11s 4s/step - loss: 1.0287 - accuracy: 0.5163 - val_loss: 1.0510 - val_accuracy: 0.5172\n",
            "WARNING:tensorflow:Learning rate reduction is conditioned on metric `acc` which is not available. Available metrics are: loss,accuracy,val_loss,val_accuracy,lr\n"
          ],
          "name": "stdout"
        },
        {
          "output_type": "stream",
          "text": [
            "2021-03-04 06:03:32,007 : WARNING : Learning rate reduction is conditioned on metric `acc` which is not available. Available metrics are: loss,accuracy,val_loss,val_accuracy,lr\n"
          ],
          "name": "stderr"
        },
        {
          "output_type": "stream",
          "text": [
            "Epoch 3/150\n",
            "3/3 [==============================] - 11s 4s/step - loss: 0.9793 - accuracy: 0.5393 - val_loss: 0.9960 - val_accuracy: 0.6207\n",
            "WARNING:tensorflow:Learning rate reduction is conditioned on metric `acc` which is not available. Available metrics are: loss,accuracy,val_loss,val_accuracy,lr\n"
          ],
          "name": "stdout"
        },
        {
          "output_type": "stream",
          "text": [
            "2021-03-04 06:03:43,398 : WARNING : Learning rate reduction is conditioned on metric `acc` which is not available. Available metrics are: loss,accuracy,val_loss,val_accuracy,lr\n"
          ],
          "name": "stderr"
        },
        {
          "output_type": "stream",
          "text": [
            "Epoch 4/150\n",
            "3/3 [==============================] - 11s 4s/step - loss: 0.9420 - accuracy: 0.5622 - val_loss: 0.9228 - val_accuracy: 0.5690\n",
            "WARNING:tensorflow:Learning rate reduction is conditioned on metric `acc` which is not available. Available metrics are: loss,accuracy,val_loss,val_accuracy,lr\n"
          ],
          "name": "stdout"
        },
        {
          "output_type": "stream",
          "text": [
            "2021-03-04 06:03:54,871 : WARNING : Learning rate reduction is conditioned on metric `acc` which is not available. Available metrics are: loss,accuracy,val_loss,val_accuracy,lr\n"
          ],
          "name": "stderr"
        },
        {
          "output_type": "stream",
          "text": [
            "Epoch 5/150\n",
            "3/3 [==============================] - 12s 4s/step - loss: 0.8864 - accuracy: 0.5738 - val_loss: 0.8459 - val_accuracy: 0.6207\n",
            "WARNING:tensorflow:Learning rate reduction is conditioned on metric `acc` which is not available. Available metrics are: loss,accuracy,val_loss,val_accuracy,lr\n"
          ],
          "name": "stdout"
        },
        {
          "output_type": "stream",
          "text": [
            "2021-03-04 06:04:06,394 : WARNING : Learning rate reduction is conditioned on metric `acc` which is not available. Available metrics are: loss,accuracy,val_loss,val_accuracy,lr\n"
          ],
          "name": "stderr"
        },
        {
          "output_type": "stream",
          "text": [
            "Epoch 6/150\n",
            "3/3 [==============================] - 11s 4s/step - loss: 0.7971 - accuracy: 0.5936 - val_loss: 0.7867 - val_accuracy: 0.6552\n",
            "WARNING:tensorflow:Learning rate reduction is conditioned on metric `acc` which is not available. Available metrics are: loss,accuracy,val_loss,val_accuracy,lr\n"
          ],
          "name": "stdout"
        },
        {
          "output_type": "stream",
          "text": [
            "2021-03-04 06:04:17,868 : WARNING : Learning rate reduction is conditioned on metric `acc` which is not available. Available metrics are: loss,accuracy,val_loss,val_accuracy,lr\n"
          ],
          "name": "stderr"
        },
        {
          "output_type": "stream",
          "text": [
            "Epoch 7/150\n",
            "3/3 [==============================] - 11s 4s/step - loss: 0.7226 - accuracy: 0.6822 - val_loss: 0.7308 - val_accuracy: 0.6552\n",
            "WARNING:tensorflow:Learning rate reduction is conditioned on metric `acc` which is not available. Available metrics are: loss,accuracy,val_loss,val_accuracy,lr\n"
          ],
          "name": "stdout"
        },
        {
          "output_type": "stream",
          "text": [
            "2021-03-04 06:04:29,265 : WARNING : Learning rate reduction is conditioned on metric `acc` which is not available. Available metrics are: loss,accuracy,val_loss,val_accuracy,lr\n"
          ],
          "name": "stderr"
        },
        {
          "output_type": "stream",
          "text": [
            "Epoch 8/150\n",
            "3/3 [==============================] - 11s 4s/step - loss: 0.6135 - accuracy: 0.7106 - val_loss: 0.6797 - val_accuracy: 0.6897\n",
            "WARNING:tensorflow:Learning rate reduction is conditioned on metric `acc` which is not available. Available metrics are: loss,accuracy,val_loss,val_accuracy,lr\n"
          ],
          "name": "stdout"
        },
        {
          "output_type": "stream",
          "text": [
            "2021-03-04 06:04:40,770 : WARNING : Learning rate reduction is conditioned on metric `acc` which is not available. Available metrics are: loss,accuracy,val_loss,val_accuracy,lr\n"
          ],
          "name": "stderr"
        },
        {
          "output_type": "stream",
          "text": [
            "Epoch 9/150\n",
            "3/3 [==============================] - 11s 4s/step - loss: 0.5461 - accuracy: 0.7830 - val_loss: 0.6690 - val_accuracy: 0.7241\n",
            "WARNING:tensorflow:Learning rate reduction is conditioned on metric `acc` which is not available. Available metrics are: loss,accuracy,val_loss,val_accuracy,lr\n"
          ],
          "name": "stdout"
        },
        {
          "output_type": "stream",
          "text": [
            "2021-03-04 06:04:52,230 : WARNING : Learning rate reduction is conditioned on metric `acc` which is not available. Available metrics are: loss,accuracy,val_loss,val_accuracy,lr\n"
          ],
          "name": "stderr"
        },
        {
          "output_type": "stream",
          "text": [
            "Epoch 10/150\n",
            "3/3 [==============================] - 12s 4s/step - loss: 0.4742 - accuracy: 0.7855 - val_loss: 0.6198 - val_accuracy: 0.7414\n",
            "WARNING:tensorflow:Learning rate reduction is conditioned on metric `acc` which is not available. Available metrics are: loss,accuracy,val_loss,val_accuracy,lr\n"
          ],
          "name": "stdout"
        },
        {
          "output_type": "stream",
          "text": [
            "2021-03-04 06:05:03,885 : WARNING : Learning rate reduction is conditioned on metric `acc` which is not available. Available metrics are: loss,accuracy,val_loss,val_accuracy,lr\n"
          ],
          "name": "stderr"
        },
        {
          "output_type": "stream",
          "text": [
            "Epoch 11/150\n",
            "3/3 [==============================] - 12s 4s/step - loss: 0.4513 - accuracy: 0.8022 - val_loss: 0.6565 - val_accuracy: 0.7241\n",
            "WARNING:tensorflow:Learning rate reduction is conditioned on metric `acc` which is not available. Available metrics are: loss,accuracy,val_loss,val_accuracy,lr\n"
          ],
          "name": "stdout"
        },
        {
          "output_type": "stream",
          "text": [
            "2021-03-04 06:05:15,467 : WARNING : Learning rate reduction is conditioned on metric `acc` which is not available. Available metrics are: loss,accuracy,val_loss,val_accuracy,lr\n"
          ],
          "name": "stderr"
        },
        {
          "output_type": "stream",
          "text": [
            "Epoch 12/150\n",
            "3/3 [==============================] - 12s 4s/step - loss: 0.4319 - accuracy: 0.7918 - val_loss: 0.6404 - val_accuracy: 0.7931\n",
            "WARNING:tensorflow:Learning rate reduction is conditioned on metric `acc` which is not available. Available metrics are: loss,accuracy,val_loss,val_accuracy,lr\n"
          ],
          "name": "stdout"
        },
        {
          "output_type": "stream",
          "text": [
            "2021-03-04 06:05:26,990 : WARNING : Learning rate reduction is conditioned on metric `acc` which is not available. Available metrics are: loss,accuracy,val_loss,val_accuracy,lr\n"
          ],
          "name": "stderr"
        },
        {
          "output_type": "stream",
          "text": [
            "Epoch 13/150\n",
            "3/3 [==============================] - 12s 4s/step - loss: 0.3781 - accuracy: 0.8393 - val_loss: 0.6664 - val_accuracy: 0.7241\n",
            "WARNING:tensorflow:Learning rate reduction is conditioned on metric `acc` which is not available. Available metrics are: loss,accuracy,val_loss,val_accuracy,lr\n"
          ],
          "name": "stdout"
        },
        {
          "output_type": "stream",
          "text": [
            "2021-03-04 06:05:38,543 : WARNING : Learning rate reduction is conditioned on metric `acc` which is not available. Available metrics are: loss,accuracy,val_loss,val_accuracy,lr\n"
          ],
          "name": "stderr"
        },
        {
          "output_type": "stream",
          "text": [
            "Epoch 14/150\n",
            "3/3 [==============================] - 11s 4s/step - loss: 0.3535 - accuracy: 0.8445 - val_loss: 0.6985 - val_accuracy: 0.7241\n",
            "WARNING:tensorflow:Learning rate reduction is conditioned on metric `acc` which is not available. Available metrics are: loss,accuracy,val_loss,val_accuracy,lr\n"
          ],
          "name": "stdout"
        },
        {
          "output_type": "stream",
          "text": [
            "2021-03-04 06:05:49,956 : WARNING : Learning rate reduction is conditioned on metric `acc` which is not available. Available metrics are: loss,accuracy,val_loss,val_accuracy,lr\n"
          ],
          "name": "stderr"
        },
        {
          "output_type": "stream",
          "text": [
            "Epoch 15/150\n",
            "3/3 [==============================] - 11s 4s/step - loss: 0.2941 - accuracy: 0.8802 - val_loss: 0.6965 - val_accuracy: 0.7241\n",
            "WARNING:tensorflow:Learning rate reduction is conditioned on metric `acc` which is not available. Available metrics are: loss,accuracy,val_loss,val_accuracy,lr\n"
          ],
          "name": "stdout"
        },
        {
          "output_type": "stream",
          "text": [
            "2021-03-04 06:06:01,393 : WARNING : Learning rate reduction is conditioned on metric `acc` which is not available. Available metrics are: loss,accuracy,val_loss,val_accuracy,lr\n"
          ],
          "name": "stderr"
        },
        {
          "output_type": "stream",
          "text": [
            "Epoch 16/150\n",
            "3/3 [==============================] - 11s 4s/step - loss: 0.3217 - accuracy: 0.8346 - val_loss: 0.6986 - val_accuracy: 0.7414\n",
            "WARNING:tensorflow:Learning rate reduction is conditioned on metric `acc` which is not available. Available metrics are: loss,accuracy,val_loss,val_accuracy,lr\n"
          ],
          "name": "stdout"
        },
        {
          "output_type": "stream",
          "text": [
            "2021-03-04 06:06:12,826 : WARNING : Learning rate reduction is conditioned on metric `acc` which is not available. Available metrics are: loss,accuracy,val_loss,val_accuracy,lr\n"
          ],
          "name": "stderr"
        },
        {
          "output_type": "stream",
          "text": [
            "Epoch 17/150\n",
            "3/3 [==============================] - 11s 4s/step - loss: 0.2672 - accuracy: 0.9038 - val_loss: 0.7115 - val_accuracy: 0.7586\n",
            "WARNING:tensorflow:Learning rate reduction is conditioned on metric `acc` which is not available. Available metrics are: loss,accuracy,val_loss,val_accuracy,lr\n"
          ],
          "name": "stdout"
        },
        {
          "output_type": "stream",
          "text": [
            "2021-03-04 06:06:24,329 : WARNING : Learning rate reduction is conditioned on metric `acc` which is not available. Available metrics are: loss,accuracy,val_loss,val_accuracy,lr\n"
          ],
          "name": "stderr"
        },
        {
          "output_type": "stream",
          "text": [
            "Epoch 18/150\n",
            "3/3 [==============================] - 12s 4s/step - loss: 0.2378 - accuracy: 0.9178 - val_loss: 0.6806 - val_accuracy: 0.7759\n",
            "WARNING:tensorflow:Learning rate reduction is conditioned on metric `acc` which is not available. Available metrics are: loss,accuracy,val_loss,val_accuracy,lr\n"
          ],
          "name": "stdout"
        },
        {
          "output_type": "stream",
          "text": [
            "2021-03-04 06:06:35,858 : WARNING : Learning rate reduction is conditioned on metric `acc` which is not available. Available metrics are: loss,accuracy,val_loss,val_accuracy,lr\n"
          ],
          "name": "stderr"
        },
        {
          "output_type": "stream",
          "text": [
            "Epoch 19/150\n",
            "3/3 [==============================] - 11s 4s/step - loss: 0.2034 - accuracy: 0.9288 - val_loss: 0.6717 - val_accuracy: 0.7931\n",
            "WARNING:tensorflow:Learning rate reduction is conditioned on metric `acc` which is not available. Available metrics are: loss,accuracy,val_loss,val_accuracy,lr\n"
          ],
          "name": "stdout"
        },
        {
          "output_type": "stream",
          "text": [
            "2021-03-04 06:06:47,272 : WARNING : Learning rate reduction is conditioned on metric `acc` which is not available. Available metrics are: loss,accuracy,val_loss,val_accuracy,lr\n"
          ],
          "name": "stderr"
        },
        {
          "output_type": "stream",
          "text": [
            "Epoch 20/150\n",
            "3/3 [==============================] - 11s 4s/step - loss: 0.2284 - accuracy: 0.9094 - val_loss: 0.6917 - val_accuracy: 0.8103\n",
            "WARNING:tensorflow:Learning rate reduction is conditioned on metric `acc` which is not available. Available metrics are: loss,accuracy,val_loss,val_accuracy,lr\n"
          ],
          "name": "stdout"
        },
        {
          "output_type": "stream",
          "text": [
            "2021-03-04 06:06:58,628 : WARNING : Learning rate reduction is conditioned on metric `acc` which is not available. Available metrics are: loss,accuracy,val_loss,val_accuracy,lr\n"
          ],
          "name": "stderr"
        },
        {
          "output_type": "stream",
          "text": [
            "Epoch 21/150\n",
            "3/3 [==============================] - 11s 4s/step - loss: 0.1689 - accuracy: 0.9307 - val_loss: 0.7799 - val_accuracy: 0.7586\n",
            "WARNING:tensorflow:Learning rate reduction is conditioned on metric `acc` which is not available. Available metrics are: loss,accuracy,val_loss,val_accuracy,lr\n"
          ],
          "name": "stdout"
        },
        {
          "output_type": "stream",
          "text": [
            "2021-03-04 06:07:10,076 : WARNING : Learning rate reduction is conditioned on metric `acc` which is not available. Available metrics are: loss,accuracy,val_loss,val_accuracy,lr\n"
          ],
          "name": "stderr"
        },
        {
          "output_type": "stream",
          "text": [
            "Epoch 22/150\n",
            "3/3 [==============================] - 11s 4s/step - loss: 0.1699 - accuracy: 0.9509 - val_loss: 0.7684 - val_accuracy: 0.7931\n",
            "WARNING:tensorflow:Learning rate reduction is conditioned on metric `acc` which is not available. Available metrics are: loss,accuracy,val_loss,val_accuracy,lr\n"
          ],
          "name": "stdout"
        },
        {
          "output_type": "stream",
          "text": [
            "2021-03-04 06:07:21,464 : WARNING : Learning rate reduction is conditioned on metric `acc` which is not available. Available metrics are: loss,accuracy,val_loss,val_accuracy,lr\n"
          ],
          "name": "stderr"
        },
        {
          "output_type": "stream",
          "text": [
            "Epoch 23/150\n",
            "3/3 [==============================] - 11s 4s/step - loss: 0.1636 - accuracy: 0.9460 - val_loss: 0.7668 - val_accuracy: 0.8276\n",
            "WARNING:tensorflow:Learning rate reduction is conditioned on metric `acc` which is not available. Available metrics are: loss,accuracy,val_loss,val_accuracy,lr\n"
          ],
          "name": "stdout"
        },
        {
          "output_type": "stream",
          "text": [
            "2021-03-04 06:07:32,847 : WARNING : Learning rate reduction is conditioned on metric `acc` which is not available. Available metrics are: loss,accuracy,val_loss,val_accuracy,lr\n"
          ],
          "name": "stderr"
        },
        {
          "output_type": "stream",
          "text": [
            "Epoch 24/150\n",
            "3/3 [==============================] - 11s 4s/step - loss: 0.1571 - accuracy: 0.9569 - val_loss: 0.8921 - val_accuracy: 0.7759\n",
            "WARNING:tensorflow:Learning rate reduction is conditioned on metric `acc` which is not available. Available metrics are: loss,accuracy,val_loss,val_accuracy,lr\n"
          ],
          "name": "stdout"
        },
        {
          "output_type": "stream",
          "text": [
            "2021-03-04 06:07:44,211 : WARNING : Learning rate reduction is conditioned on metric `acc` which is not available. Available metrics are: loss,accuracy,val_loss,val_accuracy,lr\n"
          ],
          "name": "stderr"
        },
        {
          "output_type": "stream",
          "text": [
            "Epoch 25/150\n",
            "3/3 [==============================] - 11s 4s/step - loss: 0.1568 - accuracy: 0.9604 - val_loss: 0.8777 - val_accuracy: 0.8276\n",
            "WARNING:tensorflow:Learning rate reduction is conditioned on metric `acc` which is not available. Available metrics are: loss,accuracy,val_loss,val_accuracy,lr\n"
          ],
          "name": "stdout"
        },
        {
          "output_type": "stream",
          "text": [
            "2021-03-04 06:07:55,548 : WARNING : Learning rate reduction is conditioned on metric `acc` which is not available. Available metrics are: loss,accuracy,val_loss,val_accuracy,lr\n"
          ],
          "name": "stderr"
        },
        {
          "output_type": "stream",
          "text": [
            "Epoch 26/150\n",
            "3/3 [==============================] - 11s 4s/step - loss: 0.1306 - accuracy: 0.9515 - val_loss: 0.9481 - val_accuracy: 0.8276\n",
            "WARNING:tensorflow:Learning rate reduction is conditioned on metric `acc` which is not available. Available metrics are: loss,accuracy,val_loss,val_accuracy,lr\n"
          ],
          "name": "stdout"
        },
        {
          "output_type": "stream",
          "text": [
            "2021-03-04 06:08:06,896 : WARNING : Learning rate reduction is conditioned on metric `acc` which is not available. Available metrics are: loss,accuracy,val_loss,val_accuracy,lr\n"
          ],
          "name": "stderr"
        },
        {
          "output_type": "stream",
          "text": [
            "Epoch 27/150\n",
            "3/3 [==============================] - 11s 4s/step - loss: 0.0824 - accuracy: 0.9702 - val_loss: 1.1398 - val_accuracy: 0.7586\n",
            "WARNING:tensorflow:Learning rate reduction is conditioned on metric `acc` which is not available. Available metrics are: loss,accuracy,val_loss,val_accuracy,lr\n"
          ],
          "name": "stdout"
        },
        {
          "output_type": "stream",
          "text": [
            "2021-03-04 06:08:18,313 : WARNING : Learning rate reduction is conditioned on metric `acc` which is not available. Available metrics are: loss,accuracy,val_loss,val_accuracy,lr\n"
          ],
          "name": "stderr"
        },
        {
          "output_type": "stream",
          "text": [
            "Epoch 28/150\n",
            "3/3 [==============================] - 11s 4s/step - loss: 0.0684 - accuracy: 0.9788 - val_loss: 1.1453 - val_accuracy: 0.8276\n",
            "WARNING:tensorflow:Learning rate reduction is conditioned on metric `acc` which is not available. Available metrics are: loss,accuracy,val_loss,val_accuracy,lr\n"
          ],
          "name": "stdout"
        },
        {
          "output_type": "stream",
          "text": [
            "2021-03-04 06:08:29,623 : WARNING : Learning rate reduction is conditioned on metric `acc` which is not available. Available metrics are: loss,accuracy,val_loss,val_accuracy,lr\n"
          ],
          "name": "stderr"
        },
        {
          "output_type": "stream",
          "text": [
            "Epoch 29/150\n",
            "3/3 [==============================] - 11s 4s/step - loss: 0.1742 - accuracy: 0.9358 - val_loss: 1.0405 - val_accuracy: 0.7931\n",
            "WARNING:tensorflow:Learning rate reduction is conditioned on metric `acc` which is not available. Available metrics are: loss,accuracy,val_loss,val_accuracy,lr\n"
          ],
          "name": "stdout"
        },
        {
          "output_type": "stream",
          "text": [
            "2021-03-04 06:08:40,926 : WARNING : Learning rate reduction is conditioned on metric `acc` which is not available. Available metrics are: loss,accuracy,val_loss,val_accuracy,lr\n"
          ],
          "name": "stderr"
        },
        {
          "output_type": "stream",
          "text": [
            "Epoch 30/150\n",
            "3/3 [==============================] - 11s 4s/step - loss: 0.0926 - accuracy: 0.9590 - val_loss: 1.0007 - val_accuracy: 0.8103\n",
            "WARNING:tensorflow:Learning rate reduction is conditioned on metric `acc` which is not available. Available metrics are: loss,accuracy,val_loss,val_accuracy,lr\n"
          ],
          "name": "stdout"
        },
        {
          "output_type": "stream",
          "text": [
            "2021-03-04 06:08:52,335 : WARNING : Learning rate reduction is conditioned on metric `acc` which is not available. Available metrics are: loss,accuracy,val_loss,val_accuracy,lr\n"
          ],
          "name": "stderr"
        },
        {
          "output_type": "stream",
          "text": [
            "Epoch 31/150\n",
            "3/3 [==============================] - 11s 4s/step - loss: 0.0796 - accuracy: 0.9803 - val_loss: 0.9778 - val_accuracy: 0.8276\n",
            "WARNING:tensorflow:Learning rate reduction is conditioned on metric `acc` which is not available. Available metrics are: loss,accuracy,val_loss,val_accuracy,lr\n"
          ],
          "name": "stdout"
        },
        {
          "output_type": "stream",
          "text": [
            "2021-03-04 06:09:03,734 : WARNING : Learning rate reduction is conditioned on metric `acc` which is not available. Available metrics are: loss,accuracy,val_loss,val_accuracy,lr\n"
          ],
          "name": "stderr"
        },
        {
          "output_type": "stream",
          "text": [
            "Epoch 32/150\n",
            "3/3 [==============================] - 11s 4s/step - loss: 0.0478 - accuracy: 0.9890 - val_loss: 1.0009 - val_accuracy: 0.7931\n",
            "WARNING:tensorflow:Learning rate reduction is conditioned on metric `acc` which is not available. Available metrics are: loss,accuracy,val_loss,val_accuracy,lr\n"
          ],
          "name": "stdout"
        },
        {
          "output_type": "stream",
          "text": [
            "2021-03-04 06:09:15,051 : WARNING : Learning rate reduction is conditioned on metric `acc` which is not available. Available metrics are: loss,accuracy,val_loss,val_accuracy,lr\n"
          ],
          "name": "stderr"
        },
        {
          "output_type": "stream",
          "text": [
            "Epoch 33/150\n",
            "3/3 [==============================] - 11s 4s/step - loss: 0.0663 - accuracy: 0.9932 - val_loss: 1.0931 - val_accuracy: 0.8103\n",
            "WARNING:tensorflow:Learning rate reduction is conditioned on metric `acc` which is not available. Available metrics are: loss,accuracy,val_loss,val_accuracy,lr\n"
          ],
          "name": "stdout"
        },
        {
          "output_type": "stream",
          "text": [
            "2021-03-04 06:09:26,394 : WARNING : Learning rate reduction is conditioned on metric `acc` which is not available. Available metrics are: loss,accuracy,val_loss,val_accuracy,lr\n"
          ],
          "name": "stderr"
        },
        {
          "output_type": "stream",
          "text": [
            "Epoch 34/150\n",
            "3/3 [==============================] - 11s 4s/step - loss: 0.0391 - accuracy: 0.9928 - val_loss: 1.1916 - val_accuracy: 0.8276\n",
            "WARNING:tensorflow:Learning rate reduction is conditioned on metric `acc` which is not available. Available metrics are: loss,accuracy,val_loss,val_accuracy,lr\n"
          ],
          "name": "stdout"
        },
        {
          "output_type": "stream",
          "text": [
            "2021-03-04 06:09:37,769 : WARNING : Learning rate reduction is conditioned on metric `acc` which is not available. Available metrics are: loss,accuracy,val_loss,val_accuracy,lr\n"
          ],
          "name": "stderr"
        },
        {
          "output_type": "stream",
          "text": [
            "Epoch 35/150\n",
            "3/3 [==============================] - 11s 4s/step - loss: 0.0267 - accuracy: 0.9956 - val_loss: 1.3275 - val_accuracy: 0.8103\n",
            "WARNING:tensorflow:Learning rate reduction is conditioned on metric `acc` which is not available. Available metrics are: loss,accuracy,val_loss,val_accuracy,lr\n"
          ],
          "name": "stdout"
        },
        {
          "output_type": "stream",
          "text": [
            "2021-03-04 06:09:49,092 : WARNING : Learning rate reduction is conditioned on metric `acc` which is not available. Available metrics are: loss,accuracy,val_loss,val_accuracy,lr\n"
          ],
          "name": "stderr"
        },
        {
          "output_type": "stream",
          "text": [
            "Epoch 36/150\n",
            "3/3 [==============================] - 11s 4s/step - loss: 0.0359 - accuracy: 0.9894 - val_loss: 1.4751 - val_accuracy: 0.7931\n",
            "WARNING:tensorflow:Learning rate reduction is conditioned on metric `acc` which is not available. Available metrics are: loss,accuracy,val_loss,val_accuracy,lr\n"
          ],
          "name": "stdout"
        },
        {
          "output_type": "stream",
          "text": [
            "2021-03-04 06:10:00,497 : WARNING : Learning rate reduction is conditioned on metric `acc` which is not available. Available metrics are: loss,accuracy,val_loss,val_accuracy,lr\n"
          ],
          "name": "stderr"
        },
        {
          "output_type": "stream",
          "text": [
            "Epoch 37/150\n",
            "3/3 [==============================] - 11s 4s/step - loss: 0.0396 - accuracy: 0.9827 - val_loss: 1.6361 - val_accuracy: 0.7586\n",
            "WARNING:tensorflow:Learning rate reduction is conditioned on metric `acc` which is not available. Available metrics are: loss,accuracy,val_loss,val_accuracy,lr\n"
          ],
          "name": "stdout"
        },
        {
          "output_type": "stream",
          "text": [
            "2021-03-04 06:10:11,785 : WARNING : Learning rate reduction is conditioned on metric `acc` which is not available. Available metrics are: loss,accuracy,val_loss,val_accuracy,lr\n"
          ],
          "name": "stderr"
        },
        {
          "output_type": "stream",
          "text": [
            "Epoch 38/150\n",
            "3/3 [==============================] - 11s 4s/step - loss: 0.0444 - accuracy: 0.9865 - val_loss: 1.5633 - val_accuracy: 0.7759\n",
            "WARNING:tensorflow:Learning rate reduction is conditioned on metric `acc` which is not available. Available metrics are: loss,accuracy,val_loss,val_accuracy,lr\n"
          ],
          "name": "stdout"
        },
        {
          "output_type": "stream",
          "text": [
            "2021-03-04 06:10:23,191 : WARNING : Learning rate reduction is conditioned on metric `acc` which is not available. Available metrics are: loss,accuracy,val_loss,val_accuracy,lr\n"
          ],
          "name": "stderr"
        },
        {
          "output_type": "stream",
          "text": [
            "Epoch 39/150\n",
            "3/3 [==============================] - 12s 4s/step - loss: 0.0201 - accuracy: 0.9942 - val_loss: 1.4053 - val_accuracy: 0.8276\n",
            "WARNING:tensorflow:Learning rate reduction is conditioned on metric `acc` which is not available. Available metrics are: loss,accuracy,val_loss,val_accuracy,lr\n"
          ],
          "name": "stdout"
        },
        {
          "output_type": "stream",
          "text": [
            "2021-03-04 06:10:34,703 : WARNING : Learning rate reduction is conditioned on metric `acc` which is not available. Available metrics are: loss,accuracy,val_loss,val_accuracy,lr\n"
          ],
          "name": "stderr"
        },
        {
          "output_type": "stream",
          "text": [
            "Epoch 40/150\n",
            "3/3 [==============================] - 11s 4s/step - loss: 0.0094 - accuracy: 0.9986 - val_loss: 1.4549 - val_accuracy: 0.8276\n",
            "WARNING:tensorflow:Learning rate reduction is conditioned on metric `acc` which is not available. Available metrics are: loss,accuracy,val_loss,val_accuracy,lr\n"
          ],
          "name": "stdout"
        },
        {
          "output_type": "stream",
          "text": [
            "2021-03-04 06:10:46,149 : WARNING : Learning rate reduction is conditioned on metric `acc` which is not available. Available metrics are: loss,accuracy,val_loss,val_accuracy,lr\n"
          ],
          "name": "stderr"
        },
        {
          "output_type": "stream",
          "text": [
            "Epoch 41/150\n",
            "3/3 [==============================] - 11s 4s/step - loss: 0.0136 - accuracy: 1.0000 - val_loss: 1.5867 - val_accuracy: 0.8276\n",
            "WARNING:tensorflow:Learning rate reduction is conditioned on metric `acc` which is not available. Available metrics are: loss,accuracy,val_loss,val_accuracy,lr\n"
          ],
          "name": "stdout"
        },
        {
          "output_type": "stream",
          "text": [
            "2021-03-04 06:10:57,435 : WARNING : Learning rate reduction is conditioned on metric `acc` which is not available. Available metrics are: loss,accuracy,val_loss,val_accuracy,lr\n"
          ],
          "name": "stderr"
        },
        {
          "output_type": "stream",
          "text": [
            "Epoch 42/150\n",
            "3/3 [==============================] - 11s 4s/step - loss: 0.0049 - accuracy: 1.0000 - val_loss: 1.7702 - val_accuracy: 0.8103\n",
            "WARNING:tensorflow:Learning rate reduction is conditioned on metric `acc` which is not available. Available metrics are: loss,accuracy,val_loss,val_accuracy,lr\n"
          ],
          "name": "stdout"
        },
        {
          "output_type": "stream",
          "text": [
            "2021-03-04 06:11:08,757 : WARNING : Learning rate reduction is conditioned on metric `acc` which is not available. Available metrics are: loss,accuracy,val_loss,val_accuracy,lr\n"
          ],
          "name": "stderr"
        },
        {
          "output_type": "stream",
          "text": [
            "Epoch 43/150\n",
            "3/3 [==============================] - 11s 4s/step - loss: 0.0129 - accuracy: 1.0000 - val_loss: 1.8619 - val_accuracy: 0.7931\n",
            "WARNING:tensorflow:Learning rate reduction is conditioned on metric `acc` which is not available. Available metrics are: loss,accuracy,val_loss,val_accuracy,lr\n"
          ],
          "name": "stdout"
        },
        {
          "output_type": "stream",
          "text": [
            "2021-03-04 06:11:20,060 : WARNING : Learning rate reduction is conditioned on metric `acc` which is not available. Available metrics are: loss,accuracy,val_loss,val_accuracy,lr\n"
          ],
          "name": "stderr"
        },
        {
          "output_type": "stream",
          "text": [
            "Epoch 44/150\n",
            "3/3 [==============================] - 11s 4s/step - loss: 0.0135 - accuracy: 0.9932 - val_loss: 1.8472 - val_accuracy: 0.8276\n",
            "WARNING:tensorflow:Learning rate reduction is conditioned on metric `acc` which is not available. Available metrics are: loss,accuracy,val_loss,val_accuracy,lr\n"
          ],
          "name": "stdout"
        },
        {
          "output_type": "stream",
          "text": [
            "2021-03-04 06:11:31,459 : WARNING : Learning rate reduction is conditioned on metric `acc` which is not available. Available metrics are: loss,accuracy,val_loss,val_accuracy,lr\n"
          ],
          "name": "stderr"
        },
        {
          "output_type": "stream",
          "text": [
            "Epoch 45/150\n",
            "3/3 [==============================] - 11s 4s/step - loss: 0.0071 - accuracy: 1.0000 - val_loss: 1.8715 - val_accuracy: 0.8276\n",
            "WARNING:tensorflow:Learning rate reduction is conditioned on metric `acc` which is not available. Available metrics are: loss,accuracy,val_loss,val_accuracy,lr\n"
          ],
          "name": "stdout"
        },
        {
          "output_type": "stream",
          "text": [
            "2021-03-04 06:11:42,783 : WARNING : Learning rate reduction is conditioned on metric `acc` which is not available. Available metrics are: loss,accuracy,val_loss,val_accuracy,lr\n"
          ],
          "name": "stderr"
        },
        {
          "output_type": "stream",
          "text": [
            "Epoch 46/150\n",
            "3/3 [==============================] - 11s 4s/step - loss: 0.0161 - accuracy: 0.9938 - val_loss: 2.1102 - val_accuracy: 0.7759\n",
            "WARNING:tensorflow:Learning rate reduction is conditioned on metric `acc` which is not available. Available metrics are: loss,accuracy,val_loss,val_accuracy,lr\n"
          ],
          "name": "stdout"
        },
        {
          "output_type": "stream",
          "text": [
            "2021-03-04 06:11:54,147 : WARNING : Learning rate reduction is conditioned on metric `acc` which is not available. Available metrics are: loss,accuracy,val_loss,val_accuracy,lr\n"
          ],
          "name": "stderr"
        },
        {
          "output_type": "stream",
          "text": [
            "Epoch 47/150\n",
            "3/3 [==============================] - 11s 4s/step - loss: 0.0128 - accuracy: 0.9956 - val_loss: 2.2083 - val_accuracy: 0.7241\n",
            "WARNING:tensorflow:Learning rate reduction is conditioned on metric `acc` which is not available. Available metrics are: loss,accuracy,val_loss,val_accuracy,lr\n"
          ],
          "name": "stdout"
        },
        {
          "output_type": "stream",
          "text": [
            "2021-03-04 06:12:05,489 : WARNING : Learning rate reduction is conditioned on metric `acc` which is not available. Available metrics are: loss,accuracy,val_loss,val_accuracy,lr\n"
          ],
          "name": "stderr"
        },
        {
          "output_type": "stream",
          "text": [
            "Epoch 48/150\n",
            "3/3 [==============================] - 11s 4s/step - loss: 0.0091 - accuracy: 0.9952 - val_loss: 2.0301 - val_accuracy: 0.7931\n",
            "WARNING:tensorflow:Learning rate reduction is conditioned on metric `acc` which is not available. Available metrics are: loss,accuracy,val_loss,val_accuracy,lr\n"
          ],
          "name": "stdout"
        },
        {
          "output_type": "stream",
          "text": [
            "2021-03-04 06:12:16,804 : WARNING : Learning rate reduction is conditioned on metric `acc` which is not available. Available metrics are: loss,accuracy,val_loss,val_accuracy,lr\n"
          ],
          "name": "stderr"
        },
        {
          "output_type": "stream",
          "text": [
            "Epoch 49/150\n",
            "3/3 [==============================] - 11s 4s/step - loss: 0.0265 - accuracy: 0.9908 - val_loss: 2.0407 - val_accuracy: 0.7931\n",
            "WARNING:tensorflow:Learning rate reduction is conditioned on metric `acc` which is not available. Available metrics are: loss,accuracy,val_loss,val_accuracy,lr\n"
          ],
          "name": "stdout"
        },
        {
          "output_type": "stream",
          "text": [
            "2021-03-04 06:12:28,084 : WARNING : Learning rate reduction is conditioned on metric `acc` which is not available. Available metrics are: loss,accuracy,val_loss,val_accuracy,lr\n"
          ],
          "name": "stderr"
        },
        {
          "output_type": "stream",
          "text": [
            "Epoch 50/150\n",
            "3/3 [==============================] - 11s 4s/step - loss: 0.0135 - accuracy: 0.9956 - val_loss: 2.0802 - val_accuracy: 0.7931\n",
            "WARNING:tensorflow:Learning rate reduction is conditioned on metric `acc` which is not available. Available metrics are: loss,accuracy,val_loss,val_accuracy,lr\n"
          ],
          "name": "stdout"
        },
        {
          "output_type": "stream",
          "text": [
            "2021-03-04 06:12:39,442 : WARNING : Learning rate reduction is conditioned on metric `acc` which is not available. Available metrics are: loss,accuracy,val_loss,val_accuracy,lr\n"
          ],
          "name": "stderr"
        },
        {
          "output_type": "stream",
          "text": [
            "Epoch 51/150\n",
            "3/3 [==============================] - 11s 4s/step - loss: 0.0139 - accuracy: 0.9972 - val_loss: 2.0574 - val_accuracy: 0.7931\n",
            "WARNING:tensorflow:Learning rate reduction is conditioned on metric `acc` which is not available. Available metrics are: loss,accuracy,val_loss,val_accuracy,lr\n"
          ],
          "name": "stdout"
        },
        {
          "output_type": "stream",
          "text": [
            "2021-03-04 06:12:50,814 : WARNING : Learning rate reduction is conditioned on metric `acc` which is not available. Available metrics are: loss,accuracy,val_loss,val_accuracy,lr\n"
          ],
          "name": "stderr"
        },
        {
          "output_type": "stream",
          "text": [
            "Epoch 52/150\n",
            "3/3 [==============================] - 11s 4s/step - loss: 0.0062 - accuracy: 1.0000 - val_loss: 1.9598 - val_accuracy: 0.7931\n",
            "WARNING:tensorflow:Learning rate reduction is conditioned on metric `acc` which is not available. Available metrics are: loss,accuracy,val_loss,val_accuracy,lr\n"
          ],
          "name": "stdout"
        },
        {
          "output_type": "stream",
          "text": [
            "2021-03-04 06:13:02,167 : WARNING : Learning rate reduction is conditioned on metric `acc` which is not available. Available metrics are: loss,accuracy,val_loss,val_accuracy,lr\n"
          ],
          "name": "stderr"
        },
        {
          "output_type": "stream",
          "text": [
            "Epoch 53/150\n",
            "3/3 [==============================] - 11s 4s/step - loss: 0.0172 - accuracy: 0.9976 - val_loss: 1.8627 - val_accuracy: 0.8103\n",
            "WARNING:tensorflow:Learning rate reduction is conditioned on metric `acc` which is not available. Available metrics are: loss,accuracy,val_loss,val_accuracy,lr\n"
          ],
          "name": "stdout"
        },
        {
          "output_type": "stream",
          "text": [
            "2021-03-04 06:13:13,503 : WARNING : Learning rate reduction is conditioned on metric `acc` which is not available. Available metrics are: loss,accuracy,val_loss,val_accuracy,lr\n"
          ],
          "name": "stderr"
        },
        {
          "output_type": "stream",
          "text": [
            "Epoch 54/150\n",
            "3/3 [==============================] - 12s 4s/step - loss: 0.0162 - accuracy: 0.9918 - val_loss: 1.7580 - val_accuracy: 0.7931\n",
            "WARNING:tensorflow:Learning rate reduction is conditioned on metric `acc` which is not available. Available metrics are: loss,accuracy,val_loss,val_accuracy,lr\n"
          ],
          "name": "stdout"
        },
        {
          "output_type": "stream",
          "text": [
            "2021-03-04 06:13:25,135 : WARNING : Learning rate reduction is conditioned on metric `acc` which is not available. Available metrics are: loss,accuracy,val_loss,val_accuracy,lr\n"
          ],
          "name": "stderr"
        },
        {
          "output_type": "stream",
          "text": [
            "Epoch 55/150\n",
            "3/3 [==============================] - 11s 4s/step - loss: 0.0114 - accuracy: 0.9976 - val_loss: 1.8052 - val_accuracy: 0.7759\n",
            "WARNING:tensorflow:Learning rate reduction is conditioned on metric `acc` which is not available. Available metrics are: loss,accuracy,val_loss,val_accuracy,lr\n"
          ],
          "name": "stdout"
        },
        {
          "output_type": "stream",
          "text": [
            "2021-03-04 06:13:36,522 : WARNING : Learning rate reduction is conditioned on metric `acc` which is not available. Available metrics are: loss,accuracy,val_loss,val_accuracy,lr\n"
          ],
          "name": "stderr"
        },
        {
          "output_type": "stream",
          "text": [
            "Epoch 56/150\n",
            "3/3 [==============================] - 11s 4s/step - loss: 0.0149 - accuracy: 0.9956 - val_loss: 2.0538 - val_accuracy: 0.7241\n",
            "WARNING:tensorflow:Learning rate reduction is conditioned on metric `acc` which is not available. Available metrics are: loss,accuracy,val_loss,val_accuracy,lr\n"
          ],
          "name": "stdout"
        },
        {
          "output_type": "stream",
          "text": [
            "2021-03-04 06:13:47,913 : WARNING : Learning rate reduction is conditioned on metric `acc` which is not available. Available metrics are: loss,accuracy,val_loss,val_accuracy,lr\n"
          ],
          "name": "stderr"
        },
        {
          "output_type": "stream",
          "text": [
            "Epoch 57/150\n",
            "3/3 [==============================] - 11s 4s/step - loss: 0.0276 - accuracy: 0.9928 - val_loss: 1.9903 - val_accuracy: 0.7759\n",
            "WARNING:tensorflow:Learning rate reduction is conditioned on metric `acc` which is not available. Available metrics are: loss,accuracy,val_loss,val_accuracy,lr\n"
          ],
          "name": "stdout"
        },
        {
          "output_type": "stream",
          "text": [
            "2021-03-04 06:13:59,311 : WARNING : Learning rate reduction is conditioned on metric `acc` which is not available. Available metrics are: loss,accuracy,val_loss,val_accuracy,lr\n"
          ],
          "name": "stderr"
        },
        {
          "output_type": "stream",
          "text": [
            "Epoch 58/150\n",
            "3/3 [==============================] - 11s 4s/step - loss: 0.0081 - accuracy: 0.9942 - val_loss: 1.9794 - val_accuracy: 0.7759\n",
            "WARNING:tensorflow:Learning rate reduction is conditioned on metric `acc` which is not available. Available metrics are: loss,accuracy,val_loss,val_accuracy,lr\n"
          ],
          "name": "stdout"
        },
        {
          "output_type": "stream",
          "text": [
            "2021-03-04 06:14:10,622 : WARNING : Learning rate reduction is conditioned on metric `acc` which is not available. Available metrics are: loss,accuracy,val_loss,val_accuracy,lr\n"
          ],
          "name": "stderr"
        },
        {
          "output_type": "stream",
          "text": [
            "Epoch 59/150\n",
            "3/3 [==============================] - 11s 4s/step - loss: 0.0072 - accuracy: 1.0000 - val_loss: 2.0529 - val_accuracy: 0.7759\n",
            "WARNING:tensorflow:Learning rate reduction is conditioned on metric `acc` which is not available. Available metrics are: loss,accuracy,val_loss,val_accuracy,lr\n"
          ],
          "name": "stdout"
        },
        {
          "output_type": "stream",
          "text": [
            "2021-03-04 06:14:21,941 : WARNING : Learning rate reduction is conditioned on metric `acc` which is not available. Available metrics are: loss,accuracy,val_loss,val_accuracy,lr\n"
          ],
          "name": "stderr"
        },
        {
          "output_type": "stream",
          "text": [
            "Epoch 60/150\n",
            "3/3 [==============================] - 11s 4s/step - loss: 0.0045 - accuracy: 0.9986 - val_loss: 2.1197 - val_accuracy: 0.7586\n",
            "WARNING:tensorflow:Learning rate reduction is conditioned on metric `acc` which is not available. Available metrics are: loss,accuracy,val_loss,val_accuracy,lr\n"
          ],
          "name": "stdout"
        },
        {
          "output_type": "stream",
          "text": [
            "2021-03-04 06:14:33,310 : WARNING : Learning rate reduction is conditioned on metric `acc` which is not available. Available metrics are: loss,accuracy,val_loss,val_accuracy,lr\n",
            "2021-03-04 06:14:33,313 : INFO : Done\n"
          ],
          "name": "stderr"
        },
        {
          "output_type": "stream",
          "text": [
            "Index(['loss', 'accuracy', 'val_loss', 'val_accuracy', 'lr'], dtype='object')\n",
            "        loss  accuracy  val_loss  val_accuracy     lr\n",
            "0   1.095461  0.387464  1.075132      0.344828  0.001\n",
            "1   1.033227  0.501424  1.050953      0.517241  0.001\n",
            "2   0.982703  0.535613  0.996025      0.620690  0.001\n",
            "3   0.932615  0.575499  0.922827      0.568965  0.001\n",
            "4   0.866544  0.581197  0.845928      0.620690  0.001\n",
            "5   0.789389  0.595442  0.786650      0.655172  0.001\n",
            "6   0.711961  0.686610  0.730787      0.655172  0.001\n",
            "7   0.615770  0.712251  0.679679      0.689655  0.001\n",
            "8   0.542616  0.774929  0.668956      0.724138  0.001\n",
            "9   0.496179  0.772080  0.619794      0.741379  0.001\n",
            "10  0.449603  0.797721  0.656458      0.724138  0.001\n",
            "11  0.411133  0.806268  0.640442      0.793103  0.001\n",
            "12  0.374075  0.834758  0.666385      0.724138  0.001\n",
            "13  0.357096  0.843305  0.698543      0.724138  0.001\n",
            "14  0.309112  0.871795  0.696497      0.724138  0.001\n",
            "15  0.298828  0.854701  0.698624      0.741379  0.001\n",
            "16  0.268997  0.897436  0.711451      0.758621  0.001\n",
            "17  0.242962  0.911681  0.680631      0.775862  0.001\n",
            "18  0.211357  0.925926  0.671669      0.793103  0.001\n",
            "19  0.222647  0.914530  0.691707      0.810345  0.001\n",
            "20  0.167628  0.931624  0.779950      0.758621  0.001\n",
            "21  0.169377  0.948718  0.768379      0.793103  0.001\n",
            "22  0.155920  0.948718  0.766813      0.827586  0.001\n",
            "23  0.161697  0.943020  0.892149      0.775862  0.001\n",
            "24  0.134432  0.965812  0.877722      0.827586  0.001\n",
            "25  0.144767  0.945869  0.948144      0.827586  0.001\n",
            "26  0.090256  0.965812  1.139844      0.758621  0.001\n",
            "27  0.068572  0.977208  1.145270      0.827586  0.001\n",
            "28  0.144079  0.945869  1.040532      0.793103  0.001\n",
            "29  0.087317  0.962963  1.000703      0.810345  0.001\n",
            "30  0.085699  0.980057  0.977798      0.827586  0.001\n",
            "31  0.053781  0.985755  1.000909      0.793103  0.001\n",
            "32  0.056610  0.994302  1.093071      0.810345  0.001\n",
            "33  0.038857  0.991453  1.191634      0.827586  0.001\n",
            "34  0.024597  0.997151  1.327479      0.810345  0.001\n",
            "35  0.036100  0.988604  1.475138      0.793103  0.001\n",
            "36  0.037480  0.982906  1.636065      0.758621  0.001\n",
            "37  0.038300  0.988604  1.563333      0.775862  0.001\n",
            "38  0.024079  0.994302  1.405306      0.827586  0.001\n",
            "39  0.011230  0.997151  1.454929      0.827586  0.001\n",
            "40  0.011442  1.000000  1.586659      0.827586  0.001\n",
            "41  0.005002  1.000000  1.770165      0.810345  0.001\n",
            "42  0.010407  1.000000  1.861886      0.793103  0.001\n",
            "43  0.012436  0.994302  1.847174      0.827586  0.001\n",
            "44  0.006439  1.000000  1.871489      0.827586  0.001\n",
            "45  0.018441  0.991453  2.110199      0.775862  0.001\n",
            "46  0.009612  0.997151  2.208285      0.724138  0.001\n",
            "47  0.009463  0.994302  2.030083      0.793103  0.001\n",
            "48  0.025259  0.991453  2.040650      0.793103  0.001\n",
            "49  0.010365  0.997151  2.080220      0.793103  0.001\n",
            "50  0.023303  0.994302  2.057404      0.793103  0.001\n",
            "51  0.007092  1.000000  1.959753      0.793103  0.001\n",
            "52  0.018515  0.997151  1.862738      0.810345  0.001\n",
            "53  0.015859  0.991453  1.758031      0.793103  0.001\n",
            "54  0.012495  0.997151  1.805238      0.775862  0.001\n",
            "55  0.012565  0.997151  2.053760      0.724138  0.001\n",
            "56  0.031208  0.991453  1.990254      0.775862  0.001\n",
            "57  0.008594  0.994302  1.979432      0.775862  0.001\n",
            "58  0.006801  1.000000  2.052892      0.775862  0.001\n",
            "59  0.006301  0.997151  2.119669      0.758621  0.001\n",
            "WARNING:tensorflow:6 out of the last 11 calls to <function Model.make_predict_function.<locals>.predict_function at 0x7fbea00e0830> triggered tf.function retracing. Tracing is expensive and the excessive number of tracings could be due to (1) creating @tf.function repeatedly in a loop, (2) passing tensors with different shapes, (3) passing Python objects instead of tensors. For (1), please define your @tf.function outside of the loop. For (2), @tf.function has experimental_relax_shapes=True option that relaxes argument shapes that can avoid unnecessary retracing. For (3), please refer to https://www.tensorflow.org/guide/function#controlling_retracing and https://www.tensorflow.org/api_docs/python/tf/function for  more details.\n"
          ],
          "name": "stdout"
        },
        {
          "output_type": "stream",
          "text": [
            "2021-03-04 06:14:33,944 : WARNING : 6 out of the last 11 calls to <function Model.make_predict_function.<locals>.predict_function at 0x7fbea00e0830> triggered tf.function retracing. Tracing is expensive and the excessive number of tracings could be due to (1) creating @tf.function repeatedly in a loop, (2) passing tensors with different shapes, (3) passing Python objects instead of tensors. For (1), please define your @tf.function outside of the loop. For (2), @tf.function has experimental_relax_shapes=True option that relaxes argument shapes that can avoid unnecessary retracing. For (3), please refer to https://www.tensorflow.org/guide/function#controlling_retracing and https://www.tensorflow.org/api_docs/python/tf/function for  more details.\n"
          ],
          "name": "stderr"
        },
        {
          "output_type": "stream",
          "text": [
            "2/2 [==============================] - 1s 220ms/step\n",
            "{'CLASSIFICATION_REPORT': {'0': {'precision': 0.7837837837837838, 'recall': 0.8529411764705882, 'f1-score': 0.8169014084507041, 'support': 34}, '1': {'precision': 0.6470588235294118, 'recall': 0.55, 'f1-score': 0.5945945945945946, 'support': 20}, '2': {'precision': 0.75, 'recall': 0.75, 'f1-score': 0.75, 'support': 4}, 'accuracy': 0.7413793103448276, 'macro avg': {'precision': 0.7269475357710652, 'recall': 0.7176470588235294, 'f1-score': 0.7204986676817663, 'support': 58}, 'weighted avg': {'precision': 0.7343073296420153, 'recall': 0.7413793103448276, 'f1-score': 0.7356299961933764, 'support': 58}}, 'CONFUSION_MATRIX': array([[29,  5,  0],\n",
            "       [ 8, 11,  1],\n",
            "       [ 0,  1,  3]]), 'ACCURACY': 0.7413793103448276}\n"
          ],
          "name": "stdout"
        },
        {
          "output_type": "display_data",
          "data": {
            "image/png": "[encoded data removed]",
            "text/plain": [
              "<Figure size 432x288 with 1 Axes>"
            ]
          },
          "metadata": {
            "tags": [],
            "needs_background": "light"
          }
        },
        {
          "output_type": "display_data",
          "data": {
            "image/png": "[encoded data removed]",
            "text/plain": [
              "<Figure size 432x288 with 1 Axes>"
            ]
          },
          "metadata": {
            "tags": [],
            "needs_background": "light"
          }
        }
      ]
    },
    {
      "cell_type": "markdown",
      "metadata": {
        "id": "_IWxDxnU0TrV"
      },
      "source": [
        "# New Section"
      ]
    }
  ]
}